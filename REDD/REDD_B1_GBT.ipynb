{
 "cells": [
  {
   "cell_type": "code",
   "execution_count": 1,
   "id": "c5be936f-3554-438e-8e4f-531ec1408d7a",
   "metadata": {
    "execution": {
     "iopub.execute_input": "2023-08-14T23:45:48.512624Z",
     "iopub.status.busy": "2023-08-14T23:45:48.511935Z",
     "iopub.status.idle": "2023-08-14T23:45:50.129060Z",
     "shell.execute_reply": "2023-08-14T23:45:50.128679Z",
     "shell.execute_reply.started": "2023-08-14T23:45:48.512517Z"
    },
    "tags": []
   },
   "outputs": [
    {
     "name": "stdout",
     "output_type": "stream",
     "text": [
      "Start time: 2011-04-18 09:22:09, End time: 2011-05-24 15:57:02\n"
     ]
    }
   ],
   "source": [
    "from nilmtk import DataSet\n",
    "\n",
    "import pandas as pd\n",
    "import numpy as np\n",
    "from sklearn.metrics import mean_squared_error, mean_absolute_error, r2_score\n",
    "from __future__ import print_function, division\n",
    "import time\n",
    "from nilmtk import DataSet, TimeFrame, MeterGroup, HDFDataStore\n",
    "import nilmtk.utils\n",
    "redd = DataSet('/Users/evangelosgeraridis/Desktop/redd.h5')\n",
    "\n",
    "# Select a house from the dataset (e.g., House 1)\n",
    "first_building = redd.buildings[1]\n",
    "train = DataSet('/Users/evangelosgeraridis/Desktop/redd.h5')\n",
    "test = DataSet('/Users/evangelosgeraridis/Desktop/redd.h5')\n",
    "# Let us see now what dates are recorded in the building 1 subdataset from redd\n",
    "\n",
    "\n",
    "building_instance = 1  # Specify the building instance you want to work with\n",
    "\n",
    "# Access the elec object for the specified building instance\n",
    "elec = redd.buildings[building_instance].elec\n",
    "\n",
    "# Get the available timeframe\n",
    "timeframe = elec.get_timeframe()\n",
    "\n",
    "# Print the start and end timestamps to see the available dates for building 1 \n",
    "start_time = timeframe.start.strftime(\"%Y-%m-%d %H:%M:%S\")\n",
    "end_time = timeframe.end.strftime(\"%Y-%m-%d %H:%M:%S\")\n",
    "print(f\"Start time: {start_time}, End time: {end_time}\")"
   ]
  },
  {
   "cell_type": "code",
   "execution_count": 2,
   "id": "cc0c6281-e6de-4b61-9c9d-9c5695d96163",
   "metadata": {
    "execution": {
     "iopub.execute_input": "2023-08-14T23:45:56.516713Z",
     "iopub.status.busy": "2023-08-14T23:45:56.515694Z",
     "iopub.status.idle": "2023-08-14T23:46:01.819178Z",
     "shell.execute_reply": "2023-08-14T23:46:01.818771Z",
     "shell.execute_reply.started": "2023-08-14T23:45:56.516664Z"
    },
    "tags": []
   },
   "outputs": [
    {
     "name": "stdout",
     "output_type": "stream",
     "text": [
      "2/16 ElecMeter(instance=6, building=1, dataset='REDD', appliances=[Appliance(type='dish washer', instance=1)])"
     ]
    },
    {
     "name": "stderr",
     "output_type": "stream",
     "text": [
      "/Users/evangelosgeraridis/nilmtk/results.py:77: FutureWarning: The frame.append method is deprecated and will be removed from pandas in a future version. Use pandas.concat instead.\n",
      "  self._data = self._data.append(row, verify_integrity=True, sort=False)\n",
      "/Users/evangelosgeraridis/nilmtk/results.py:108: FutureWarning: The frame.append method is deprecated and will be removed from pandas in a future version. Use pandas.concat instead.\n",
      "  self._data = self._data.append(new_result._data, sort=False)\n",
      "/Users/evangelosgeraridis/nilmtk/elecmeter.py:742: FutureWarning: Passing a set as an indexer is deprecated and will raise in a future version. Use a list instead.\n",
      "  return pd.Series(res[ac_types], index=ac_types)\n"
     ]
    },
    {
     "name": "stdout",
     "output_type": "stream",
     "text": [
      "3/16 ElecMeter(instance=7, building=1, dataset='REDD', appliances=[Appliance(type='sockets', instance=1)])"
     ]
    },
    {
     "name": "stderr",
     "output_type": "stream",
     "text": [
      "/Users/evangelosgeraridis/nilmtk/results.py:77: FutureWarning: The frame.append method is deprecated and will be removed from pandas in a future version. Use pandas.concat instead.\n",
      "  self._data = self._data.append(row, verify_integrity=True, sort=False)\n",
      "/Users/evangelosgeraridis/nilmtk/results.py:108: FutureWarning: The frame.append method is deprecated and will be removed from pandas in a future version. Use pandas.concat instead.\n",
      "  self._data = self._data.append(new_result._data, sort=False)\n",
      "/Users/evangelosgeraridis/nilmtk/elecmeter.py:742: FutureWarning: Passing a set as an indexer is deprecated and will raise in a future version. Use a list instead.\n",
      "  return pd.Series(res[ac_types], index=ac_types)\n"
     ]
    },
    {
     "name": "stdout",
     "output_type": "stream",
     "text": [
      "4/16 ElecMeter(instance=8, building=1, dataset='REDD', appliances=[Appliance(type='sockets', instance=2)])"
     ]
    },
    {
     "name": "stderr",
     "output_type": "stream",
     "text": [
      "/Users/evangelosgeraridis/nilmtk/results.py:77: FutureWarning: The frame.append method is deprecated and will be removed from pandas in a future version. Use pandas.concat instead.\n",
      "  self._data = self._data.append(row, verify_integrity=True, sort=False)\n",
      "/Users/evangelosgeraridis/nilmtk/results.py:108: FutureWarning: The frame.append method is deprecated and will be removed from pandas in a future version. Use pandas.concat instead.\n",
      "  self._data = self._data.append(new_result._data, sort=False)\n",
      "/Users/evangelosgeraridis/nilmtk/elecmeter.py:742: FutureWarning: Passing a set as an indexer is deprecated and will raise in a future version. Use a list instead.\n",
      "  return pd.Series(res[ac_types], index=ac_types)\n"
     ]
    },
    {
     "name": "stdout",
     "output_type": "stream",
     "text": [
      "5/16 ElecMeter(instance=9, building=1, dataset='REDD', appliances=[Appliance(type='light', instance=1)])"
     ]
    },
    {
     "name": "stderr",
     "output_type": "stream",
     "text": [
      "/Users/evangelosgeraridis/nilmtk/results.py:77: FutureWarning: The frame.append method is deprecated and will be removed from pandas in a future version. Use pandas.concat instead.\n",
      "  self._data = self._data.append(row, verify_integrity=True, sort=False)\n",
      "/Users/evangelosgeraridis/nilmtk/results.py:108: FutureWarning: The frame.append method is deprecated and will be removed from pandas in a future version. Use pandas.concat instead.\n",
      "  self._data = self._data.append(new_result._data, sort=False)\n",
      "/Users/evangelosgeraridis/nilmtk/elecmeter.py:742: FutureWarning: Passing a set as an indexer is deprecated and will raise in a future version. Use a list instead.\n",
      "  return pd.Series(res[ac_types], index=ac_types)\n"
     ]
    },
    {
     "name": "stdout",
     "output_type": "stream",
     "text": [
      "6/16 ElecMeter(instance=11, building=1, dataset='REDD', appliances=[Appliance(type='microwave', instance=1)])"
     ]
    },
    {
     "name": "stderr",
     "output_type": "stream",
     "text": [
      "/Users/evangelosgeraridis/nilmtk/results.py:77: FutureWarning: The frame.append method is deprecated and will be removed from pandas in a future version. Use pandas.concat instead.\n",
      "  self._data = self._data.append(row, verify_integrity=True, sort=False)\n",
      "/Users/evangelosgeraridis/nilmtk/results.py:108: FutureWarning: The frame.append method is deprecated and will be removed from pandas in a future version. Use pandas.concat instead.\n",
      "  self._data = self._data.append(new_result._data, sort=False)\n",
      "/Users/evangelosgeraridis/nilmtk/elecmeter.py:742: FutureWarning: Passing a set as an indexer is deprecated and will raise in a future version. Use a list instead.\n",
      "  return pd.Series(res[ac_types], index=ac_types)\n"
     ]
    },
    {
     "name": "stdout",
     "output_type": "stream",
     "text": [
      "7/16 ElecMeter(instance=12, building=1, dataset='REDD', appliances=[Appliance(type='unknown', instance=1)])"
     ]
    },
    {
     "name": "stderr",
     "output_type": "stream",
     "text": [
      "/Users/evangelosgeraridis/nilmtk/results.py:77: FutureWarning: The frame.append method is deprecated and will be removed from pandas in a future version. Use pandas.concat instead.\n",
      "  self._data = self._data.append(row, verify_integrity=True, sort=False)\n",
      "/Users/evangelosgeraridis/nilmtk/results.py:108: FutureWarning: The frame.append method is deprecated and will be removed from pandas in a future version. Use pandas.concat instead.\n",
      "  self._data = self._data.append(new_result._data, sort=False)\n",
      "/Users/evangelosgeraridis/nilmtk/elecmeter.py:742: FutureWarning: Passing a set as an indexer is deprecated and will raise in a future version. Use a list instead.\n",
      "  return pd.Series(res[ac_types], index=ac_types)\n"
     ]
    },
    {
     "name": "stdout",
     "output_type": "stream",
     "text": [
      "8/16 ElecMeter(instance=13, building=1, dataset='REDD', appliances=[Appliance(type='electric space heater', instance=1)])"
     ]
    },
    {
     "name": "stderr",
     "output_type": "stream",
     "text": [
      "/Users/evangelosgeraridis/nilmtk/results.py:77: FutureWarning: The frame.append method is deprecated and will be removed from pandas in a future version. Use pandas.concat instead.\n",
      "  self._data = self._data.append(row, verify_integrity=True, sort=False)\n",
      "/Users/evangelosgeraridis/nilmtk/results.py:108: FutureWarning: The frame.append method is deprecated and will be removed from pandas in a future version. Use pandas.concat instead.\n",
      "  self._data = self._data.append(new_result._data, sort=False)\n",
      "/Users/evangelosgeraridis/nilmtk/elecmeter.py:742: FutureWarning: Passing a set as an indexer is deprecated and will raise in a future version. Use a list instead.\n",
      "  return pd.Series(res[ac_types], index=ac_types)\n"
     ]
    },
    {
     "name": "stdout",
     "output_type": "stream",
     "text": [
      "9/16 ElecMeter(instance=14, building=1, dataset='REDD', appliances=[Appliance(type='electric stove', instance=1)])"
     ]
    },
    {
     "name": "stderr",
     "output_type": "stream",
     "text": [
      "/Users/evangelosgeraridis/nilmtk/results.py:77: FutureWarning: The frame.append method is deprecated and will be removed from pandas in a future version. Use pandas.concat instead.\n",
      "  self._data = self._data.append(row, verify_integrity=True, sort=False)\n",
      "/Users/evangelosgeraridis/nilmtk/results.py:108: FutureWarning: The frame.append method is deprecated and will be removed from pandas in a future version. Use pandas.concat instead.\n",
      "  self._data = self._data.append(new_result._data, sort=False)\n",
      "/Users/evangelosgeraridis/nilmtk/elecmeter.py:742: FutureWarning: Passing a set as an indexer is deprecated and will raise in a future version. Use a list instead.\n",
      "  return pd.Series(res[ac_types], index=ac_types)\n"
     ]
    },
    {
     "name": "stdout",
     "output_type": "stream",
     "text": [
      "10/16 ElecMeter(instance=15, building=1, dataset='REDD', appliances=[Appliance(type='sockets', instance=3)])"
     ]
    },
    {
     "name": "stderr",
     "output_type": "stream",
     "text": [
      "/Users/evangelosgeraridis/nilmtk/results.py:77: FutureWarning: The frame.append method is deprecated and will be removed from pandas in a future version. Use pandas.concat instead.\n",
      "  self._data = self._data.append(row, verify_integrity=True, sort=False)\n",
      "/Users/evangelosgeraridis/nilmtk/results.py:108: FutureWarning: The frame.append method is deprecated and will be removed from pandas in a future version. Use pandas.concat instead.\n",
      "  self._data = self._data.append(new_result._data, sort=False)\n",
      "/Users/evangelosgeraridis/nilmtk/elecmeter.py:742: FutureWarning: Passing a set as an indexer is deprecated and will raise in a future version. Use a list instead.\n",
      "  return pd.Series(res[ac_types], index=ac_types)\n"
     ]
    },
    {
     "name": "stdout",
     "output_type": "stream",
     "text": [
      "11/16 ElecMeter(instance=16, building=1, dataset='REDD', appliances=[Appliance(type='sockets', instance=4)])"
     ]
    },
    {
     "name": "stderr",
     "output_type": "stream",
     "text": [
      "/Users/evangelosgeraridis/nilmtk/results.py:77: FutureWarning: The frame.append method is deprecated and will be removed from pandas in a future version. Use pandas.concat instead.\n",
      "  self._data = self._data.append(row, verify_integrity=True, sort=False)\n",
      "/Users/evangelosgeraridis/nilmtk/results.py:108: FutureWarning: The frame.append method is deprecated and will be removed from pandas in a future version. Use pandas.concat instead.\n",
      "  self._data = self._data.append(new_result._data, sort=False)\n",
      "/Users/evangelosgeraridis/nilmtk/elecmeter.py:742: FutureWarning: Passing a set as an indexer is deprecated and will raise in a future version. Use a list instead.\n",
      "  return pd.Series(res[ac_types], index=ac_types)\n"
     ]
    },
    {
     "name": "stdout",
     "output_type": "stream",
     "text": [
      "12/16 ElecMeter(instance=17, building=1, dataset='REDD', appliances=[Appliance(type='light', instance=2)])"
     ]
    },
    {
     "name": "stderr",
     "output_type": "stream",
     "text": [
      "/Users/evangelosgeraridis/nilmtk/results.py:77: FutureWarning: The frame.append method is deprecated and will be removed from pandas in a future version. Use pandas.concat instead.\n",
      "  self._data = self._data.append(row, verify_integrity=True, sort=False)\n",
      "/Users/evangelosgeraridis/nilmtk/results.py:108: FutureWarning: The frame.append method is deprecated and will be removed from pandas in a future version. Use pandas.concat instead.\n",
      "  self._data = self._data.append(new_result._data, sort=False)\n",
      "/Users/evangelosgeraridis/nilmtk/elecmeter.py:742: FutureWarning: Passing a set as an indexer is deprecated and will raise in a future version. Use a list instead.\n",
      "  return pd.Series(res[ac_types], index=ac_types)\n"
     ]
    },
    {
     "name": "stdout",
     "output_type": "stream",
     "text": [
      "13/16 ElecMeter(instance=18, building=1, dataset='REDD', appliances=[Appliance(type='light', instance=3)])"
     ]
    },
    {
     "name": "stderr",
     "output_type": "stream",
     "text": [
      "/Users/evangelosgeraridis/nilmtk/results.py:77: FutureWarning: The frame.append method is deprecated and will be removed from pandas in a future version. Use pandas.concat instead.\n",
      "  self._data = self._data.append(row, verify_integrity=True, sort=False)\n",
      "/Users/evangelosgeraridis/nilmtk/results.py:108: FutureWarning: The frame.append method is deprecated and will be removed from pandas in a future version. Use pandas.concat instead.\n",
      "  self._data = self._data.append(new_result._data, sort=False)\n",
      "/Users/evangelosgeraridis/nilmtk/elecmeter.py:742: FutureWarning: Passing a set as an indexer is deprecated and will raise in a future version. Use a list instead.\n",
      "  return pd.Series(res[ac_types], index=ac_types)\n"
     ]
    },
    {
     "name": "stdout",
     "output_type": "stream",
     "text": [
      "14/16 ElecMeter(instance=19, building=1, dataset='REDD', appliances=[Appliance(type='unknown', instance=2)])"
     ]
    },
    {
     "name": "stderr",
     "output_type": "stream",
     "text": [
      "/Users/evangelosgeraridis/nilmtk/results.py:77: FutureWarning: The frame.append method is deprecated and will be removed from pandas in a future version. Use pandas.concat instead.\n",
      "  self._data = self._data.append(row, verify_integrity=True, sort=False)\n",
      "/Users/evangelosgeraridis/nilmtk/results.py:108: FutureWarning: The frame.append method is deprecated and will be removed from pandas in a future version. Use pandas.concat instead.\n",
      "  self._data = self._data.append(new_result._data, sort=False)\n",
      "/Users/evangelosgeraridis/nilmtk/elecmeter.py:742: FutureWarning: Passing a set as an indexer is deprecated and will raise in a future version. Use a list instead.\n",
      "  return pd.Series(res[ac_types], index=ac_types)\n"
     ]
    },
    {
     "name": "stdout",
     "output_type": "stream",
     "text": [
      "15/16 MeterGroup(meters=\n",
      "  ElecMeter(instance=3, building=1, dataset='REDD', appliances=[Appliance(type='electric oven', instance=1)])\n",
      "  ElecMeter(instance=4, building=1, dataset='REDD', appliances=[Appliance(type='electric oven', instance=1)])\n",
      "Calculating total_energy for ElecMeterID(instance=3, building=1, dataset='REDD') ...   "
     ]
    },
    {
     "name": "stderr",
     "output_type": "stream",
     "text": [
      "/Users/evangelosgeraridis/nilmtk/results.py:77: FutureWarning: The frame.append method is deprecated and will be removed from pandas in a future version. Use pandas.concat instead.\n",
      "  self._data = self._data.append(row, verify_integrity=True, sort=False)\n",
      "/Users/evangelosgeraridis/nilmtk/results.py:108: FutureWarning: The frame.append method is deprecated and will be removed from pandas in a future version. Use pandas.concat instead.\n",
      "  self._data = self._data.append(new_result._data, sort=False)\n",
      "/Users/evangelosgeraridis/nilmtk/elecmeter.py:742: FutureWarning: Passing a set as an indexer is deprecated and will raise in a future version. Use a list instead.\n",
      "  return pd.Series(res[ac_types], index=ac_types)\n"
     ]
    },
    {
     "name": "stdout",
     "output_type": "stream",
     "text": [
      "Calculating total_energy for ElecMeterID(instance=4, building=1, dataset='REDD') ...   "
     ]
    },
    {
     "name": "stderr",
     "output_type": "stream",
     "text": [
      "/Users/evangelosgeraridis/nilmtk/results.py:77: FutureWarning: The frame.append method is deprecated and will be removed from pandas in a future version. Use pandas.concat instead.\n",
      "  self._data = self._data.append(row, verify_integrity=True, sort=False)\n",
      "/Users/evangelosgeraridis/nilmtk/results.py:108: FutureWarning: The frame.append method is deprecated and will be removed from pandas in a future version. Use pandas.concat instead.\n",
      "  self._data = self._data.append(new_result._data, sort=False)\n",
      "/Users/evangelosgeraridis/nilmtk/elecmeter.py:742: FutureWarning: Passing a set as an indexer is deprecated and will raise in a future version. Use a list instead.\n",
      "  return pd.Series(res[ac_types], index=ac_types)\n"
     ]
    },
    {
     "name": "stdout",
     "output_type": "stream",
     "text": [
      "16/16 MeterGroup(meters=\n",
      "  ElecMeter(instance=10, building=1, dataset='REDD', appliances=[Appliance(type='washer dryer', instance=1)])\n",
      "  ElecMeter(instance=20, building=1, dataset='REDD', appliances=[Appliance(type='washer dryer', instance=1)])\n",
      "Calculating total_energy for ElecMeterID(instance=10, building=1, dataset='REDD') ...   "
     ]
    },
    {
     "name": "stderr",
     "output_type": "stream",
     "text": [
      "/Users/evangelosgeraridis/nilmtk/results.py:77: FutureWarning: The frame.append method is deprecated and will be removed from pandas in a future version. Use pandas.concat instead.\n",
      "  self._data = self._data.append(row, verify_integrity=True, sort=False)\n",
      "/Users/evangelosgeraridis/nilmtk/results.py:108: FutureWarning: The frame.append method is deprecated and will be removed from pandas in a future version. Use pandas.concat instead.\n",
      "  self._data = self._data.append(new_result._data, sort=False)\n",
      "/Users/evangelosgeraridis/nilmtk/elecmeter.py:742: FutureWarning: Passing a set as an indexer is deprecated and will raise in a future version. Use a list instead.\n",
      "  return pd.Series(res[ac_types], index=ac_types)\n"
     ]
    },
    {
     "name": "stdout",
     "output_type": "stream",
     "text": [
      "Calculating total_energy for ElecMeterID(instance=20, building=1, dataset='REDD') ...   "
     ]
    },
    {
     "name": "stderr",
     "output_type": "stream",
     "text": [
      "/Users/evangelosgeraridis/nilmtk/results.py:77: FutureWarning: The frame.append method is deprecated and will be removed from pandas in a future version. Use pandas.concat instead.\n",
      "  self._data = self._data.append(row, verify_integrity=True, sort=False)\n",
      "/Users/evangelosgeraridis/nilmtk/results.py:108: FutureWarning: The frame.append method is deprecated and will be removed from pandas in a future version. Use pandas.concat instead.\n",
      "  self._data = self._data.append(new_result._data, sort=False)\n",
      "/Users/evangelosgeraridis/nilmtk/elecmeter.py:742: FutureWarning: Passing a set as an indexer is deprecated and will raise in a future version. Use a list instead.\n",
      "  return pd.Series(res[ac_types], index=ac_types)\n",
      "/Users/evangelosgeraridis/nilmtk/results.py:77: FutureWarning: The frame.append method is deprecated and will be removed from pandas in a future version. Use pandas.concat instead.\n",
      "  self._data = self._data.append(row, verify_integrity=True, sort=False)\n",
      "/Users/evangelosgeraridis/nilmtk/results.py:108: FutureWarning: The frame.append method is deprecated and will be removed from pandas in a future version. Use pandas.concat instead.\n",
      "  self._data = self._data.append(new_result._data, sort=False)\n",
      "/Users/evangelosgeraridis/nilmtk/elecmeter.py:742: FutureWarning: Passing a set as an indexer is deprecated and will raise in a future version. Use a list instead.\n",
      "  return pd.Series(res[ac_types], index=ac_types)\n"
     ]
    }
   ],
   "source": [
    "train_elec = train.buildings[1].elec\n",
    "test_elec = test.buildings[1].elec\n",
    "\n",
    "# let us selct the top 5 most signifficatnt/ frequent devices \n",
    "\n",
    "top_5_train_elec = train_elec.submeters().select_top_k(k=5)"
   ]
  },
  {
   "cell_type": "code",
   "execution_count": 3,
   "id": "eb780d48-2898-4a75-a98c-2c9d9af68323",
   "metadata": {
    "execution": {
     "iopub.execute_input": "2023-08-14T23:46:09.942483Z",
     "iopub.status.busy": "2023-08-14T23:46:09.941751Z",
     "iopub.status.idle": "2023-08-14T23:46:09.952709Z",
     "shell.execute_reply": "2023-08-14T23:46:09.951833Z",
     "shell.execute_reply.started": "2023-08-14T23:46:09.942433Z"
    },
    "tags": []
   },
   "outputs": [
    {
     "name": "stdout",
     "output_type": "stream",
     "text": [
      "fridge\n",
      "washer dryer\n",
      "light\n",
      "sockets\n",
      "dish washer\n"
     ]
    }
   ],
   "source": [
    "# print these apliances ( 5 most signifficant or freqent)\n",
    "if top_5_train_elec.meters:\n",
    "    # Get the names of the top 5 submeters\n",
    "    top_5_names = [elec.appliances[0].metadata['type'] for elec in top_5_train_elec.meters]\n",
    "\n",
    "    # Print the names of the top 5 submeters\n",
    "    for name in top_5_names:\n",
    "        print(name)\n",
    "else:\n",
    "    print(\"No submeters found.\")\n"
   ]
  },
  {
   "cell_type": "code",
   "execution_count": 4,
   "id": "b1963277-1107-47d4-b8cf-1922643d5516",
   "metadata": {
    "execution": {
     "iopub.execute_input": "2023-08-14T23:47:16.116438Z",
     "iopub.status.busy": "2023-08-14T23:47:16.114969Z",
     "iopub.status.idle": "2023-08-14T23:47:19.000972Z",
     "shell.execute_reply": "2023-08-14T23:47:19.000621Z",
     "shell.execute_reply.started": "2023-08-14T23:47:16.116371Z"
    },
    "tags": []
   },
   "outputs": [
    {
     "name": "stderr",
     "output_type": "stream",
     "text": [
      "23/08/15 02:47:17 WARN Utils: Your hostname, Evangeloss-MacBook-Air.local resolves to a loopback address: 127.0.0.1; using 192.168.2.2 instead (on interface en0)\n",
      "23/08/15 02:47:17 WARN Utils: Set SPARK_LOCAL_IP if you need to bind to another address\n",
      "Ivy Default Cache set to: /Users/evangelosgeraridis/.ivy2/cache\n",
      "The jars for the packages stored in: /Users/evangelosgeraridis/.ivy2/jars\n",
      "org.apache.spark#spark-mllib_2.12 added as a dependency\n",
      ":: resolving dependencies :: org.apache.spark#spark-submit-parent-352330c3-ad93-4545-b10e-f3ae55c52d7d;1.0\n",
      "\tconfs: [default]\n"
     ]
    },
    {
     "name": "stdout",
     "output_type": "stream",
     "text": [
      ":: loading settings :: url = jar:file:/opt/miniconda3/envs/nilmenv/lib/python3.8/site-packages/pyspark/jars/ivy-2.5.1.jar!/org/apache/ivy/core/settings/ivysettings.xml\n"
     ]
    },
    {
     "name": "stderr",
     "output_type": "stream",
     "text": [
      ":: resolution report :: resolve 25ms :: artifacts dl 0ms\n",
      "\t:: modules in use:\n",
      "\t---------------------------------------------------------------------\n",
      "\t|                  |            modules            ||   artifacts   |\n",
      "\t|       conf       | number| search|dwnlded|evicted|| number|dwnlded|\n",
      "\t---------------------------------------------------------------------\n",
      "\t|      default     |   0   |   0   |   0   |   0   ||   0   |   0   |\n",
      "\t---------------------------------------------------------------------\n",
      ":: retrieving :: org.apache.spark#spark-submit-parent-352330c3-ad93-4545-b10e-f3ae55c52d7d\n",
      "\tconfs: [default]\n",
      "\t0 artifacts copied, 0 already retrieved (0kB/3ms)\n",
      "Setting default log level to \"WARN\".\n",
      "To adjust logging level use sc.setLogLevel(newLevel). For SparkR, use setLogLevel(newLevel).\n",
      "23/08/15 02:47:18 WARN NativeCodeLoader: Unable to load native-hadoop library for your platform... using builtin-java classes where applicable\n"
     ]
    }
   ],
   "source": [
    "from pyspark.sql import SparkSession\n",
    "from pyspark.sql.functions import col\n",
    "\n",
    "import warnings\n",
    "warnings.filterwarnings(\"ignore\", category=DeprecationWarning)\n",
    "warnings.filterwarnings(\"ignore\", category=FutureWarning)\n",
    "# Create a SparkSession\n",
    "spark = SparkSession.builder \\\n",
    "    .master(\"local[*]\") \\\n",
    "    .appName(\"Spark_GradientBoostedTrees_REDD_Expiriment_b1.com\") \\\n",
    "    .config(\"spark.jars.packages\", \"org.apache.spark:spark-mllib_2.12:3.2.0\") \\\n",
    "    .config(\"spark.driver.memory\", \"6g\") \\\n",
    "    .config(\"spark.executor.memory\", \"6g\") \\\n",
    "    .config(\"spark.executor.cores\", \"7\") \\\n",
    "    .config(\"spark.driver.maxResultSize\", \"5g\") \\\n",
    "    .config(\"spark.sql.shuffle.partitions\", \"10000\") \\\n",
    "    .config(\"spark.sql.autoBroadcastJoinThreshold\", \"-1\") \\\n",
    "    .getOrCreate()\n",
    "\n",
    "    \n",
    "\n",
    " #  all available cores on the machine\n",
    "#spark app name\n",
    "# amount of memory allocated to the driver program.\n",
    " #  amount of memory allocated to each executor (worker) in Spark.\n",
    "# important as the below in this project Sets the number of cores used by each execut\n",
    "# IMPORTANT here: Sets the maximum size of the results returned to the driver program\n",
    " #Sets the number of partitions to use when shuffling data in Spark SQL"
   ]
  },
  {
   "cell_type": "code",
   "execution_count": 5,
   "id": "a809a880-bfbf-492f-a892-a50d95456833",
   "metadata": {
    "execution": {
     "iopub.execute_input": "2023-08-14T23:47:37.348507Z",
     "iopub.status.busy": "2023-08-14T23:47:37.348111Z",
     "iopub.status.idle": "2023-08-14T23:49:51.736508Z",
     "shell.execute_reply": "2023-08-14T23:49:51.735822Z",
     "shell.execute_reply.started": "2023-08-14T23:47:37.348478Z"
    },
    "tags": []
   },
   "outputs": [
    {
     "name": "stdout",
     "output_type": "stream",
     "text": [
      "Loading data for meter ElecMeterID(instance=2, building=1, dataset='REDD')     \n",
      "Done loading data all meters for this chunk.\n",
      "Loading data for meter ElecMeterID(instance=20, building=1, dataset='REDD')     \n",
      "Done loading data all meters for this chunk.\n"
     ]
    },
    {
     "name": "stderr",
     "output_type": "stream",
     "text": [
      "23/08/15 02:49:28 WARN TaskSetManager: Stage 0 contains a task of very large size (7657 KiB). The maximum recommended task size is 1000 KiB.\n",
      "23/08/15 02:49:31 WARN TaskSetManager: Stage 1 contains a task of very large size (1829 KiB). The maximum recommended task size is 1000 KiB.\n",
      "23/08/15 02:49:32 WARN TaskSetManager: Stage 5 contains a task of very large size (7657 KiB). The maximum recommended task size is 1000 KiB.\n"
     ]
    },
    {
     "name": "stdout",
     "output_type": "stream",
     "text": [
      "+-------------------+------------------+------------+\n",
      "|          TIMESTAMP|  AGGREGATED_POWER|FRIDGE_POWER|\n",
      "+-------------------+------------------+------------+\n",
      "|2011-04-18 16:22:26|   341.77001953125|         6.0|\n",
      "|2011-04-18 16:22:47| 342.3399963378906|         6.0|\n",
      "|2011-04-18 16:23:43|            345.75|         6.0|\n",
      "|2011-04-18 16:24:08|  346.010009765625|         6.0|\n",
      "|2011-04-18 16:24:23|344.54998779296875|         6.0|\n",
      "|2011-04-18 16:25:55|340.32000732421875|         6.0|\n",
      "|2011-04-18 16:26:55|  344.739990234375|         6.0|\n",
      "|2011-04-18 16:27:42|             344.0|         6.0|\n",
      "|2011-04-18 16:27:46| 345.8899841308594|         6.0|\n",
      "|2011-04-18 16:28:36| 337.8699951171875|         6.0|\n",
      "|2011-04-18 16:28:43|  338.239990234375|         6.0|\n",
      "|2011-04-18 16:28:46| 337.6300048828125|         6.0|\n",
      "|2011-04-18 16:28:53|   337.77001953125|         6.0|\n",
      "|2011-04-18 16:30:54| 337.1300048828125|         6.0|\n",
      "|2011-04-18 16:31:17|343.04998779296875|         6.0|\n",
      "|2011-04-18 16:31:44|335.91998291015625|         6.0|\n",
      "|2011-04-18 16:32:05|341.19000244140625|         6.0|\n",
      "|2011-04-18 16:32:38|  340.739990234375|         6.0|\n",
      "|2011-04-18 16:33:17| 340.4700012207031|         6.0|\n",
      "|2011-04-18 16:33:55| 340.3899841308594|         6.0|\n",
      "+-------------------+------------------+------------+\n",
      "only showing top 20 rows\n",
      "\n",
      "root\n",
      " |-- TIMESTAMP: timestamp (nullable = true)\n",
      " |-- AGGREGATED_POWER: double (nullable = true)\n",
      " |-- FRIDGE_POWER: double (nullable = true)\n",
      "\n"
     ]
    },
    {
     "name": "stderr",
     "output_type": "stream",
     "text": [
      "23/08/15 02:49:35 WARN TaskSetManager: Stage 6 contains a task of very large size (2550 KiB). The maximum recommended task size is 1000 KiB.\n",
      "23/08/15 02:49:37 WARN TaskSetManager: Stage 10 contains a task of very large size (7657 KiB). The maximum recommended task size is 1000 KiB.\n"
     ]
    },
    {
     "name": "stdout",
     "output_type": "stream",
     "text": [
      "+-------------------+------------------+------------------+\n",
      "|          TIMESTAMP|  AGGREGATED_POWER|WASHER_DRYER_POWER|\n",
      "+-------------------+------------------+------------------+\n",
      "|2011-04-18 16:22:39|344.69000244140625|               0.0|\n",
      "|2011-04-18 16:23:12| 344.1099853515625|               0.0|\n",
      "|2011-04-18 16:23:24| 346.4700012207031|               0.0|\n",
      "|2011-04-18 16:23:48|345.46002197265625|               0.0|\n",
      "|2011-04-18 16:24:24| 344.6000061035156|               0.0|\n",
      "|2011-04-18 16:24:57| 343.2699890136719|               0.0|\n",
      "|2011-04-18 16:25:00|342.04998779296875|               0.0|\n",
      "|2011-04-18 16:25:21|344.91998291015625|               0.0|\n",
      "|2011-04-18 16:26:15|339.58001708984375|               0.0|\n",
      "|2011-04-18 16:26:18|   345.27001953125|               0.0|\n",
      "|2011-04-18 16:27:03|            346.25|               0.0|\n",
      "|2011-04-18 16:27:12|347.58001708984375|               0.0|\n",
      "|2011-04-18 16:27:15|342.16998291015625|               0.0|\n",
      "|2011-04-18 16:27:36|345.69000244140625|               0.0|\n",
      "|2011-04-18 16:27:42|             344.0|               0.0|\n",
      "|2011-04-18 16:28:00|341.82000732421875|               0.0|\n",
      "|2011-04-18 16:28:36| 337.8699951171875|               0.0|\n",
      "|2011-04-18 16:28:51| 336.8900146484375|               0.0|\n",
      "|2011-04-18 16:28:54| 337.8800048828125|               0.0|\n",
      "|2011-04-18 16:29:09| 336.6600036621094|               0.0|\n",
      "+-------------------+------------------+------------------+\n",
      "only showing top 20 rows\n",
      "\n",
      "root\n",
      " |-- TIMESTAMP: timestamp (nullable = true)\n",
      " |-- AGGREGATED_POWER: double (nullable = true)\n",
      " |-- WASHER_DRYER_POWER: double (nullable = true)\n",
      "\n"
     ]
    },
    {
     "name": "stderr",
     "output_type": "stream",
     "text": [
      "23/08/15 02:49:40 WARN TaskSetManager: Stage 11 contains a task of very large size (1829 KiB). The maximum recommended task size is 1000 KiB.\n",
      "23/08/15 02:49:42 WARN TaskSetManager: Stage 15 contains a task of very large size (7657 KiB). The maximum recommended task size is 1000 KiB.\n"
     ]
    },
    {
     "name": "stdout",
     "output_type": "stream",
     "text": [
      "+-------------------+------------------+-----------+\n",
      "|          TIMESTAMP|  AGGREGATED_POWER|LIGHT_POWER|\n",
      "+-------------------+------------------+-----------+\n",
      "|2011-04-18 16:22:26|   341.77001953125|       81.0|\n",
      "|2011-04-18 16:22:47| 342.3399963378906|       81.0|\n",
      "|2011-04-18 16:23:43|            345.75|       81.0|\n",
      "|2011-04-18 16:24:08|  346.010009765625|       81.0|\n",
      "|2011-04-18 16:24:23|344.54998779296875|       81.0|\n",
      "|2011-04-18 16:25:55|340.32000732421875|       81.0|\n",
      "|2011-04-18 16:26:55|  344.739990234375|       81.0|\n",
      "|2011-04-18 16:27:42|             344.0|       81.0|\n",
      "|2011-04-18 16:27:46| 345.8899841308594|       81.0|\n",
      "|2011-04-18 16:28:36| 337.8699951171875|       81.0|\n",
      "|2011-04-18 16:28:43|  338.239990234375|       81.0|\n",
      "|2011-04-18 16:28:46| 337.6300048828125|       81.0|\n",
      "|2011-04-18 16:28:53|   337.77001953125|       80.0|\n",
      "|2011-04-18 16:30:54| 337.1300048828125|       81.0|\n",
      "|2011-04-18 16:31:17|343.04998779296875|       81.0|\n",
      "|2011-04-18 16:31:44|335.91998291015625|       80.0|\n",
      "|2011-04-18 16:32:05|341.19000244140625|       81.0|\n",
      "|2011-04-18 16:32:38|  340.739990234375|       81.0|\n",
      "|2011-04-18 16:33:17| 340.4700012207031|       81.0|\n",
      "|2011-04-18 16:33:55| 340.3899841308594|       81.0|\n",
      "+-------------------+------------------+-----------+\n",
      "only showing top 20 rows\n",
      "\n",
      "root\n",
      " |-- TIMESTAMP: timestamp (nullable = true)\n",
      " |-- AGGREGATED_POWER: double (nullable = true)\n",
      " |-- LIGHT_POWER: double (nullable = true)\n",
      "\n"
     ]
    },
    {
     "name": "stderr",
     "output_type": "stream",
     "text": [
      "23/08/15 02:49:45 WARN TaskSetManager: Stage 16 contains a task of very large size (1829 KiB). The maximum recommended task size is 1000 KiB.\n",
      "23/08/15 02:49:47 WARN TaskSetManager: Stage 20 contains a task of very large size (7657 KiB). The maximum recommended task size is 1000 KiB.\n"
     ]
    },
    {
     "name": "stdout",
     "output_type": "stream",
     "text": [
      "+-------------------+------------------+-------------+\n",
      "|          TIMESTAMP|  AGGREGATED_POWER|SOCKETS_POWER|\n",
      "+-------------------+------------------+-------------+\n",
      "|2011-04-18 16:22:26|   341.77001953125|         34.0|\n",
      "|2011-04-18 16:22:47| 342.3399963378906|         34.0|\n",
      "|2011-04-18 16:23:43|            345.75|         38.0|\n",
      "|2011-04-18 16:24:08|  346.010009765625|         35.0|\n",
      "|2011-04-18 16:24:23|344.54998779296875|         34.0|\n",
      "|2011-04-18 16:25:55|340.32000732421875|         32.0|\n",
      "|2011-04-18 16:26:55|  344.739990234375|         38.0|\n",
      "|2011-04-18 16:27:42|             344.0|         34.0|\n",
      "|2011-04-18 16:27:46| 345.8899841308594|         34.0|\n",
      "|2011-04-18 16:28:36| 337.8699951171875|         31.0|\n",
      "|2011-04-18 16:28:43|  338.239990234375|         33.0|\n",
      "|2011-04-18 16:28:46| 337.6300048828125|         32.0|\n",
      "|2011-04-18 16:28:53|   337.77001953125|         31.0|\n",
      "|2011-04-18 16:30:54| 337.1300048828125|         31.0|\n",
      "|2011-04-18 16:31:17|343.04998779296875|         35.0|\n",
      "|2011-04-18 16:31:44|335.91998291015625|         32.0|\n",
      "|2011-04-18 16:32:05|341.19000244140625|         34.0|\n",
      "|2011-04-18 16:32:38|  340.739990234375|         34.0|\n",
      "|2011-04-18 16:33:17| 340.4700012207031|         34.0|\n",
      "|2011-04-18 16:33:55| 340.3899841308594|         34.0|\n",
      "+-------------------+------------------+-------------+\n",
      "only showing top 20 rows\n",
      "\n",
      "root\n",
      " |-- TIMESTAMP: timestamp (nullable = true)\n",
      " |-- AGGREGATED_POWER: double (nullable = true)\n",
      " |-- SOCKETS_POWER: double (nullable = true)\n",
      "\n"
     ]
    },
    {
     "name": "stderr",
     "output_type": "stream",
     "text": [
      "23/08/15 02:49:49 WARN TaskSetManager: Stage 21 contains a task of very large size (1829 KiB). The maximum recommended task size is 1000 KiB.\n",
      "[Stage 21:>                                                         (0 + 8) / 8]\r"
     ]
    },
    {
     "name": "stdout",
     "output_type": "stream",
     "text": [
      "+-------------------+------------------+----------------+\n",
      "|          TIMESTAMP|  AGGREGATED_POWER|DISHWASHER_POWER|\n",
      "+-------------------+------------------+----------------+\n",
      "|2011-04-18 16:22:26|   341.77001953125|             0.0|\n",
      "|2011-04-18 16:22:47| 342.3399963378906|             0.0|\n",
      "|2011-04-18 16:23:43|            345.75|             0.0|\n",
      "|2011-04-18 16:24:08|  346.010009765625|             0.0|\n",
      "|2011-04-18 16:24:23|344.54998779296875|             0.0|\n",
      "|2011-04-18 16:25:55|340.32000732421875|             0.0|\n",
      "|2011-04-18 16:26:55|  344.739990234375|             0.0|\n",
      "|2011-04-18 16:27:42|             344.0|             1.0|\n",
      "|2011-04-18 16:27:46| 345.8899841308594|             0.0|\n",
      "|2011-04-18 16:28:36| 337.8699951171875|             0.0|\n",
      "|2011-04-18 16:28:43|  338.239990234375|             1.0|\n",
      "|2011-04-18 16:28:46| 337.6300048828125|             0.0|\n",
      "|2011-04-18 16:28:53|   337.77001953125|             0.0|\n",
      "|2011-04-18 16:30:54| 337.1300048828125|             1.0|\n",
      "|2011-04-18 16:31:17|343.04998779296875|             0.0|\n",
      "|2011-04-18 16:31:44|335.91998291015625|             0.0|\n",
      "|2011-04-18 16:32:05|341.19000244140625|             0.0|\n",
      "|2011-04-18 16:32:38|  340.739990234375|             0.0|\n",
      "|2011-04-18 16:33:17| 340.4700012207031|             0.0|\n",
      "|2011-04-18 16:33:55| 340.3899841308594|             0.0|\n",
      "+-------------------+------------------+----------------+\n",
      "only showing top 20 rows\n",
      "\n",
      "root\n",
      " |-- TIMESTAMP: timestamp (nullable = true)\n",
      " |-- AGGREGATED_POWER: double (nullable = true)\n",
      " |-- DISHWASHER_POWER: double (nullable = true)\n",
      "\n"
     ]
    },
    {
     "name": "stderr",
     "output_type": "stream",
     "text": [
      "                                                                                \r"
     ]
    }
   ],
   "source": [
    "mains = train_elec.mains()\n",
    "mains_df = next(mains.load())\n",
    "\n",
    "# Reset the index and rename the columns\n",
    "mains_df = mains_df.reset_index()\n",
    "mains_df.columns = ['TIMESTAMP', 'AGGREGATED_POWER']\n",
    "mains_df = spark.createDataFrame(mains_df)\n",
    "from pyspark.sql.functions import *\n",
    "from pyspark.sql.types import DoubleType, TimestampType\n",
    "\n",
    "device_names = ['fridge', 'washer dryer', 'light', 'sockets', 'dish washer']\n",
    "\n",
    "device_data = {}\n",
    "join_data = {}\n",
    "\n",
    "for device_name in device_names:\n",
    "    device_meter = train_elec[device_name]\n",
    "    try:\n",
    "        device_df = next(device_meter.load())\n",
    "        device_df = device_df.reset_index()\n",
    "        \n",
    "        if device_name == 'washer dryer':\n",
    "            device_name = 'wash_dryer'\n",
    "            device_df.columns = ['TIMESTAMP', 'WASHER_DRYER_POWER']\n",
    "        elif device_name == 'dish washer':\n",
    "            device_name = 'dishwasher'\n",
    "            device_df.columns = ['TIMESTAMP', 'DISHWASHER_POWER']\n",
    "        else:\n",
    "            device_df.columns = ['TIMESTAMP', device_name.upper() + '_POWER']\n",
    "        \n",
    "        device_spark_df = spark.createDataFrame(device_df)\n",
    "        device_data[device_name] = device_spark_df\n",
    "        \n",
    "    except StopIteration:\n",
    "        print(f\"No data found for {device_name}. Skipping...\")\n",
    "\n",
    "    if device_name in device_data:\n",
    "        df = device_data[device_name]\n",
    "        df = df.withColumn('TIMESTAMP', col('TIMESTAMP').cast(TimestampType()))\n",
    "        \n",
    "        for column in df.columns:\n",
    "            if column != 'TIMESTAMP':\n",
    "                df = df.withColumn(column, col(column).cast(DoubleType()))\n",
    "        \n",
    "        join_data[device_name] = df\n",
    "\n",
    "for df_name, df in join_data.items():\n",
    "    df = mains_df.join(df, on='TIMESTAMP')\n",
    "    df = df.dropna()\n",
    "    \n",
    "    join_data[df_name] = df\n",
    "\n",
    "    df.show()\n",
    "    df.printSchema()"
   ]
  },
  {
   "cell_type": "code",
   "execution_count": 6,
   "id": "f020a888-144a-47cf-b0db-18245cca4a27",
   "metadata": {
    "execution": {
     "iopub.execute_input": "2023-08-14T23:50:27.513855Z",
     "iopub.status.busy": "2023-08-14T23:50:27.512317Z",
     "iopub.status.idle": "2023-08-14T23:50:27.702427Z",
     "shell.execute_reply": "2023-08-14T23:50:27.701675Z",
     "shell.execute_reply.started": "2023-08-14T23:50:27.513757Z"
    },
    "tags": []
   },
   "outputs": [],
   "source": [
    "fridge_df = join_data['fridge']\n",
    "washer_df = join_data['wash_dryer']\n",
    "light_df = join_data['light']\n",
    "sockets_df = join_data['sockets']\n",
    "dishwasher_df = join_data['dishwasher']\n",
    "\n",
    "train_start_date = \"2011-04-18\"\n",
    "train_end_date = \"2011-05-15\"\n",
    "test_start_date = \"2011-05-16\"\n",
    "test_end_date = \"2011-05-24\"\n",
    "\n",
    "mains_train = mains_df.filter((col(\"TIMESTAMP\") >= train_start_date) & (col(\"TIMESTAMP\") <= train_end_date)).dropna()\n",
    "mains_test = mains_df.filter((col(\"TIMESTAMP\") >= test_start_date) & (col(\"TIMESTAMP\") <= test_end_date)).dropna()\n",
    "# not needed since we joined/concatenated them only if we wanted to predict the total power... \n",
    "\n",
    "fridge_train = fridge_df.filter((col(\"TIMESTAMP\") >= train_start_date) & (col(\"TIMESTAMP\") <= train_end_date)).dropna()\n",
    "fridge_test = fridge_df.filter((col(\"TIMESTAMP\") >= test_start_date) & (col(\"TIMESTAMP\") <= test_end_date)).dropna()\n",
    "\n",
    "dishwasher_train = dishwasher_df.filter((col(\"TIMESTAMP\") >= train_start_date) & (col(\"TIMESTAMP\") <= train_end_date)).dropna()\n",
    "dishwasher_test = dishwasher_df.filter((col(\"TIMESTAMP\") >= test_start_date) & (col(\"TIMESTAMP\") <= test_end_date)).dropna()\n",
    "\n",
    "washer_train = washer_df.filter((col(\"TIMESTAMP\") >= train_start_date) & (col(\"TIMESTAMP\") <= train_end_date)).dropna()\n",
    "washer_test = washer_df.filter((col(\"TIMESTAMP\") >= test_start_date) & (col(\"TIMESTAMP\") <= test_end_date)).dropna()\n",
    "\n",
    "light_train = light_df.filter((col(\"TIMESTAMP\") >= train_start_date) & (col(\"TIMESTAMP\") <= train_end_date)).dropna()\n",
    "light_test = light_df.filter((col(\"TIMESTAMP\") >= test_start_date) & (col(\"TIMESTAMP\") <= test_end_date)).dropna()\n",
    "\n",
    "sockets_train = sockets_df.filter((col(\"TIMESTAMP\") >= train_start_date) & (col(\"TIMESTAMP\") <= train_end_date)).dropna()\n",
    "sockets_test = sockets_df.filter((col(\"TIMESTAMP\") >= test_start_date) & (col(\"TIMESTAMP\") <= test_end_date)).dropna()\n"
   ]
  },
  {
   "cell_type": "code",
   "execution_count": 7,
   "id": "940a71a3-a091-4a2b-a803-45be75308940",
   "metadata": {
    "execution": {
     "iopub.execute_input": "2023-08-14T23:50:32.298710Z",
     "iopub.status.busy": "2023-08-14T23:50:32.298111Z",
     "iopub.status.idle": "2023-08-14T23:50:32.307205Z",
     "shell.execute_reply": "2023-08-14T23:50:32.306024Z",
     "shell.execute_reply.started": "2023-08-14T23:50:32.298668Z"
    },
    "tags": []
   },
   "outputs": [],
   "source": [
    "input_cols = {'fridge': ['AGGREGATED_POWER'],\n",
    "              'washer': ['AGGREGATED_POWER'],\n",
    "              'light': ['AGGREGATED_POWER'],\n",
    "              'sockets': ['AGGREGATED_POWER'],\n",
    "              'dishwasher': ['AGGREGATED_POWER']}\n",
    "              \n",
    "output_cols = {'fridge': 'FRIDGE_POWER',\n",
    "               'washer': 'WASHER_DRYER_POWER',\n",
    "               'light': 'LIGHT_POWER',\n",
    "               'sockets': 'SOCKETS_POWER',\n",
    "               'dishwasher': 'DISHWASHER_POWER'}\n",
    "\n",
    "# Initialize the evaluation results dictionary\n",
    "evaluation_results = {}\n"
   ]
  },
  {
   "cell_type": "code",
   "execution_count": 8,
   "id": "6d5b544d-1841-40f1-aa71-4bc26d206af1",
   "metadata": {
    "execution": {
     "iopub.execute_input": "2023-08-14T23:52:11.800446Z",
     "iopub.status.busy": "2023-08-14T23:52:11.798765Z",
     "iopub.status.idle": "2023-08-14T23:53:11.034773Z",
     "shell.execute_reply": "2023-08-14T23:53:11.033611Z",
     "shell.execute_reply.started": "2023-08-14T23:52:11.800349Z"
    },
    "tags": []
   },
   "outputs": [
    {
     "name": "stderr",
     "output_type": "stream",
     "text": [
      "23/08/15 02:52:12 WARN TaskSetManager: Stage 25 contains a task of very large size (7657 KiB). The maximum recommended task size is 1000 KiB.\n",
      "23/08/15 02:52:13 WARN TaskSetManager: Stage 26 contains a task of very large size (1829 KiB). The maximum recommended task size is 1000 KiB.\n",
      "23/08/15 02:52:17 WARN TaskSetManager: Stage 34 contains a task of very large size (7657 KiB). The maximum recommended task size is 1000 KiB.\n",
      "23/08/15 02:52:18 WARN TaskSetManager: Stage 35 contains a task of very large size (1829 KiB). The maximum recommended task size is 1000 KiB.\n",
      "23/08/15 02:52:21 WARN TaskSetManager: Stage 36 contains a task of very large size (7657 KiB). The maximum recommended task size is 1000 KiB.\n",
      "23/08/15 02:52:22 WARN TaskSetManager: Stage 37 contains a task of very large size (1829 KiB). The maximum recommended task size is 1000 KiB.\n",
      "WARNING: An illegal reflective access operation has occurred                    \n",
      "WARNING: Illegal reflective access by org.apache.spark.util.SizeEstimator$ (file:/opt/miniconda3/envs/nilmenv/lib/python3.8/site-packages/pyspark/jars/spark-core_2.12-3.4.0.jar) to field java.nio.charset.Charset.name\n",
      "WARNING: Please consider reporting this to the maintainers of org.apache.spark.util.SizeEstimator$\n",
      "WARNING: Use --illegal-access=warn to enable warnings of further illegal reflective access operations\n",
      "WARNING: All illegal access operations will be denied in a future release\n",
      "23/08/15 02:52:59 WARN TaskSetManager: Stage 1088 contains a task of very large size (7657 KiB). The maximum recommended task size is 1000 KiB.\n",
      "23/08/15 02:53:00 WARN TaskSetManager: Stage 1089 contains a task of very large size (1829 KiB). The maximum recommended task size is 1000 KiB.\n",
      "23/08/15 02:53:01 WARN InstanceBuilder: Failed to load implementation from:dev.ludovic.netlib.blas.JNIBLAS\n",
      "23/08/15 02:53:01 WARN TaskSetManager: Stage 1094 contains a task of very large size (7657 KiB). The maximum recommended task size is 1000 KiB.\n",
      "23/08/15 02:53:02 WARN TaskSetManager: Stage 1095 contains a task of very large size (1829 KiB). The maximum recommended task size is 1000 KiB.\n",
      "23/08/15 02:53:04 WARN TaskSetManager: Stage 1100 contains a task of very large size (7657 KiB). The maximum recommended task size is 1000 KiB.\n",
      "23/08/15 02:53:04 WARN TaskSetManager: Stage 1101 contains a task of very large size (1829 KiB). The maximum recommended task size is 1000 KiB.\n",
      "23/08/15 02:53:06 WARN TaskSetManager: Stage 1106 contains a task of very large size (7657 KiB). The maximum recommended task size is 1000 KiB.\n",
      "23/08/15 02:53:07 WARN TaskSetManager: Stage 1107 contains a task of very large size (1829 KiB). The maximum recommended task size is 1000 KiB.\n",
      "23/08/15 02:53:08 WARN TaskSetManager: Stage 1112 contains a task of very large size (7657 KiB). The maximum recommended task size is 1000 KiB.\n",
      "23/08/15 02:53:09 WARN TaskSetManager: Stage 1113 contains a task of very large size (1829 KiB). The maximum recommended task size is 1000 KiB.\n",
      "[Stage 1112:============>   (6 + 2) / 8][Stage 1113:============>   (6 + 2) / 8]\r"
     ]
    },
    {
     "name": "stdout",
     "output_type": "stream",
     "text": [
      "Metrics for fridge:\n",
      "MSE: 5676.937714683334\n",
      "RMSE: 75.34545583300518\n",
      "MAE: 47.440012486291266\n",
      "R2: 0.3614448916215115\n",
      "RMAE: 0.6867980050772973\n"
     ]
    },
    {
     "name": "stderr",
     "output_type": "stream",
     "text": [
      "                                                                                \r"
     ]
    }
   ],
   "source": [
    "from pyspark.ml import Pipeline\n",
    "from pyspark.ml.regression import GBTRegressor\n",
    "from pyspark.ml.feature import VectorAssembler, MinMaxScaler\n",
    "from pyspark.ml.evaluation import RegressionEvaluator\n",
    "\n",
    "\n",
    "# Create vector assembler for input columns\n",
    "assembler_fridge = VectorAssembler(inputCols=input_cols['fridge'], outputCol='features')\n",
    "\n",
    "# Create scaler\n",
    "scaler_fridge = MinMaxScaler(inputCol='features', outputCol='scaled_features')\n",
    "\n",
    "#\n",
    "gbt_fridge = GBTRegressor(featuresCol='scaled_features', labelCol=output_cols['fridge'],maxIter=50, maxDepth=10 )\n",
    "\n",
    "# Create pipeline\n",
    "pipeline_fridge = Pipeline(stages=[assembler_fridge, scaler_fridge, gbt_fridge])\n",
    "\n",
    "# Fit pipeline on train data\n",
    "pipeline_model_fridge = pipeline_fridge.fit(fridge_train)\n",
    "\n",
    "# Make predictions on test data\n",
    "predictions_fridge = pipeline_model_fridge.transform(fridge_test)\n",
    "\n",
    "# Evaluate the model on the predicted column\n",
    "evaluator_mse_fridge = RegressionEvaluator(labelCol=output_cols['fridge'], predictionCol='prediction', metricName='mse')\n",
    "mse_fridge = evaluator_mse_fridge.evaluate(predictions_fridge)\n",
    "\n",
    "evaluator_rmse_fridge = RegressionEvaluator(labelCol=output_cols['fridge'], predictionCol='prediction', metricName='rmse')\n",
    "rmse_fridge = evaluator_rmse_fridge.evaluate(predictions_fridge)\n",
    "\n",
    "evaluator_mae_fridge = RegressionEvaluator(labelCol=output_cols['fridge'], predictionCol='prediction', metricName='mae')\n",
    "mae_fridge = evaluator_mae_fridge.evaluate(predictions_fridge)\n",
    "\n",
    "evaluator_r2_fridge = RegressionEvaluator(labelCol=output_cols['fridge'], predictionCol='prediction', metricName='r2')\n",
    "r2_fridge = evaluator_r2_fridge.evaluate(predictions_fridge)\n",
    "\n",
    "mean_actual = predictions_fridge.selectExpr(f\"avg({output_cols['fridge']}) as mean_actual\").collect()[0][\"mean_actual\"]\n",
    "rmae_fridge = mae_fridge / mean_actual\n",
    "\n",
    "# Store the evaluation results\n",
    "evaluation_results['fridge'] = {'MSE': mse_fridge, 'RMSE': rmse_fridge, 'MAE': mae_fridge, 'R2': r2_fridge, 'RMAE': rmae_fridge}\n",
    "\n",
    "# Print the evaluation metrics\n",
    "print(\"Metrics for fridge:\")\n",
    "print(\"MSE:\", mse_fridge)\n",
    "print(\"RMSE:\", rmse_fridge)\n",
    "print(\"MAE:\", mae_fridge)\n",
    "print(\"R2:\", r2_fridge)\n",
    "print(\"RMAE:\", rmae_fridge)\n"
   ]
  },
  {
   "cell_type": "code",
   "execution_count": 10,
   "id": "ae12d88b-0d8c-4fe6-bed4-7957f033d947",
   "metadata": {
    "execution": {
     "iopub.execute_input": "2023-08-14T23:55:26.509340Z",
     "iopub.status.busy": "2023-08-14T23:55:26.508851Z",
     "iopub.status.idle": "2023-08-14T23:55:38.158353Z",
     "shell.execute_reply": "2023-08-14T23:55:38.157964Z",
     "shell.execute_reply.started": "2023-08-14T23:55:26.509304Z"
    },
    "tags": []
   },
   "outputs": [
    {
     "name": "stderr",
     "output_type": "stream",
     "text": [
      "23/08/15 02:55:26 WARN TaskSetManager: Stage 1136 contains a task of very large size (7657 KiB). The maximum recommended task size is 1000 KiB.\n",
      "23/08/15 02:55:27 WARN TaskSetManager: Stage 1137 contains a task of very large size (1829 KiB). The maximum recommended task size is 1000 KiB.\n",
      "23/08/15 02:55:29 WARN TaskSetManager: Stage 1141 contains a task of very large size (7657 KiB). The maximum recommended task size is 1000 KiB.\n",
      "23/08/15 02:55:29 WARN TaskSetManager: Stage 1142 contains a task of very large size (1829 KiB). The maximum recommended task size is 1000 KiB.\n",
      "23/08/15 02:55:31 WARN TaskSetManager: Stage 1146 contains a task of very large size (7657 KiB). The maximum recommended task size is 1000 KiB.\n",
      "23/08/15 02:55:32 WARN TaskSetManager: Stage 1147 contains a task of very large size (1829 KiB). The maximum recommended task size is 1000 KiB.\n",
      "                                                                                \r"
     ]
    },
    {
     "data": {
      "image/png": "[encoded data removed]",
      "text/plain": [
       "<Figure size 1200x600 with 1 Axes>"
      ]
     },
     "metadata": {},
     "output_type": "display_data"
    }
   ],
   "source": [
    "import matplotlib.pyplot as plt\n",
    "\n",
    "# Extract the actual values and predicted values from the predictions DataFrame\n",
    "actual_values = predictions_fridge.select(output_cols['fridge']).collect()\n",
    "predicted_values = predictions_fridge.select('prediction').collect()\n",
    "\n",
    "\n",
    "timestamps = fridge_test.select('TIMESTAMP').collect()\n",
    "\n",
    "\n",
    "timestamps = [row['TIMESTAMP'] for row in timestamps]\n",
    "actual_values = [row[output_cols['fridge']] for row in actual_values]\n",
    "predicted_values = [row['prediction'] for row in predicted_values]\n",
    "\n",
    "\n",
    "background_color = 'indigo'\n",
    "actual_color = 'orange'\n",
    "predicted_color = 'cyan'\n",
    "\n",
    "\n",
    "plt.figure(figsize=(12, 6))\n",
    "plt.gca().set_facecolor(background_color)\n",
    "\n",
    "\n",
    "plt.plot(timestamps, actual_values, label='Actual', color=actual_color)\n",
    "plt.plot(timestamps, predicted_values, label='Predicted', color=predicted_color)\n",
    "\n",
    "\n",
    "plt.xlabel('Timestamp')\n",
    "plt.ylabel('Power')\n",
    "plt.title('Fridge Power: Actual vs Predicted')\n",
    "plt.legend()\n",
    "\n",
    "\n",
    "plt.show()\n"
   ]
  },
  {
   "cell_type": "raw",
   "id": "7ac41c7e-7e6a-45a3-b913-dbcfd1525b5a",
   "metadata": {},
   "source": []
  },
  {
   "cell_type": "code",
   "execution_count": 11,
   "id": "40e2154d-bac8-4f3b-a985-e41212b87645",
   "metadata": {
    "execution": {
     "iopub.execute_input": "2023-08-15T00:06:39.063279Z",
     "iopub.status.busy": "2023-08-15T00:06:39.061667Z",
     "iopub.status.idle": "2023-08-15T00:07:41.281754Z",
     "shell.execute_reply": "2023-08-15T00:07:41.280999Z",
     "shell.execute_reply.started": "2023-08-15T00:06:39.063204Z"
    },
    "tags": []
   },
   "outputs": [
    {
     "name": "stderr",
     "output_type": "stream",
     "text": [
      "23/08/15 03:06:39 WARN TaskSetManager: Stage 1151 contains a task of very large size (7657 KiB). The maximum recommended task size is 1000 KiB.\n",
      "23/08/15 03:06:40 WARN TaskSetManager: Stage 1152 contains a task of very large size (1829 KiB). The maximum recommended task size is 1000 KiB.\n",
      "23/08/15 03:06:43 WARN TaskSetManager: Stage 1160 contains a task of very large size (7657 KiB). The maximum recommended task size is 1000 KiB.\n",
      "23/08/15 03:06:44 WARN TaskSetManager: Stage 1161 contains a task of very large size (1829 KiB). The maximum recommended task size is 1000 KiB.\n",
      "23/08/15 03:06:47 WARN TaskSetManager: Stage 1162 contains a task of very large size (7657 KiB). The maximum recommended task size is 1000 KiB.\n",
      "23/08/15 03:06:47 WARN TaskSetManager: Stage 1163 contains a task of very large size (1829 KiB). The maximum recommended task size is 1000 KiB.\n",
      "23/08/15 03:07:26 WARN TaskSetManager: Stage 2338 contains a task of very large size (7657 KiB). The maximum recommended task size is 1000 KiB.\n",
      "23/08/15 03:07:26 WARN TaskSetManager: Stage 2339 contains a task of very large size (1829 KiB). The maximum recommended task size is 1000 KiB.\n",
      "23/08/15 03:07:28 WARN TaskSetManager: Stage 2344 contains a task of very large size (7657 KiB). The maximum recommended task size is 1000 KiB.\n",
      "23/08/15 03:07:29 WARN TaskSetManager: Stage 2345 contains a task of very large size (1829 KiB). The maximum recommended task size is 1000 KiB.\n",
      "23/08/15 03:07:30 WARN TaskSetManager: Stage 2350 contains a task of very large size (7657 KiB). The maximum recommended task size is 1000 KiB.\n",
      "23/08/15 03:07:31 WARN TaskSetManager: Stage 2351 contains a task of very large size (1829 KiB). The maximum recommended task size is 1000 KiB.\n",
      "23/08/15 03:07:33 WARN TaskSetManager: Stage 2356 contains a task of very large size (7657 KiB). The maximum recommended task size is 1000 KiB.\n",
      "23/08/15 03:07:33 WARN TaskSetManager: Stage 2357 contains a task of very large size (1829 KiB). The maximum recommended task size is 1000 KiB.\n",
      "23/08/15 03:07:35 WARN TaskSetManager: Stage 2362 contains a task of very large size (7657 KiB). The maximum recommended task size is 1000 KiB.\n",
      "23/08/15 03:07:35 WARN TaskSetManager: Stage 2363 contains a task of very large size (1829 KiB). The maximum recommended task size is 1000 KiB.\n",
      "[Stage 2362:=================================================>      (7 + 1) / 8]\r"
     ]
    },
    {
     "name": "stdout",
     "output_type": "stream",
     "text": [
      "Metrics for dishwasher:\n",
      "MSE: 32001.58546661733\n",
      "RMSE: 178.8898696590093\n",
      "MAE: 68.61612459639984\n",
      "R2: 0.261056073554388\n",
      "RMAE: 1.4374260724747374\n"
     ]
    },
    {
     "name": "stderr",
     "output_type": "stream",
     "text": [
      "                                                                                \r"
     ]
    }
   ],
   "source": [
    "from pyspark.ml import Pipeline\n",
    "from pyspark.ml.regression import GBTRegressor\n",
    "from pyspark.ml.feature import VectorAssembler, MinMaxScaler\n",
    "from pyspark.ml.evaluation import RegressionEvaluator\n",
    "\n",
    "\n",
    "# Create vector assembler for input columns\n",
    "assembler_dishwasher = VectorAssembler(inputCols=input_cols['dishwasher'], outputCol='features')\n",
    "\n",
    "# Create scaler\n",
    "scaler_dishwasher = MinMaxScaler(inputCol='features', outputCol='scaled_features')\n",
    "\n",
    "#\n",
    "gbt_dishwasher = GBTRegressor(featuresCol='scaled_features', labelCol=output_cols['dishwasher'],maxIter=50, maxDepth=10 )\n",
    "\n",
    "# Create pipeline\n",
    "pipeline_dishwasher = Pipeline(stages=[assembler_dishwasher, scaler_dishwasher, gbt_dishwasher])\n",
    "\n",
    "# Fit pipeline on train data\n",
    "pipeline_model_dishwasher = pipeline_dishwasher.fit(dishwasher_train)\n",
    "\n",
    "# Make predictions on test data\n",
    "predictions_dishwasher = pipeline_model_dishwasher.transform(dishwasher_test)\n",
    "\n",
    "# Evaluate the model on the predicted column\n",
    "evaluator_mse_dishwasher = RegressionEvaluator(labelCol=output_cols['dishwasher'], predictionCol='prediction', metricName='mse')\n",
    "mse_dishwasher = evaluator_mse_dishwasher.evaluate(predictions_dishwasher)\n",
    "\n",
    "evaluator_rmse_dishwasher = RegressionEvaluator(labelCol=output_cols['dishwasher'], predictionCol='prediction', metricName='rmse')\n",
    "rmse_dishwasher = evaluator_rmse_dishwasher.evaluate(predictions_dishwasher)\n",
    "\n",
    "evaluator_mae_dishwasher = RegressionEvaluator(labelCol=output_cols['dishwasher'], predictionCol='prediction', metricName='mae')\n",
    "mae_dishwasher = evaluator_mae_dishwasher.evaluate(predictions_dishwasher)\n",
    "\n",
    "evaluator_r2_dishwasher = RegressionEvaluator(labelCol=output_cols['dishwasher'], predictionCol='prediction', metricName='r2')\n",
    "r2_dishwasher = evaluator_r2_dishwasher.evaluate(predictions_dishwasher)\n",
    "\n",
    "mean_actual = predictions_dishwasher.selectExpr(f\"avg({output_cols['dishwasher']}) as mean_actual\").collect()[0][\"mean_actual\"]\n",
    "rmae_dishwasher = mae_dishwasher / mean_actual\n",
    "\n",
    "# Store the evaluation results\n",
    "evaluation_results['dishwasher'] = {'MSE': mse_dishwasher, 'RMSE': rmse_dishwasher, 'MAE': mae_dishwasher, 'R2': r2_dishwasher, 'RMAE': rmae_dishwasher}\n",
    "\n",
    "# Print the evaluation metrics\n",
    "print(\"Metrics for dishwasher:\")\n",
    "print(\"MSE:\", mse_dishwasher)\n",
    "print(\"RMSE:\", rmse_dishwasher)\n",
    "print(\"MAE:\", mae_dishwasher)\n",
    "print(\"R2:\", r2_dishwasher)\n",
    "print(\"RMAE:\", rmae_dishwasher)\n"
   ]
  },
  {
   "cell_type": "code",
   "execution_count": 12,
   "id": "30f5cd15-1007-49eb-a1a4-6236af3eb762",
   "metadata": {
    "execution": {
     "iopub.execute_input": "2023-08-15T00:07:47.852855Z",
     "iopub.status.busy": "2023-08-15T00:07:47.852159Z",
     "iopub.status.idle": "2023-08-15T00:07:54.801681Z",
     "shell.execute_reply": "2023-08-15T00:07:54.801361Z",
     "shell.execute_reply.started": "2023-08-15T00:07:47.852785Z"
    },
    "tags": []
   },
   "outputs": [
    {
     "name": "stderr",
     "output_type": "stream",
     "text": [
      "23/08/15 03:07:47 WARN TaskSetManager: Stage 2371 contains a task of very large size (7657 KiB). The maximum recommended task size is 1000 KiB.\n",
      "23/08/15 03:07:48 WARN TaskSetManager: Stage 2372 contains a task of very large size (1829 KiB). The maximum recommended task size is 1000 KiB.\n",
      "23/08/15 03:07:50 WARN TaskSetManager: Stage 2376 contains a task of very large size (7657 KiB). The maximum recommended task size is 1000 KiB.\n",
      "23/08/15 03:07:50 WARN TaskSetManager: Stage 2377 contains a task of very large size (1829 KiB). The maximum recommended task size is 1000 KiB.\n",
      "23/08/15 03:07:52 WARN TaskSetManager: Stage 2381 contains a task of very large size (7657 KiB). The maximum recommended task size is 1000 KiB.\n",
      "23/08/15 03:07:52 WARN TaskSetManager: Stage 2382 contains a task of very large size (1829 KiB). The maximum recommended task size is 1000 KiB.\n",
      "                                                                                \r"
     ]
    },
    {
     "data": {
      "image/png": "[encoded data removed]",
      "text/plain": [
       "<Figure size 1200x600 with 1 Axes>"
      ]
     },
     "metadata": {},
     "output_type": "display_data"
    }
   ],
   "source": [
    "import matplotlib.pyplot as plt\n",
    "\n",
    "# Extract the actual values and predicted values from the predictions DataFrame\n",
    "actual_values = predictions_dishwasher.select(output_cols['dishwasher']).collect()\n",
    "predicted_values = predictions_dishwasher.select('prediction').collect()\n",
    "\n",
    "\n",
    "timestamps = dishwasher_test.select('TIMESTAMP').collect()\n",
    "\n",
    "\n",
    "timestamps = [row['TIMESTAMP'] for row in timestamps]\n",
    "actual_values = [row[output_cols['dishwasher']] for row in actual_values]\n",
    "predicted_values = [row['prediction'] for row in predicted_values]\n",
    "\n",
    "\n",
    "background_color = 'indigo'\n",
    "actual_color = 'orange'\n",
    "predicted_color = 'cyan'\n",
    "\n",
    "\n",
    "plt.figure(figsize=(12, 6))\n",
    "plt.gca().set_facecolor(background_color)\n",
    "\n",
    "\n",
    "plt.plot(timestamps, actual_values, label='Actual', color=actual_color)\n",
    "plt.plot(timestamps, predicted_values, label='Predicted', color=predicted_color)\n",
    "\n",
    "\n",
    "plt.xlabel('Timestamp')\n",
    "plt.ylabel('Power')\n",
    "plt.title('dishwasher Power: Actual vs Predicted')\n",
    "plt.legend()\n",
    "\n",
    "\n",
    "plt.show()\n"
   ]
  },
  {
   "cell_type": "code",
   "execution_count": 14,
   "id": "19e6a170-beb0-4a3f-acf2-b27764f9c171",
   "metadata": {
    "execution": {
     "iopub.execute_input": "2023-08-15T00:09:31.569796Z",
     "iopub.status.busy": "2023-08-15T00:09:31.568724Z",
     "iopub.status.idle": "2023-08-15T00:10:25.868678Z",
     "shell.execute_reply": "2023-08-15T00:10:25.867671Z",
     "shell.execute_reply.started": "2023-08-15T00:09:31.569730Z"
    },
    "tags": []
   },
   "outputs": [
    {
     "name": "stderr",
     "output_type": "stream",
     "text": [
      "23/08/15 03:09:31 WARN TaskSetManager: Stage 3099 contains a task of very large size (7657 KiB). The maximum recommended task size is 1000 KiB.\n",
      "23/08/15 03:09:32 WARN TaskSetManager: Stage 3100 contains a task of very large size (2550 KiB). The maximum recommended task size is 1000 KiB.\n",
      "23/08/15 03:09:38 WARN TaskSetManager: Stage 3108 contains a task of very large size (7657 KiB). The maximum recommended task size is 1000 KiB.\n",
      "23/08/15 03:09:38 WARN TaskSetManager: Stage 3109 contains a task of very large size (2550 KiB). The maximum recommended task size is 1000 KiB.\n",
      "23/08/15 03:09:41 WARN TaskSetManager: Stage 3110 contains a task of very large size (7657 KiB). The maximum recommended task size is 1000 KiB.\n",
      "23/08/15 03:09:42 WARN TaskSetManager: Stage 3111 contains a task of very large size (2550 KiB). The maximum recommended task size is 1000 KiB.\n",
      "23/08/15 03:10:15 WARN TaskSetManager: Stage 3810 contains a task of very large size (7657 KiB). The maximum recommended task size is 1000 KiB.\n",
      "23/08/15 03:10:16 WARN TaskSetManager: Stage 3811 contains a task of very large size (2550 KiB). The maximum recommended task size is 1000 KiB.\n",
      "23/08/15 03:10:18 WARN TaskSetManager: Stage 3816 contains a task of very large size (7657 KiB). The maximum recommended task size is 1000 KiB.\n",
      "23/08/15 03:10:19 WARN TaskSetManager: Stage 3817 contains a task of very large size (2550 KiB). The maximum recommended task size is 1000 KiB.\n",
      "23/08/15 03:10:20 WARN TaskSetManager: Stage 3822 contains a task of very large size (7657 KiB). The maximum recommended task size is 1000 KiB.\n",
      "23/08/15 03:10:21 WARN TaskSetManager: Stage 3823 contains a task of very large size (2550 KiB). The maximum recommended task size is 1000 KiB.\n",
      "23/08/15 03:10:22 WARN TaskSetManager: Stage 3828 contains a task of very large size (7657 KiB). The maximum recommended task size is 1000 KiB.\n",
      "23/08/15 03:10:23 WARN TaskSetManager: Stage 3829 contains a task of very large size (2550 KiB). The maximum recommended task size is 1000 KiB.\n",
      "23/08/15 03:10:24 WARN TaskSetManager: Stage 3834 contains a task of very large size (7657 KiB). The maximum recommended task size is 1000 KiB.\n",
      "23/08/15 03:10:25 WARN TaskSetManager: Stage 3835 contains a task of very large size (2550 KiB). The maximum recommended task size is 1000 KiB.\n",
      "[Stage 3834:============>   (6 + 2) / 8][Stage 3835:============>   (6 + 2) / 8]\r"
     ]
    },
    {
     "name": "stdout",
     "output_type": "stream",
     "text": [
      "Metrics for washer:\n",
      "MSE: 171967.13276785746\n",
      "RMSE: 414.6892002064407\n",
      "MAE: 114.0397875556356\n",
      "R2: 0.4476570150472764\n",
      "RMAE: 0.9724335672983063\n"
     ]
    },
    {
     "name": "stderr",
     "output_type": "stream",
     "text": [
      "                                                                                \r"
     ]
    }
   ],
   "source": [
    "from pyspark.ml import Pipeline\n",
    "from pyspark.ml.regression import GBTRegressor\n",
    "from pyspark.ml.feature import VectorAssembler, MinMaxScaler\n",
    "from pyspark.ml.evaluation import RegressionEvaluator\n",
    "\n",
    "\n",
    "# Create vector assembler for input columns\n",
    "assembler_washer = VectorAssembler(inputCols=input_cols['washer'], outputCol='features')\n",
    "\n",
    "# Create scaler\n",
    "scaler_washer = MinMaxScaler(inputCol='features', outputCol='scaled_features')\n",
    "\n",
    "\n",
    "gbt_washer = GBTRegressor(featuresCol='scaled_features', labelCol=output_cols['washer'],maxIter=50, maxDepth=10 )\n",
    "\n",
    "# Create pipeline\n",
    "pipeline_washer = Pipeline(stages=[assembler_washer, scaler_washer, gbt_washer])\n",
    "\n",
    "# Fit pipeline on train data\n",
    "pipeline_model_washer = pipeline_washer.fit(washer_train)\n",
    "\n",
    "# Make predictions on test data\n",
    "predictions_washer = pipeline_model_washer.transform(washer_test)\n",
    "\n",
    "# Evaluate the model on the predicted column\n",
    "evaluator_mse_washer = RegressionEvaluator(labelCol=output_cols['washer'], predictionCol='prediction', metricName='mse')\n",
    "mse_washer = evaluator_mse_washer.evaluate(predictions_washer)\n",
    "\n",
    "evaluator_rmse_washer = RegressionEvaluator(labelCol=output_cols['washer'], predictionCol='prediction', metricName='rmse')\n",
    "rmse_washer = evaluator_rmse_washer.evaluate(predictions_washer)\n",
    "\n",
    "evaluator_mae_washer = RegressionEvaluator(labelCol=output_cols['washer'], predictionCol='prediction', metricName='mae')\n",
    "mae_washer = evaluator_mae_washer.evaluate(predictions_washer)\n",
    "\n",
    "evaluator_r2_washer = RegressionEvaluator(labelCol=output_cols['washer'], predictionCol='prediction', metricName='r2')\n",
    "r2_washer = evaluator_r2_washer.evaluate(predictions_washer)\n",
    "\n",
    "mean_actual = predictions_washer.selectExpr(f\"avg({output_cols['washer']}) as mean_actual\").collect()[0][\"mean_actual\"]\n",
    "rmae_washer = mae_washer / mean_actual\n",
    "\n",
    "# Store the evaluation results\n",
    "evaluation_results['washer'] = {'MSE': mse_washer, 'RMSE': rmse_washer, 'MAE': mae_washer, 'R2': r2_washer, 'RMAE': rmae_washer}\n",
    "\n",
    "# Print the evaluation metrics\n",
    "print(\"Metrics for washer:\")\n",
    "print(\"MSE:\", mse_washer)\n",
    "print(\"RMSE:\", rmse_washer)\n",
    "print(\"MAE:\", mae_washer)\n",
    "print(\"R2:\", r2_washer)\n",
    "print(\"RMAE:\", rmae_washer)\n"
   ]
  },
  {
   "cell_type": "code",
   "execution_count": 16,
   "id": "a21c59ac-aa14-45fd-9039-4baa04dab153",
   "metadata": {
    "execution": {
     "iopub.execute_input": "2023-08-15T00:10:42.635103Z",
     "iopub.status.busy": "2023-08-15T00:10:42.634631Z",
     "iopub.status.idle": "2023-08-15T00:10:46.976929Z",
     "shell.execute_reply": "2023-08-15T00:10:46.976479Z",
     "shell.execute_reply.started": "2023-08-15T00:10:42.635072Z"
    },
    "tags": []
   },
   "outputs": [
    {
     "name": "stderr",
     "output_type": "stream",
     "text": [
      "23/08/15 03:10:42 WARN TaskSetManager: Stage 3850 contains a task of very large size (7657 KiB). The maximum recommended task size is 1000 KiB.\n",
      "23/08/15 03:10:43 WARN TaskSetManager: Stage 3851 contains a task of very large size (2550 KiB). The maximum recommended task size is 1000 KiB.\n",
      "23/08/15 03:10:44 WARN TaskSetManager: Stage 3855 contains a task of very large size (7657 KiB). The maximum recommended task size is 1000 KiB.\n",
      "23/08/15 03:10:44 WARN TaskSetManager: Stage 3856 contains a task of very large size (2550 KiB). The maximum recommended task size is 1000 KiB.\n",
      "23/08/15 03:10:45 WARN TaskSetManager: Stage 3860 contains a task of very large size (7657 KiB). The maximum recommended task size is 1000 KiB.\n",
      "23/08/15 03:10:46 WARN TaskSetManager: Stage 3861 contains a task of very large size (2550 KiB). The maximum recommended task size is 1000 KiB.\n",
      "                                                                                \r"
     ]
    },
    {
     "data": {
      "image/png": "[encoded data removed]",
      "text/plain": [
       "<Figure size 1200x600 with 1 Axes>"
      ]
     },
     "metadata": {},
     "output_type": "display_data"
    }
   ],
   "source": [
    "import matplotlib.pyplot as plt\n",
    "\n",
    "# Extract the actual values and predicted values from the predictions DataFrame\n",
    "actual_values = predictions_washer.select(output_cols['washer']).collect()\n",
    "predicted_values = predictions_washer.select('prediction').collect()\n",
    "\n",
    "\n",
    "timestamps = washer_test.select('TIMESTAMP').collect()\n",
    "\n",
    "\n",
    "timestamps = [row['TIMESTAMP'] for row in timestamps]\n",
    "actual_values = [row[output_cols['washer']] for row in actual_values]\n",
    "predicted_values = [row['prediction'] for row in predicted_values]\n",
    "\n",
    "\n",
    "background_color = 'indigo'\n",
    "actual_color = 'orange'\n",
    "predicted_color = 'cyan'\n",
    "\n",
    "\n",
    "plt.figure(figsize=(12, 6))\n",
    "plt.gca().set_facecolor(background_color)\n",
    "\n",
    "\n",
    "plt.plot(timestamps, actual_values, label='Actual', color=actual_color)\n",
    "plt.plot(timestamps, predicted_values, label='Predicted', color=predicted_color)\n",
    "\n",
    "\n",
    "plt.xlabel('Timestamp')\n",
    "plt.ylabel('Power')\n",
    "plt.title('washer Power: Actual vs Predicted')\n",
    "plt.legend()\n",
    "\n",
    "\n",
    "plt.show()\n"
   ]
  },
  {
   "cell_type": "code",
   "execution_count": 17,
   "id": "c4558467-5fe2-4b5d-b545-fda68774cf85",
   "metadata": {
    "execution": {
     "iopub.execute_input": "2023-08-15T00:12:43.759733Z",
     "iopub.status.busy": "2023-08-15T00:12:43.757969Z",
     "iopub.status.idle": "2023-08-15T00:13:23.945873Z",
     "shell.execute_reply": "2023-08-15T00:13:23.945148Z",
     "shell.execute_reply.started": "2023-08-15T00:12:43.759629Z"
    },
    "tags": []
   },
   "outputs": [
    {
     "name": "stderr",
     "output_type": "stream",
     "text": [
      "23/08/15 03:12:43 WARN TaskSetManager: Stage 3865 contains a task of very large size (7657 KiB). The maximum recommended task size is 1000 KiB.\n",
      "23/08/15 03:12:44 WARN TaskSetManager: Stage 3866 contains a task of very large size (1829 KiB). The maximum recommended task size is 1000 KiB.\n",
      "23/08/15 03:12:47 WARN TaskSetManager: Stage 3874 contains a task of very large size (7657 KiB). The maximum recommended task size is 1000 KiB.\n",
      "23/08/15 03:12:48 WARN TaskSetManager: Stage 3875 contains a task of very large size (1829 KiB). The maximum recommended task size is 1000 KiB.\n",
      "23/08/15 03:12:51 WARN TaskSetManager: Stage 3876 contains a task of very large size (7657 KiB). The maximum recommended task size is 1000 KiB.\n",
      "23/08/15 03:12:51 WARN TaskSetManager: Stage 3877 contains a task of very large size (1829 KiB). The maximum recommended task size is 1000 KiB.\n",
      "23/08/15 03:13:16 WARN TaskSetManager: Stage 4516 contains a task of very large size (7657 KiB). The maximum recommended task size is 1000 KiB.\n",
      "23/08/15 03:13:17 WARN TaskSetManager: Stage 4517 contains a task of very large size (1829 KiB). The maximum recommended task size is 1000 KiB.\n",
      "23/08/15 03:13:18 WARN TaskSetManager: Stage 4522 contains a task of very large size (7657 KiB). The maximum recommended task size is 1000 KiB.\n",
      "23/08/15 03:13:19 WARN TaskSetManager: Stage 4523 contains a task of very large size (1829 KiB). The maximum recommended task size is 1000 KiB.\n",
      "23/08/15 03:13:20 WARN TaskSetManager: Stage 4528 contains a task of very large size (7657 KiB). The maximum recommended task size is 1000 KiB.\n",
      "23/08/15 03:13:21 WARN TaskSetManager: Stage 4529 contains a task of very large size (1829 KiB). The maximum recommended task size is 1000 KiB.\n",
      "23/08/15 03:13:21 WARN TaskSetManager: Stage 4534 contains a task of very large size (7657 KiB). The maximum recommended task size is 1000 KiB.\n",
      "23/08/15 03:13:22 WARN TaskSetManager: Stage 4535 contains a task of very large size (1829 KiB). The maximum recommended task size is 1000 KiB.\n",
      "23/08/15 03:13:22 WARN TaskSetManager: Stage 4540 contains a task of very large size (7657 KiB). The maximum recommended task size is 1000 KiB.\n",
      "23/08/15 03:13:23 WARN TaskSetManager: Stage 4541 contains a task of very large size (1829 KiB). The maximum recommended task size is 1000 KiB.\n",
      "[Stage 4540:============>   (6 + 2) / 8][Stage 4541:============>   (6 + 2) / 8]\r"
     ]
    },
    {
     "name": "stdout",
     "output_type": "stream",
     "text": [
      "Metrics for sockets:\n",
      "MSE: 3.571761880842105\n",
      "RMSE: 1.8899105483705056\n",
      "MAE: 1.4482615175834053\n",
      "R2: 0.06607666449728666\n",
      "RMAE: 0.06776869448291253\n"
     ]
    },
    {
     "name": "stderr",
     "output_type": "stream",
     "text": [
      "                                                                                \r"
     ]
    }
   ],
   "source": [
    "from pyspark.ml import Pipeline\n",
    "from pyspark.ml.regression import GBTRegressor\n",
    "from pyspark.ml.feature import VectorAssembler, MinMaxScaler\n",
    "from pyspark.ml.evaluation import RegressionEvaluator\n",
    "\n",
    "\n",
    "# Create vector assembler for input columns\n",
    "assembler_sockets = VectorAssembler(inputCols=input_cols['sockets'], outputCol='features')\n",
    "\n",
    "# Create scaler\n",
    "scaler_sockets = MinMaxScaler(inputCol='features', outputCol='scaled_features')\n",
    "\n",
    "\n",
    "gbt_sockets = GBTRegressor(featuresCol='scaled_features', labelCol=output_cols['sockets'],maxIter=50, maxDepth=10 )\n",
    "\n",
    "# Create pipeline\n",
    "pipeline_sockets = Pipeline(stages=[assembler_sockets, scaler_sockets, gbt_sockets])\n",
    "\n",
    "# Fit pipeline on train data\n",
    "pipeline_model_sockets = pipeline_sockets.fit(sockets_train)\n",
    "\n",
    "# Make predictions on test data\n",
    "predictions_sockets = pipeline_model_sockets.transform(sockets_test)\n",
    "\n",
    "# Evaluate the model on the predicted column\n",
    "evaluator_mse_sockets = RegressionEvaluator(labelCol=output_cols['sockets'], predictionCol='prediction', metricName='mse')\n",
    "mse_sockets = evaluator_mse_sockets.evaluate(predictions_sockets)\n",
    "\n",
    "evaluator_rmse_sockets = RegressionEvaluator(labelCol=output_cols['sockets'], predictionCol='prediction', metricName='rmse')\n",
    "rmse_sockets = evaluator_rmse_sockets.evaluate(predictions_sockets)\n",
    "\n",
    "evaluator_mae_sockets = RegressionEvaluator(labelCol=output_cols['sockets'], predictionCol='prediction', metricName='mae')\n",
    "mae_sockets = evaluator_mae_sockets.evaluate(predictions_sockets)\n",
    "\n",
    "evaluator_r2_sockets = RegressionEvaluator(labelCol=output_cols['sockets'], predictionCol='prediction', metricName='r2')\n",
    "r2_sockets = evaluator_r2_sockets.evaluate(predictions_sockets)\n",
    "\n",
    "mean_actual = predictions_sockets.selectExpr(f\"avg({output_cols['sockets']}) as mean_actual\").collect()[0][\"mean_actual\"]\n",
    "rmae_sockets = mae_sockets / mean_actual\n",
    "\n",
    "# Store the evaluation results\n",
    "evaluation_results['sockets'] = {'MSE': mse_sockets, 'RMSE': rmse_sockets, 'MAE': mae_sockets, 'R2': r2_sockets, 'RMAE': rmae_sockets}\n",
    "\n",
    "# Print the evaluation metrics\n",
    "print(\"Metrics for sockets:\")\n",
    "print(\"MSE:\", mse_sockets)\n",
    "print(\"RMSE:\", rmse_sockets)\n",
    "print(\"MAE:\", mae_sockets)\n",
    "print(\"R2:\", r2_sockets)\n",
    "print(\"RMAE:\", rmae_sockets)\n"
   ]
  },
  {
   "cell_type": "code",
   "execution_count": 18,
   "id": "623810a4-7845-462c-a820-34de90c38429",
   "metadata": {
    "execution": {
     "iopub.execute_input": "2023-08-15T00:13:29.693395Z",
     "iopub.status.busy": "2023-08-15T00:13:29.692571Z",
     "iopub.status.idle": "2023-08-15T00:13:36.737798Z",
     "shell.execute_reply": "2023-08-15T00:13:36.737369Z",
     "shell.execute_reply.started": "2023-08-15T00:13:29.693326Z"
    },
    "tags": []
   },
   "outputs": [
    {
     "name": "stderr",
     "output_type": "stream",
     "text": [
      "23/08/15 03:13:29 WARN TaskSetManager: Stage 4549 contains a task of very large size (7657 KiB). The maximum recommended task size is 1000 KiB.\n",
      "23/08/15 03:13:30 WARN TaskSetManager: Stage 4550 contains a task of very large size (1829 KiB). The maximum recommended task size is 1000 KiB.\n",
      "23/08/15 03:13:31 WARN TaskSetManager: Stage 4554 contains a task of very large size (7657 KiB). The maximum recommended task size is 1000 KiB.\n",
      "23/08/15 03:13:32 WARN TaskSetManager: Stage 4555 contains a task of very large size (1829 KiB). The maximum recommended task size is 1000 KiB.\n",
      "23/08/15 03:13:34 WARN TaskSetManager: Stage 4559 contains a task of very large size (7657 KiB). The maximum recommended task size is 1000 KiB.\n",
      "23/08/15 03:13:34 WARN TaskSetManager: Stage 4560 contains a task of very large size (1829 KiB). The maximum recommended task size is 1000 KiB.\n",
      "                                                                                \r"
     ]
    },
    {
     "data": {
      "image/png": "[encoded data removed]",
      "text/plain": [
       "<Figure size 1200x600 with 1 Axes>"
      ]
     },
     "metadata": {},
     "output_type": "display_data"
    }
   ],
   "source": [
    "import matplotlib.pyplot as plt\n",
    "\n",
    "# Extract the actual values and predicted values from the predictions DataFrame\n",
    "actual_values = predictions_sockets.select(output_cols['sockets']).collect()\n",
    "predicted_values = predictions_sockets.select('prediction').collect()\n",
    "\n",
    "\n",
    "timestamps = sockets_test.select('TIMESTAMP').collect()\n",
    "\n",
    "\n",
    "timestamps = [row['TIMESTAMP'] for row in timestamps]\n",
    "actual_values = [row[output_cols['sockets']] for row in actual_values]\n",
    "predicted_values = [row['prediction'] for row in predicted_values]\n",
    "\n",
    "\n",
    "background_color = 'indigo'\n",
    "actual_color = 'orange'\n",
    "predicted_color = 'cyan'\n",
    "\n",
    "\n",
    "plt.figure(figsize=(12, 6))\n",
    "plt.gca().set_facecolor(background_color)\n",
    "\n",
    "\n",
    "plt.plot(timestamps, actual_values, label='Actual', color=actual_color)\n",
    "plt.plot(timestamps, predicted_values, label='Predicted', color=predicted_color)\n",
    "\n",
    "\n",
    "plt.xlabel('Timestamp')\n",
    "plt.ylabel('Power')\n",
    "plt.title('sockets Power: Actual vs Predicted')\n",
    "plt.legend()\n",
    "\n",
    "\n",
    "plt.show()\n"
   ]
  },
  {
   "cell_type": "code",
   "execution_count": 19,
   "id": "91719180-3635-4195-965b-04657ea9d578",
   "metadata": {
    "execution": {
     "iopub.execute_input": "2023-08-15T00:14:01.659885Z",
     "iopub.status.busy": "2023-08-15T00:14:01.658952Z",
     "iopub.status.idle": "2023-08-15T00:14:59.609588Z",
     "shell.execute_reply": "2023-08-15T00:14:59.607810Z",
     "shell.execute_reply.started": "2023-08-15T00:14:01.659815Z"
    },
    "tags": []
   },
   "outputs": [
    {
     "name": "stderr",
     "output_type": "stream",
     "text": [
      "23/08/15 03:14:01 WARN TaskSetManager: Stage 4564 contains a task of very large size (7657 KiB). The maximum recommended task size is 1000 KiB.\n",
      "23/08/15 03:14:02 WARN TaskSetManager: Stage 4565 contains a task of very large size (1829 KiB). The maximum recommended task size is 1000 KiB.\n",
      "23/08/15 03:14:08 WARN TaskSetManager: Stage 4573 contains a task of very large size (7657 KiB). The maximum recommended task size is 1000 KiB.\n",
      "23/08/15 03:14:09 WARN TaskSetManager: Stage 4574 contains a task of very large size (1829 KiB). The maximum recommended task size is 1000 KiB.\n",
      "23/08/15 03:14:12 WARN TaskSetManager: Stage 4575 contains a task of very large size (7657 KiB). The maximum recommended task size is 1000 KiB.\n",
      "23/08/15 03:14:13 WARN TaskSetManager: Stage 4576 contains a task of very large size (1829 KiB). The maximum recommended task size is 1000 KiB.\n",
      "23/08/15 03:14:39 WARN TaskSetManager: Stage 4911 contains a task of very large size (7657 KiB). The maximum recommended task size is 1000 KiB.\n",
      "23/08/15 03:14:40 WARN TaskSetManager: Stage 4912 contains a task of very large size (1829 KiB). The maximum recommended task size is 1000 KiB.\n",
      "23/08/15 03:14:46 WARN TaskSetManager: Stage 4917 contains a task of very large size (7657 KiB). The maximum recommended task size is 1000 KiB.\n",
      "23/08/15 03:14:46 WARN TaskSetManager: Stage 4918 contains a task of very large size (1829 KiB). The maximum recommended task size is 1000 KiB.\n",
      "23/08/15 03:14:48 WARN TaskSetManager: Stage 4923 contains a task of very large size (7657 KiB). The maximum recommended task size is 1000 KiB.\n",
      "23/08/15 03:14:48 WARN TaskSetManager: Stage 4924 contains a task of very large size (1829 KiB). The maximum recommended task size is 1000 KiB.\n",
      "23/08/15 03:14:50 WARN TaskSetManager: Stage 4929 contains a task of very large size (7657 KiB). The maximum recommended task size is 1000 KiB.\n",
      "23/08/15 03:14:51 WARN TaskSetManager: Stage 4930 contains a task of very large size (1829 KiB). The maximum recommended task size is 1000 KiB.\n",
      "23/08/15 03:14:57 WARN TaskSetManager: Stage 4935 contains a task of very large size (7657 KiB). The maximum recommended task size is 1000 KiB.\n",
      "23/08/15 03:14:57 WARN TaskSetManager: Stage 4936 contains a task of very large size (1829 KiB). The maximum recommended task size is 1000 KiB.\n",
      "[Stage 4935:============>   (6 + 2) / 8][Stage 4936:============>   (6 + 2) / 8]\r"
     ]
    },
    {
     "name": "stdout",
     "output_type": "stream",
     "text": [
      "Metrics for light:\n",
      "MSE: 1539.1679684453613\n",
      "RMSE: 39.232231244798726\n",
      "MAE: 26.10595425862509\n",
      "R2: -0.2654587709840044\n",
      "RMAE: 1.0222383110093782\n"
     ]
    },
    {
     "name": "stderr",
     "output_type": "stream",
     "text": [
      "                                                                                \r"
     ]
    }
   ],
   "source": [
    "from pyspark.ml import Pipeline\n",
    "from pyspark.ml.regression import GBTRegressor\n",
    "from pyspark.ml.feature import VectorAssembler, MinMaxScaler\n",
    "from pyspark.ml.evaluation import RegressionEvaluator\n",
    "\n",
    "\n",
    "# Create vector assembler for input columns\n",
    "assembler_light = VectorAssembler(inputCols=input_cols['light'], outputCol='features')\n",
    "\n",
    "# Create scaler\n",
    "scaler_light = MinMaxScaler(inputCol='features', outputCol='scaled_features')\n",
    "\n",
    "\n",
    "gbt_light = GBTRegressor(featuresCol='scaled_features', labelCol=output_cols['light'],maxIter=50, maxDepth=10 )\n",
    "\n",
    "# Create pipeline\n",
    "pipeline_light = Pipeline(stages=[assembler_light, scaler_light, gbt_light])\n",
    "\n",
    "# Fit pipeline on train data\n",
    "pipeline_model_light = pipeline_light.fit(light_train)\n",
    "\n",
    "# Make predictions on test data\n",
    "predictions_light = pipeline_model_light.transform(light_test)\n",
    "\n",
    "# Evaluate the model on the predicted column\n",
    "evaluator_mse_light = RegressionEvaluator(labelCol=output_cols['light'], predictionCol='prediction', metricName='mse')\n",
    "mse_light = evaluator_mse_light.evaluate(predictions_light)\n",
    "\n",
    "evaluator_rmse_light = RegressionEvaluator(labelCol=output_cols['light'], predictionCol='prediction', metricName='rmse')\n",
    "rmse_light = evaluator_rmse_light.evaluate(predictions_light)\n",
    "\n",
    "evaluator_mae_light = RegressionEvaluator(labelCol=output_cols['light'], predictionCol='prediction', metricName='mae')\n",
    "mae_light = evaluator_mae_light.evaluate(predictions_light)\n",
    "\n",
    "evaluator_r2_light = RegressionEvaluator(labelCol=output_cols['light'], predictionCol='prediction', metricName='r2')\n",
    "r2_light = evaluator_r2_light.evaluate(predictions_light)\n",
    "\n",
    "mean_actual = predictions_light.selectExpr(f\"avg({output_cols['light']}) as mean_actual\").collect()[0][\"mean_actual\"]\n",
    "rmae_light = mae_light / mean_actual\n",
    "\n",
    "# Store the evaluation results\n",
    "evaluation_results['light'] = {'MSE': mse_light, 'RMSE': rmse_light, 'MAE': mae_light, 'R2': r2_light, 'RMAE': rmae_light}\n",
    "\n",
    "# Print the evaluation metrics\n",
    "print(\"Metrics for light:\")\n",
    "print(\"MSE:\", mse_light)\n",
    "print(\"RMSE:\", rmse_light)\n",
    "print(\"MAE:\", mae_light)\n",
    "print(\"R2:\", r2_light)\n",
    "print(\"RMAE:\", rmae_light)\n"
   ]
  },
  {
   "cell_type": "code",
   "execution_count": 20,
   "id": "9ecf58ea-73cd-4a06-b96a-4f371a1376ca",
   "metadata": {
    "execution": {
     "iopub.execute_input": "2023-08-15T00:15:04.840604Z",
     "iopub.status.busy": "2023-08-15T00:15:04.839756Z",
     "iopub.status.idle": "2023-08-15T00:15:11.644248Z",
     "shell.execute_reply": "2023-08-15T00:15:11.643797Z",
     "shell.execute_reply.started": "2023-08-15T00:15:04.840561Z"
    },
    "tags": []
   },
   "outputs": [
    {
     "name": "stderr",
     "output_type": "stream",
     "text": [
      "23/08/15 03:15:04 WARN TaskSetManager: Stage 4944 contains a task of very large size (7657 KiB). The maximum recommended task size is 1000 KiB.\n",
      "23/08/15 03:15:05 WARN TaskSetManager: Stage 4945 contains a task of very large size (1829 KiB). The maximum recommended task size is 1000 KiB.\n",
      "23/08/15 03:15:07 WARN TaskSetManager: Stage 4949 contains a task of very large size (7657 KiB). The maximum recommended task size is 1000 KiB.\n",
      "23/08/15 03:15:07 WARN TaskSetManager: Stage 4950 contains a task of very large size (1829 KiB). The maximum recommended task size is 1000 KiB.\n",
      "23/08/15 03:15:09 WARN TaskSetManager: Stage 4954 contains a task of very large size (7657 KiB). The maximum recommended task size is 1000 KiB.\n",
      "23/08/15 03:15:09 WARN TaskSetManager: Stage 4955 contains a task of very large size (1829 KiB). The maximum recommended task size is 1000 KiB.\n",
      "                                                                                \r"
     ]
    },
    {
     "data": {
      "image/png": "[encoded data removed]",
      "text/plain": [
       "<Figure size 1200x600 with 1 Axes>"
      ]
     },
     "metadata": {},
     "output_type": "display_data"
    }
   ],
   "source": [
    "import matplotlib.pyplot as plt\n",
    "\n",
    "# Extract the actual values and predicted values from the predictions DataFrame\n",
    "actual_values = predictions_light.select(output_cols['light']).collect()\n",
    "predicted_values = predictions_light.select('prediction').collect()\n",
    "\n",
    "\n",
    "timestamps = light_test.select('TIMESTAMP').collect()\n",
    "\n",
    "\n",
    "timestamps = [row['TIMESTAMP'] for row in timestamps]\n",
    "actual_values = [row[output_cols['light']] for row in actual_values]\n",
    "predicted_values = [row['prediction'] for row in predicted_values]\n",
    "\n",
    "\n",
    "background_color = 'indigo'\n",
    "actual_color = 'orange'\n",
    "predicted_color = 'cyan'\n",
    "\n",
    "\n",
    "plt.figure(figsize=(12, 6))\n",
    "plt.gca().set_facecolor(background_color)\n",
    "\n",
    "\n",
    "plt.plot(timestamps, actual_values, label='Actual', color=actual_color)\n",
    "plt.plot(timestamps, predicted_values, label='Predicted', color=predicted_color)\n",
    "\n",
    "\n",
    "plt.xlabel('Timestamp')\n",
    "plt.ylabel('Power')\n",
    "plt.title('light Power: Actual vs Predicted')\n",
    "plt.legend()\n",
    "\n",
    "\n",
    "plt.show()\n"
   ]
  },
  {
   "cell_type": "code",
   "execution_count": null,
   "id": "dd6eead2-2d0b-4380-974a-9b8dfe7aef93",
   "metadata": {},
   "outputs": [],
   "source": []
  },
  {
   "cell_type": "code",
   "execution_count": null,
   "id": "7036d2e0-0a39-4cb9-a180-7d379e8cd4b0",
   "metadata": {},
   "outputs": [],
   "source": []
  },
  {
   "cell_type": "code",
   "execution_count": null,
   "id": "64b15f96-5393-4ae3-a954-9e7fe0e7e59b",
   "metadata": {},
   "outputs": [],
   "source": []
  },
  {
   "cell_type": "code",
   "execution_count": null,
   "id": "a755feba-2270-4c69-9e2f-068334d8d200",
   "metadata": {},
   "outputs": [],
   "source": []
  },
  {
   "cell_type": "code",
   "execution_count": null,
   "id": "e73e3569-fd76-41e0-a218-7411b25b2035",
   "metadata": {},
   "outputs": [],
   "source": []
  },
  {
   "cell_type": "code",
   "execution_count": null,
   "id": "bda269ed-bdff-466d-b9d2-6dbbc03ead8b",
   "metadata": {},
   "outputs": [],
   "source": []
  },
  {
   "cell_type": "code",
   "execution_count": null,
   "id": "bb57d7ff-c4ab-43b2-916e-d2b14df12bd2",
   "metadata": {},
   "outputs": [],
   "source": []
  },
  {
   "cell_type": "code",
   "execution_count": null,
   "id": "829fba40-5087-4ed1-850b-2a3d7b5fbdc5",
   "metadata": {},
   "outputs": [],
   "source": []
  },
  {
   "cell_type": "code",
   "execution_count": null,
   "id": "d0efb81f-3f52-4ec3-96b7-43daf5bbc9ba",
   "metadata": {},
   "outputs": [],
   "source": []
  },
  {
   "cell_type": "code",
   "execution_count": null,
   "id": "1ac9d108-8d6c-4394-8875-8bb02da1d298",
   "metadata": {},
   "outputs": [],
   "source": []
  },
  {
   "cell_type": "code",
   "execution_count": null,
   "id": "4db18463-cca4-4353-8249-c977e16ca4fb",
   "metadata": {},
   "outputs": [],
   "source": []
  },
  {
   "cell_type": "code",
   "execution_count": null,
   "id": "13203921-fe30-447f-933b-486de83fe8c8",
   "metadata": {},
   "outputs": [],
   "source": []
  },
  {
   "cell_type": "code",
   "execution_count": null,
   "id": "e77a92b3-8464-4959-b379-fc70d4b49398",
   "metadata": {},
   "outputs": [],
   "source": []
  },
  {
   "cell_type": "code",
   "execution_count": null,
   "id": "6676823e-5f9e-47d2-b0b8-7dfb847197ed",
   "metadata": {},
   "outputs": [],
   "source": []
  },
  {
   "cell_type": "code",
   "execution_count": null,
   "id": "7cf26e90-9f9b-4f9e-91ca-8f0f0a71c2e5",
   "metadata": {},
   "outputs": [],
   "source": []
  },
  {
   "cell_type": "code",
   "execution_count": null,
   "id": "1bfc3b8e-2d3b-4c8f-aad4-ec6070b3b888",
   "metadata": {},
   "outputs": [],
   "source": []
  },
  {
   "cell_type": "code",
   "execution_count": null,
   "id": "2d222cfe-4a3c-4429-80f3-e48d14345395",
   "metadata": {},
   "outputs": [],
   "source": []
  },
  {
   "cell_type": "code",
   "execution_count": null,
   "id": "53e6489f-20f5-41ce-843a-995331492e65",
   "metadata": {},
   "outputs": [],
   "source": []
  },
  {
   "cell_type": "code",
   "execution_count": null,
   "id": "bd1c25ba-cb30-42b4-801e-8c5ddd4d0064",
   "metadata": {},
   "outputs": [],
   "source": []
  },
  {
   "cell_type": "code",
   "execution_count": null,
   "id": "d3d33d73-8c6e-4c84-bbdc-21659cc96b5e",
   "metadata": {},
   "outputs": [],
   "source": []
  },
  {
   "cell_type": "code",
   "execution_count": null,
   "id": "615ef398-0eed-4f66-b685-85594ac2d85c",
   "metadata": {},
   "outputs": [],
   "source": []
  },
  {
   "cell_type": "code",
   "execution_count": null,
   "id": "65c24a8b-8122-4096-b91c-bec41c7bdfb7",
   "metadata": {},
   "outputs": [],
   "source": []
  },
  {
   "cell_type": "code",
   "execution_count": null,
   "id": "bf8674e1-45ba-4fa5-9c30-116613b66186",
   "metadata": {},
   "outputs": [],
   "source": []
  },
  {
   "cell_type": "code",
   "execution_count": null,
   "id": "6fd99ca7-ab19-4b18-8355-12b90285ab2c",
   "metadata": {},
   "outputs": [],
   "source": []
  }
 ],
 "metadata": {
  "kernelspec": {
   "display_name": "Python 3 (ipykernel)",
   "language": "python",
   "name": "python3"
  },
  "language_info": {
   "codemirror_mode": {
    "name": "ipython",
    "version": 3
   },
   "file_extension": ".py",
   "mimetype": "text/x-python",
   "name": "python",
   "nbconvert_exporter": "python",
   "pygments_lexer": "ipython3",
   "version": "3.8.16"
  },
  "widgets": {
   "application/vnd.jupyter.widget-state+json": {
    "state": {},
    "version_major": 2,
    "version_minor": 0
   }
  }
 },
 "nbformat": 4,
 "nbformat_minor": 5
}
