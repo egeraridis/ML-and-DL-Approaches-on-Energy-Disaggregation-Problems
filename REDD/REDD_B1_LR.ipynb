{
 "cells": [
  {
   "cell_type": "code",
   "execution_count": 1,
   "id": "bc761f17-d817-49de-b1bc-c3ba9e8e3728",
   "metadata": {
    "execution": {
     "iopub.execute_input": "2023-08-15T00:41:21.590270Z",
     "iopub.status.busy": "2023-08-15T00:41:21.589394Z",
     "iopub.status.idle": "2023-08-15T00:41:23.181711Z",
     "shell.execute_reply": "2023-08-15T00:41:23.181347Z",
     "shell.execute_reply.started": "2023-08-15T00:41:21.590159Z"
    },
    "tags": []
   },
   "outputs": [
    {
     "name": "stdout",
     "output_type": "stream",
     "text": [
      "Start time: 2011-04-18 09:22:09, End time: 2011-05-24 15:57:02\n"
     ]
    }
   ],
   "source": [
    "from nilmtk import DataSet\n",
    "\n",
    "import pandas as pd\n",
    "import numpy as np\n",
    "from sklearn.metrics import mean_squared_error, mean_absolute_error, r2_score\n",
    "from __future__ import print_function, division\n",
    "import time\n",
    "from nilmtk import DataSet, TimeFrame, MeterGroup, HDFDataStore\n",
    "import nilmtk.utils\n",
    "redd = DataSet('/Users/evangelosgeraridis/Desktop/redd.h5')\n",
    "\n",
    "# Select a house from the dataset (e.g., House 1)\n",
    "first_building = redd.buildings[1]\n",
    "train = DataSet('/Users/evangelosgeraridis/Desktop/redd.h5')\n",
    "test = DataSet('/Users/evangelosgeraridis/Desktop/redd.h5')\n",
    "# Let us see now what dates are recorded in the building 1 subdataset from redd\n",
    "\n",
    "\n",
    "building_instance = 1  # Specify the building instance you want to work with\n",
    "\n",
    "# Access the elec object for the specified building instance\n",
    "elec = redd.buildings[building_instance].elec\n",
    "\n",
    "# Get the available timeframe\n",
    "timeframe = elec.get_timeframe()\n",
    "\n",
    "# Print the start and end timestamps to see the available dates for building 1 \n",
    "start_time = timeframe.start.strftime(\"%Y-%m-%d %H:%M:%S\")\n",
    "end_time = timeframe.end.strftime(\"%Y-%m-%d %H:%M:%S\")\n",
    "print(f\"Start time: {start_time}, End time: {end_time}\")"
   ]
  },
  {
   "cell_type": "code",
   "execution_count": 2,
   "id": "f6fe5036-108b-4512-8e98-6e918a205b7c",
   "metadata": {
    "execution": {
     "iopub.execute_input": "2023-08-15T00:41:30.666225Z",
     "iopub.status.busy": "2023-08-15T00:41:30.665545Z",
     "iopub.status.idle": "2023-08-15T00:41:35.895014Z",
     "shell.execute_reply": "2023-08-15T00:41:35.894735Z",
     "shell.execute_reply.started": "2023-08-15T00:41:30.666189Z"
    },
    "tags": []
   },
   "outputs": [
    {
     "name": "stdout",
     "output_type": "stream",
     "text": [
      "2/16 ElecMeter(instance=6, building=1, dataset='REDD', appliances=[Appliance(type='dish washer', instance=1)])"
     ]
    },
    {
     "name": "stderr",
     "output_type": "stream",
     "text": [
      "/Users/evangelosgeraridis/nilmtk/results.py:77: FutureWarning: The frame.append method is deprecated and will be removed from pandas in a future version. Use pandas.concat instead.\n",
      "  self._data = self._data.append(row, verify_integrity=True, sort=False)\n",
      "/Users/evangelosgeraridis/nilmtk/results.py:108: FutureWarning: The frame.append method is deprecated and will be removed from pandas in a future version. Use pandas.concat instead.\n",
      "  self._data = self._data.append(new_result._data, sort=False)\n",
      "/Users/evangelosgeraridis/nilmtk/elecmeter.py:742: FutureWarning: Passing a set as an indexer is deprecated and will raise in a future version. Use a list instead.\n",
      "  return pd.Series(res[ac_types], index=ac_types)\n"
     ]
    },
    {
     "name": "stdout",
     "output_type": "stream",
     "text": [
      "3/16 ElecMeter(instance=7, building=1, dataset='REDD', appliances=[Appliance(type='sockets', instance=1)])"
     ]
    },
    {
     "name": "stderr",
     "output_type": "stream",
     "text": [
      "/Users/evangelosgeraridis/nilmtk/results.py:77: FutureWarning: The frame.append method is deprecated and will be removed from pandas in a future version. Use pandas.concat instead.\n",
      "  self._data = self._data.append(row, verify_integrity=True, sort=False)\n",
      "/Users/evangelosgeraridis/nilmtk/results.py:108: FutureWarning: The frame.append method is deprecated and will be removed from pandas in a future version. Use pandas.concat instead.\n",
      "  self._data = self._data.append(new_result._data, sort=False)\n",
      "/Users/evangelosgeraridis/nilmtk/elecmeter.py:742: FutureWarning: Passing a set as an indexer is deprecated and will raise in a future version. Use a list instead.\n",
      "  return pd.Series(res[ac_types], index=ac_types)\n"
     ]
    },
    {
     "name": "stdout",
     "output_type": "stream",
     "text": [
      "4/16 ElecMeter(instance=8, building=1, dataset='REDD', appliances=[Appliance(type='sockets', instance=2)])"
     ]
    },
    {
     "name": "stderr",
     "output_type": "stream",
     "text": [
      "/Users/evangelosgeraridis/nilmtk/results.py:77: FutureWarning: The frame.append method is deprecated and will be removed from pandas in a future version. Use pandas.concat instead.\n",
      "  self._data = self._data.append(row, verify_integrity=True, sort=False)\n",
      "/Users/evangelosgeraridis/nilmtk/results.py:108: FutureWarning: The frame.append method is deprecated and will be removed from pandas in a future version. Use pandas.concat instead.\n",
      "  self._data = self._data.append(new_result._data, sort=False)\n",
      "/Users/evangelosgeraridis/nilmtk/elecmeter.py:742: FutureWarning: Passing a set as an indexer is deprecated and will raise in a future version. Use a list instead.\n",
      "  return pd.Series(res[ac_types], index=ac_types)\n"
     ]
    },
    {
     "name": "stdout",
     "output_type": "stream",
     "text": [
      "5/16 ElecMeter(instance=9, building=1, dataset='REDD', appliances=[Appliance(type='light', instance=1)])"
     ]
    },
    {
     "name": "stderr",
     "output_type": "stream",
     "text": [
      "/Users/evangelosgeraridis/nilmtk/results.py:77: FutureWarning: The frame.append method is deprecated and will be removed from pandas in a future version. Use pandas.concat instead.\n",
      "  self._data = self._data.append(row, verify_integrity=True, sort=False)\n",
      "/Users/evangelosgeraridis/nilmtk/results.py:108: FutureWarning: The frame.append method is deprecated and will be removed from pandas in a future version. Use pandas.concat instead.\n",
      "  self._data = self._data.append(new_result._data, sort=False)\n",
      "/Users/evangelosgeraridis/nilmtk/elecmeter.py:742: FutureWarning: Passing a set as an indexer is deprecated and will raise in a future version. Use a list instead.\n",
      "  return pd.Series(res[ac_types], index=ac_types)\n"
     ]
    },
    {
     "name": "stdout",
     "output_type": "stream",
     "text": [
      "6/16 ElecMeter(instance=11, building=1, dataset='REDD', appliances=[Appliance(type='microwave', instance=1)])"
     ]
    },
    {
     "name": "stderr",
     "output_type": "stream",
     "text": [
      "/Users/evangelosgeraridis/nilmtk/results.py:77: FutureWarning: The frame.append method is deprecated and will be removed from pandas in a future version. Use pandas.concat instead.\n",
      "  self._data = self._data.append(row, verify_integrity=True, sort=False)\n",
      "/Users/evangelosgeraridis/nilmtk/results.py:108: FutureWarning: The frame.append method is deprecated and will be removed from pandas in a future version. Use pandas.concat instead.\n",
      "  self._data = self._data.append(new_result._data, sort=False)\n",
      "/Users/evangelosgeraridis/nilmtk/elecmeter.py:742: FutureWarning: Passing a set as an indexer is deprecated and will raise in a future version. Use a list instead.\n",
      "  return pd.Series(res[ac_types], index=ac_types)\n"
     ]
    },
    {
     "name": "stdout",
     "output_type": "stream",
     "text": [
      "7/16 ElecMeter(instance=12, building=1, dataset='REDD', appliances=[Appliance(type='unknown', instance=1)])"
     ]
    },
    {
     "name": "stderr",
     "output_type": "stream",
     "text": [
      "/Users/evangelosgeraridis/nilmtk/results.py:77: FutureWarning: The frame.append method is deprecated and will be removed from pandas in a future version. Use pandas.concat instead.\n",
      "  self._data = self._data.append(row, verify_integrity=True, sort=False)\n",
      "/Users/evangelosgeraridis/nilmtk/results.py:108: FutureWarning: The frame.append method is deprecated and will be removed from pandas in a future version. Use pandas.concat instead.\n",
      "  self._data = self._data.append(new_result._data, sort=False)\n",
      "/Users/evangelosgeraridis/nilmtk/elecmeter.py:742: FutureWarning: Passing a set as an indexer is deprecated and will raise in a future version. Use a list instead.\n",
      "  return pd.Series(res[ac_types], index=ac_types)\n"
     ]
    },
    {
     "name": "stdout",
     "output_type": "stream",
     "text": [
      "8/16 ElecMeter(instance=13, building=1, dataset='REDD', appliances=[Appliance(type='electric space heater', instance=1)])"
     ]
    },
    {
     "name": "stderr",
     "output_type": "stream",
     "text": [
      "/Users/evangelosgeraridis/nilmtk/results.py:77: FutureWarning: The frame.append method is deprecated and will be removed from pandas in a future version. Use pandas.concat instead.\n",
      "  self._data = self._data.append(row, verify_integrity=True, sort=False)\n",
      "/Users/evangelosgeraridis/nilmtk/results.py:108: FutureWarning: The frame.append method is deprecated and will be removed from pandas in a future version. Use pandas.concat instead.\n",
      "  self._data = self._data.append(new_result._data, sort=False)\n",
      "/Users/evangelosgeraridis/nilmtk/elecmeter.py:742: FutureWarning: Passing a set as an indexer is deprecated and will raise in a future version. Use a list instead.\n",
      "  return pd.Series(res[ac_types], index=ac_types)\n"
     ]
    },
    {
     "name": "stdout",
     "output_type": "stream",
     "text": [
      "9/16 ElecMeter(instance=14, building=1, dataset='REDD', appliances=[Appliance(type='electric stove', instance=1)])"
     ]
    },
    {
     "name": "stderr",
     "output_type": "stream",
     "text": [
      "/Users/evangelosgeraridis/nilmtk/results.py:77: FutureWarning: The frame.append method is deprecated and will be removed from pandas in a future version. Use pandas.concat instead.\n",
      "  self._data = self._data.append(row, verify_integrity=True, sort=False)\n",
      "/Users/evangelosgeraridis/nilmtk/results.py:108: FutureWarning: The frame.append method is deprecated and will be removed from pandas in a future version. Use pandas.concat instead.\n",
      "  self._data = self._data.append(new_result._data, sort=False)\n",
      "/Users/evangelosgeraridis/nilmtk/elecmeter.py:742: FutureWarning: Passing a set as an indexer is deprecated and will raise in a future version. Use a list instead.\n",
      "  return pd.Series(res[ac_types], index=ac_types)\n"
     ]
    },
    {
     "name": "stdout",
     "output_type": "stream",
     "text": [
      "10/16 ElecMeter(instance=15, building=1, dataset='REDD', appliances=[Appliance(type='sockets', instance=3)])"
     ]
    },
    {
     "name": "stderr",
     "output_type": "stream",
     "text": [
      "/Users/evangelosgeraridis/nilmtk/results.py:77: FutureWarning: The frame.append method is deprecated and will be removed from pandas in a future version. Use pandas.concat instead.\n",
      "  self._data = self._data.append(row, verify_integrity=True, sort=False)\n",
      "/Users/evangelosgeraridis/nilmtk/results.py:108: FutureWarning: The frame.append method is deprecated and will be removed from pandas in a future version. Use pandas.concat instead.\n",
      "  self._data = self._data.append(new_result._data, sort=False)\n",
      "/Users/evangelosgeraridis/nilmtk/elecmeter.py:742: FutureWarning: Passing a set as an indexer is deprecated and will raise in a future version. Use a list instead.\n",
      "  return pd.Series(res[ac_types], index=ac_types)\n"
     ]
    },
    {
     "name": "stdout",
     "output_type": "stream",
     "text": [
      "11/16 ElecMeter(instance=16, building=1, dataset='REDD', appliances=[Appliance(type='sockets', instance=4)])"
     ]
    },
    {
     "name": "stderr",
     "output_type": "stream",
     "text": [
      "/Users/evangelosgeraridis/nilmtk/results.py:77: FutureWarning: The frame.append method is deprecated and will be removed from pandas in a future version. Use pandas.concat instead.\n",
      "  self._data = self._data.append(row, verify_integrity=True, sort=False)\n",
      "/Users/evangelosgeraridis/nilmtk/results.py:108: FutureWarning: The frame.append method is deprecated and will be removed from pandas in a future version. Use pandas.concat instead.\n",
      "  self._data = self._data.append(new_result._data, sort=False)\n",
      "/Users/evangelosgeraridis/nilmtk/elecmeter.py:742: FutureWarning: Passing a set as an indexer is deprecated and will raise in a future version. Use a list instead.\n",
      "  return pd.Series(res[ac_types], index=ac_types)\n"
     ]
    },
    {
     "name": "stdout",
     "output_type": "stream",
     "text": [
      "12/16 ElecMeter(instance=17, building=1, dataset='REDD', appliances=[Appliance(type='light', instance=2)])"
     ]
    },
    {
     "name": "stderr",
     "output_type": "stream",
     "text": [
      "/Users/evangelosgeraridis/nilmtk/results.py:77: FutureWarning: The frame.append method is deprecated and will be removed from pandas in a future version. Use pandas.concat instead.\n",
      "  self._data = self._data.append(row, verify_integrity=True, sort=False)\n",
      "/Users/evangelosgeraridis/nilmtk/results.py:108: FutureWarning: The frame.append method is deprecated and will be removed from pandas in a future version. Use pandas.concat instead.\n",
      "  self._data = self._data.append(new_result._data, sort=False)\n",
      "/Users/evangelosgeraridis/nilmtk/elecmeter.py:742: FutureWarning: Passing a set as an indexer is deprecated and will raise in a future version. Use a list instead.\n",
      "  return pd.Series(res[ac_types], index=ac_types)\n"
     ]
    },
    {
     "name": "stdout",
     "output_type": "stream",
     "text": [
      "13/16 ElecMeter(instance=18, building=1, dataset='REDD', appliances=[Appliance(type='light', instance=3)])"
     ]
    },
    {
     "name": "stderr",
     "output_type": "stream",
     "text": [
      "/Users/evangelosgeraridis/nilmtk/results.py:77: FutureWarning: The frame.append method is deprecated and will be removed from pandas in a future version. Use pandas.concat instead.\n",
      "  self._data = self._data.append(row, verify_integrity=True, sort=False)\n",
      "/Users/evangelosgeraridis/nilmtk/results.py:108: FutureWarning: The frame.append method is deprecated and will be removed from pandas in a future version. Use pandas.concat instead.\n",
      "  self._data = self._data.append(new_result._data, sort=False)\n",
      "/Users/evangelosgeraridis/nilmtk/elecmeter.py:742: FutureWarning: Passing a set as an indexer is deprecated and will raise in a future version. Use a list instead.\n",
      "  return pd.Series(res[ac_types], index=ac_types)\n"
     ]
    },
    {
     "name": "stdout",
     "output_type": "stream",
     "text": [
      "14/16 ElecMeter(instance=19, building=1, dataset='REDD', appliances=[Appliance(type='unknown', instance=2)])"
     ]
    },
    {
     "name": "stderr",
     "output_type": "stream",
     "text": [
      "/Users/evangelosgeraridis/nilmtk/results.py:77: FutureWarning: The frame.append method is deprecated and will be removed from pandas in a future version. Use pandas.concat instead.\n",
      "  self._data = self._data.append(row, verify_integrity=True, sort=False)\n",
      "/Users/evangelosgeraridis/nilmtk/results.py:108: FutureWarning: The frame.append method is deprecated and will be removed from pandas in a future version. Use pandas.concat instead.\n",
      "  self._data = self._data.append(new_result._data, sort=False)\n",
      "/Users/evangelosgeraridis/nilmtk/elecmeter.py:742: FutureWarning: Passing a set as an indexer is deprecated and will raise in a future version. Use a list instead.\n",
      "  return pd.Series(res[ac_types], index=ac_types)\n"
     ]
    },
    {
     "name": "stdout",
     "output_type": "stream",
     "text": [
      "15/16 MeterGroup(meters=\n",
      "  ElecMeter(instance=3, building=1, dataset='REDD', appliances=[Appliance(type='electric oven', instance=1)])\n",
      "  ElecMeter(instance=4, building=1, dataset='REDD', appliances=[Appliance(type='electric oven', instance=1)])\n",
      "Calculating total_energy for ElecMeterID(instance=3, building=1, dataset='REDD') ...   "
     ]
    },
    {
     "name": "stderr",
     "output_type": "stream",
     "text": [
      "/Users/evangelosgeraridis/nilmtk/results.py:77: FutureWarning: The frame.append method is deprecated and will be removed from pandas in a future version. Use pandas.concat instead.\n",
      "  self._data = self._data.append(row, verify_integrity=True, sort=False)\n",
      "/Users/evangelosgeraridis/nilmtk/results.py:108: FutureWarning: The frame.append method is deprecated and will be removed from pandas in a future version. Use pandas.concat instead.\n",
      "  self._data = self._data.append(new_result._data, sort=False)\n",
      "/Users/evangelosgeraridis/nilmtk/elecmeter.py:742: FutureWarning: Passing a set as an indexer is deprecated and will raise in a future version. Use a list instead.\n",
      "  return pd.Series(res[ac_types], index=ac_types)\n"
     ]
    },
    {
     "name": "stdout",
     "output_type": "stream",
     "text": [
      "Calculating total_energy for ElecMeterID(instance=4, building=1, dataset='REDD') ...   "
     ]
    },
    {
     "name": "stderr",
     "output_type": "stream",
     "text": [
      "/Users/evangelosgeraridis/nilmtk/results.py:77: FutureWarning: The frame.append method is deprecated and will be removed from pandas in a future version. Use pandas.concat instead.\n",
      "  self._data = self._data.append(row, verify_integrity=True, sort=False)\n",
      "/Users/evangelosgeraridis/nilmtk/results.py:108: FutureWarning: The frame.append method is deprecated and will be removed from pandas in a future version. Use pandas.concat instead.\n",
      "  self._data = self._data.append(new_result._data, sort=False)\n",
      "/Users/evangelosgeraridis/nilmtk/elecmeter.py:742: FutureWarning: Passing a set as an indexer is deprecated and will raise in a future version. Use a list instead.\n",
      "  return pd.Series(res[ac_types], index=ac_types)\n"
     ]
    },
    {
     "name": "stdout",
     "output_type": "stream",
     "text": [
      "16/16 MeterGroup(meters=\n",
      "  ElecMeter(instance=10, building=1, dataset='REDD', appliances=[Appliance(type='washer dryer', instance=1)])\n",
      "  ElecMeter(instance=20, building=1, dataset='REDD', appliances=[Appliance(type='washer dryer', instance=1)])\n",
      "Calculating total_energy for ElecMeterID(instance=10, building=1, dataset='REDD') ...   "
     ]
    },
    {
     "name": "stderr",
     "output_type": "stream",
     "text": [
      "/Users/evangelosgeraridis/nilmtk/results.py:77: FutureWarning: The frame.append method is deprecated and will be removed from pandas in a future version. Use pandas.concat instead.\n",
      "  self._data = self._data.append(row, verify_integrity=True, sort=False)\n",
      "/Users/evangelosgeraridis/nilmtk/results.py:108: FutureWarning: The frame.append method is deprecated and will be removed from pandas in a future version. Use pandas.concat instead.\n",
      "  self._data = self._data.append(new_result._data, sort=False)\n",
      "/Users/evangelosgeraridis/nilmtk/elecmeter.py:742: FutureWarning: Passing a set as an indexer is deprecated and will raise in a future version. Use a list instead.\n",
      "  return pd.Series(res[ac_types], index=ac_types)\n"
     ]
    },
    {
     "name": "stdout",
     "output_type": "stream",
     "text": [
      "Calculating total_energy for ElecMeterID(instance=20, building=1, dataset='REDD') ...   "
     ]
    },
    {
     "name": "stderr",
     "output_type": "stream",
     "text": [
      "/Users/evangelosgeraridis/nilmtk/results.py:77: FutureWarning: The frame.append method is deprecated and will be removed from pandas in a future version. Use pandas.concat instead.\n",
      "  self._data = self._data.append(row, verify_integrity=True, sort=False)\n",
      "/Users/evangelosgeraridis/nilmtk/results.py:108: FutureWarning: The frame.append method is deprecated and will be removed from pandas in a future version. Use pandas.concat instead.\n",
      "  self._data = self._data.append(new_result._data, sort=False)\n",
      "/Users/evangelosgeraridis/nilmtk/elecmeter.py:742: FutureWarning: Passing a set as an indexer is deprecated and will raise in a future version. Use a list instead.\n",
      "  return pd.Series(res[ac_types], index=ac_types)\n",
      "/Users/evangelosgeraridis/nilmtk/results.py:77: FutureWarning: The frame.append method is deprecated and will be removed from pandas in a future version. Use pandas.concat instead.\n",
      "  self._data = self._data.append(row, verify_integrity=True, sort=False)\n",
      "/Users/evangelosgeraridis/nilmtk/results.py:108: FutureWarning: The frame.append method is deprecated and will be removed from pandas in a future version. Use pandas.concat instead.\n",
      "  self._data = self._data.append(new_result._data, sort=False)\n",
      "/Users/evangelosgeraridis/nilmtk/elecmeter.py:742: FutureWarning: Passing a set as an indexer is deprecated and will raise in a future version. Use a list instead.\n",
      "  return pd.Series(res[ac_types], index=ac_types)\n"
     ]
    }
   ],
   "source": [
    "train_elec = train.buildings[1].elec\n",
    "test_elec = test.buildings[1].elec\n",
    "\n",
    "# let us selct the top 5 most signifficatnt/ frequent devices \n",
    "\n",
    "top_5_train_elec = train_elec.submeters().select_top_k(k=5)"
   ]
  },
  {
   "cell_type": "code",
   "execution_count": 3,
   "id": "82c1b9d3-0a31-4bbf-be79-d7a2ae79ffbc",
   "metadata": {
    "execution": {
     "iopub.execute_input": "2023-08-15T00:41:44.845785Z",
     "iopub.status.busy": "2023-08-15T00:41:44.844907Z",
     "iopub.status.idle": "2023-08-15T00:41:44.854581Z",
     "shell.execute_reply": "2023-08-15T00:41:44.853487Z",
     "shell.execute_reply.started": "2023-08-15T00:41:44.845739Z"
    },
    "tags": []
   },
   "outputs": [
    {
     "name": "stdout",
     "output_type": "stream",
     "text": [
      "fridge\n",
      "washer dryer\n",
      "light\n",
      "sockets\n",
      "dish washer\n"
     ]
    }
   ],
   "source": [
    "# print these apliances ( 5 most signifficant or freqent)\n",
    "if top_5_train_elec.meters:\n",
    "    # Get the names of the top 5 submeters\n",
    "    top_5_names = [elec.appliances[0].metadata['type'] for elec in top_5_train_elec.meters]\n",
    "\n",
    "    # Print the names of the top 5 submeters\n",
    "    for name in top_5_names:\n",
    "        print(name)\n",
    "else:\n",
    "    print(\"No submeters found.\")\n"
   ]
  },
  {
   "cell_type": "code",
   "execution_count": 4,
   "id": "ff41796b-a223-41ad-8b14-56b5f91d2e48",
   "metadata": {
    "execution": {
     "iopub.execute_input": "2023-08-15T00:42:06.880790Z",
     "iopub.status.busy": "2023-08-15T00:42:06.880067Z",
     "iopub.status.idle": "2023-08-15T00:42:09.803973Z",
     "shell.execute_reply": "2023-08-15T00:42:09.803597Z",
     "shell.execute_reply.started": "2023-08-15T00:42:06.880751Z"
    },
    "tags": []
   },
   "outputs": [
    {
     "name": "stderr",
     "output_type": "stream",
     "text": [
      "23/08/15 03:42:08 WARN Utils: Your hostname, Evangeloss-MacBook-Air.local resolves to a loopback address: 127.0.0.1; using 192.168.2.2 instead (on interface en0)\n",
      "23/08/15 03:42:08 WARN Utils: Set SPARK_LOCAL_IP if you need to bind to another address\n"
     ]
    },
    {
     "name": "stdout",
     "output_type": "stream",
     "text": [
      ":: loading settings :: url = jar:file:/opt/miniconda3/envs/nilmenv/lib/python3.8/site-packages/pyspark/jars/ivy-2.5.1.jar!/org/apache/ivy/core/settings/ivysettings.xml\n"
     ]
    },
    {
     "name": "stderr",
     "output_type": "stream",
     "text": [
      "Ivy Default Cache set to: /Users/evangelosgeraridis/.ivy2/cache\n",
      "The jars for the packages stored in: /Users/evangelosgeraridis/.ivy2/jars\n",
      "org.apache.spark#spark-mllib_2.12 added as a dependency\n",
      ":: resolving dependencies :: org.apache.spark#spark-submit-parent-34dcc61d-5eb5-45b6-971f-b3a398b80324;1.0\n",
      "\tconfs: [default]\n",
      ":: resolution report :: resolve 23ms :: artifacts dl 0ms\n",
      "\t:: modules in use:\n",
      "\t---------------------------------------------------------------------\n",
      "\t|                  |            modules            ||   artifacts   |\n",
      "\t|       conf       | number| search|dwnlded|evicted|| number|dwnlded|\n",
      "\t---------------------------------------------------------------------\n",
      "\t|      default     |   0   |   0   |   0   |   0   ||   0   |   0   |\n",
      "\t---------------------------------------------------------------------\n",
      ":: retrieving :: org.apache.spark#spark-submit-parent-34dcc61d-5eb5-45b6-971f-b3a398b80324\n",
      "\tconfs: [default]\n",
      "\t0 artifacts copied, 0 already retrieved (0kB/2ms)\n",
      "Setting default log level to \"WARN\".\n",
      "To adjust logging level use sc.setLogLevel(newLevel). For SparkR, use setLogLevel(newLevel).\n",
      "23/08/15 03:42:08 WARN NativeCodeLoader: Unable to load native-hadoop library for your platform... using builtin-java classes where applicable\n"
     ]
    }
   ],
   "source": [
    "from pyspark.sql import SparkSession\n",
    "from pyspark.sql.functions import col\n",
    "\n",
    "import warnings\n",
    "warnings.filterwarnings(\"ignore\", category=DeprecationWarning)\n",
    "warnings.filterwarnings(\"ignore\", category=FutureWarning)\n",
    "# Create a SparkSession\n",
    "spark = SparkSession.builder \\\n",
    "    .master(\"local[*]\") \\\n",
    "    .appName(\"Spark_LinearREG_REDD_Expiriment_b1.com\") \\\n",
    "    .config(\"spark.jars.packages\", \"org.apache.spark:spark-mllib_2.12:3.2.0\") \\\n",
    "    .config(\"spark.driver.memory\", \"6g\") \\\n",
    "    .config(\"spark.executor.memory\", \"6g\") \\\n",
    "    .config(\"spark.executor.cores\", \"7\") \\\n",
    "    .config(\"spark.driver.maxResultSize\", \"5g\") \\\n",
    "    .config(\"spark.sql.shuffle.partitions\", \"10000\") \\\n",
    "    .config(\"spark.sql.autoBroadcastJoinThreshold\", \"-1\") \\\n",
    "    .getOrCreate()\n",
    "\n",
    "    \n",
    "\n",
    " #  all available cores on the machine\n",
    "#spark app name\n",
    "# amount of memory allocated to the driver program.\n",
    " #  amount of memory allocated to each executor (worker) in Spark.\n",
    "# important as the below in this project Sets the number of cores used by each execut\n",
    "# IMPORTANT here: Sets the maximum size of the results returned to the driver program\n",
    " #Sets the number of partitions to use when shuffling data in Spark SQL"
   ]
  },
  {
   "cell_type": "code",
   "execution_count": 5,
   "id": "ba35eb2e-5b63-4231-93fe-a8e6edcfa0f0",
   "metadata": {
    "execution": {
     "iopub.execute_input": "2023-08-15T00:42:20.465345Z",
     "iopub.status.busy": "2023-08-15T00:42:20.464403Z",
     "iopub.status.idle": "2023-08-15T00:43:11.673406Z",
     "shell.execute_reply": "2023-08-15T00:43:11.672586Z",
     "shell.execute_reply.started": "2023-08-15T00:42:20.465262Z"
    },
    "tags": []
   },
   "outputs": [
    {
     "name": "stdout",
     "output_type": "stream",
     "text": [
      "Loading data for meter ElecMeterID(instance=2, building=1, dataset='REDD')     \n",
      "Done loading data all meters for this chunk.\n"
     ]
    }
   ],
   "source": [
    "mains = train_elec.mains()\n",
    "mains_df = next(mains.load())\n",
    "\n",
    "# Reset the index and rename the columns\n",
    "mains_df = mains_df.reset_index()\n",
    "mains_df.columns = ['TIMESTAMP', 'AGGREGATED_POWER']\n",
    "mains_df = spark.createDataFrame(mains_df)\n"
   ]
  },
  {
   "cell_type": "code",
   "execution_count": 6,
   "id": "6990160f-29e6-4c11-b214-1fb881a032dc",
   "metadata": {
    "execution": {
     "iopub.execute_input": "2023-08-15T00:43:46.346822Z",
     "iopub.status.busy": "2023-08-15T00:43:46.345934Z",
     "iopub.status.idle": "2023-08-15T00:45:16.046992Z",
     "shell.execute_reply": "2023-08-15T00:45:16.046131Z",
     "shell.execute_reply.started": "2023-08-15T00:43:46.346717Z"
    },
    "tags": []
   },
   "outputs": [
    {
     "name": "stdout",
     "output_type": "stream",
     "text": [
      "Loading data for meter ElecMeterID(instance=20, building=1, dataset='REDD')     \n",
      "Done loading data all meters for this chunk.\n"
     ]
    },
    {
     "name": "stderr",
     "output_type": "stream",
     "text": [
      "23/08/15 03:44:50 WARN TaskSetManager: Stage 0 contains a task of very large size (7657 KiB). The maximum recommended task size is 1000 KiB.\n",
      "23/08/15 03:44:53 WARN TaskSetManager: Stage 1 contains a task of very large size (1829 KiB). The maximum recommended task size is 1000 KiB.\n",
      "23/08/15 03:44:55 WARN TaskSetManager: Stage 5 contains a task of very large size (7657 KiB). The maximum recommended task size is 1000 KiB.\n"
     ]
    },
    {
     "name": "stdout",
     "output_type": "stream",
     "text": [
      "+-------------------+------------------+------------+\n",
      "|          TIMESTAMP|  AGGREGATED_POWER|FRIDGE_POWER|\n",
      "+-------------------+------------------+------------+\n",
      "|2011-04-18 16:22:26|   341.77001953125|         6.0|\n",
      "|2011-04-18 16:22:47| 342.3399963378906|         6.0|\n",
      "|2011-04-18 16:23:43|            345.75|         6.0|\n",
      "|2011-04-18 16:24:08|  346.010009765625|         6.0|\n",
      "|2011-04-18 16:24:23|344.54998779296875|         6.0|\n",
      "|2011-04-18 16:25:55|340.32000732421875|         6.0|\n",
      "|2011-04-18 16:26:55|  344.739990234375|         6.0|\n",
      "|2011-04-18 16:27:42|             344.0|         6.0|\n",
      "|2011-04-18 16:27:46| 345.8899841308594|         6.0|\n",
      "|2011-04-18 16:28:36| 337.8699951171875|         6.0|\n",
      "|2011-04-18 16:28:43|  338.239990234375|         6.0|\n",
      "|2011-04-18 16:28:46| 337.6300048828125|         6.0|\n",
      "|2011-04-18 16:28:53|   337.77001953125|         6.0|\n",
      "|2011-04-18 16:30:54| 337.1300048828125|         6.0|\n",
      "|2011-04-18 16:31:17|343.04998779296875|         6.0|\n",
      "|2011-04-18 16:31:44|335.91998291015625|         6.0|\n",
      "|2011-04-18 16:32:05|341.19000244140625|         6.0|\n",
      "|2011-04-18 16:32:38|  340.739990234375|         6.0|\n",
      "|2011-04-18 16:33:17| 340.4700012207031|         6.0|\n",
      "|2011-04-18 16:33:55| 340.3899841308594|         6.0|\n",
      "+-------------------+------------------+------------+\n",
      "only showing top 20 rows\n",
      "\n",
      "root\n",
      " |-- TIMESTAMP: timestamp (nullable = true)\n",
      " |-- AGGREGATED_POWER: double (nullable = true)\n",
      " |-- FRIDGE_POWER: double (nullable = true)\n",
      "\n"
     ]
    },
    {
     "name": "stderr",
     "output_type": "stream",
     "text": [
      "23/08/15 03:44:58 WARN TaskSetManager: Stage 6 contains a task of very large size (2550 KiB). The maximum recommended task size is 1000 KiB.\n",
      "23/08/15 03:45:01 WARN TaskSetManager: Stage 10 contains a task of very large size (7657 KiB). The maximum recommended task size is 1000 KiB.\n"
     ]
    },
    {
     "name": "stdout",
     "output_type": "stream",
     "text": [
      "+-------------------+------------------+------------------+\n",
      "|          TIMESTAMP|  AGGREGATED_POWER|WASHER_DRYER_POWER|\n",
      "+-------------------+------------------+------------------+\n",
      "|2011-04-18 16:22:39|344.69000244140625|               0.0|\n",
      "|2011-04-18 16:23:12| 344.1099853515625|               0.0|\n",
      "|2011-04-18 16:23:24| 346.4700012207031|               0.0|\n",
      "|2011-04-18 16:23:48|345.46002197265625|               0.0|\n",
      "|2011-04-18 16:24:24| 344.6000061035156|               0.0|\n",
      "|2011-04-18 16:24:57| 343.2699890136719|               0.0|\n",
      "|2011-04-18 16:25:00|342.04998779296875|               0.0|\n",
      "|2011-04-18 16:25:21|344.91998291015625|               0.0|\n",
      "|2011-04-18 16:26:15|339.58001708984375|               0.0|\n",
      "|2011-04-18 16:26:18|   345.27001953125|               0.0|\n",
      "|2011-04-18 16:27:03|            346.25|               0.0|\n",
      "|2011-04-18 16:27:12|347.58001708984375|               0.0|\n",
      "|2011-04-18 16:27:15|342.16998291015625|               0.0|\n",
      "|2011-04-18 16:27:36|345.69000244140625|               0.0|\n",
      "|2011-04-18 16:27:42|             344.0|               0.0|\n",
      "|2011-04-18 16:28:00|341.82000732421875|               0.0|\n",
      "|2011-04-18 16:28:36| 337.8699951171875|               0.0|\n",
      "|2011-04-18 16:28:51| 336.8900146484375|               0.0|\n",
      "|2011-04-18 16:28:54| 337.8800048828125|               0.0|\n",
      "|2011-04-18 16:29:09| 336.6600036621094|               0.0|\n",
      "+-------------------+------------------+------------------+\n",
      "only showing top 20 rows\n",
      "\n",
      "root\n",
      " |-- TIMESTAMP: timestamp (nullable = true)\n",
      " |-- AGGREGATED_POWER: double (nullable = true)\n",
      " |-- WASHER_DRYER_POWER: double (nullable = true)\n",
      "\n"
     ]
    },
    {
     "name": "stderr",
     "output_type": "stream",
     "text": [
      "23/08/15 03:45:04 WARN TaskSetManager: Stage 11 contains a task of very large size (1829 KiB). The maximum recommended task size is 1000 KiB.\n",
      "23/08/15 03:45:06 WARN TaskSetManager: Stage 15 contains a task of very large size (7657 KiB). The maximum recommended task size is 1000 KiB.\n"
     ]
    },
    {
     "name": "stdout",
     "output_type": "stream",
     "text": [
      "+-------------------+------------------+-----------+\n",
      "|          TIMESTAMP|  AGGREGATED_POWER|LIGHT_POWER|\n",
      "+-------------------+------------------+-----------+\n",
      "|2011-04-18 16:22:26|   341.77001953125|       81.0|\n",
      "|2011-04-18 16:22:47| 342.3399963378906|       81.0|\n",
      "|2011-04-18 16:23:43|            345.75|       81.0|\n",
      "|2011-04-18 16:24:08|  346.010009765625|       81.0|\n",
      "|2011-04-18 16:24:23|344.54998779296875|       81.0|\n",
      "|2011-04-18 16:25:55|340.32000732421875|       81.0|\n",
      "|2011-04-18 16:26:55|  344.739990234375|       81.0|\n",
      "|2011-04-18 16:27:42|             344.0|       81.0|\n",
      "|2011-04-18 16:27:46| 345.8899841308594|       81.0|\n",
      "|2011-04-18 16:28:36| 337.8699951171875|       81.0|\n",
      "|2011-04-18 16:28:43|  338.239990234375|       81.0|\n",
      "|2011-04-18 16:28:46| 337.6300048828125|       81.0|\n",
      "|2011-04-18 16:28:53|   337.77001953125|       80.0|\n",
      "|2011-04-18 16:30:54| 337.1300048828125|       81.0|\n",
      "|2011-04-18 16:31:17|343.04998779296875|       81.0|\n",
      "|2011-04-18 16:31:44|335.91998291015625|       80.0|\n",
      "|2011-04-18 16:32:05|341.19000244140625|       81.0|\n",
      "|2011-04-18 16:32:38|  340.739990234375|       81.0|\n",
      "|2011-04-18 16:33:17| 340.4700012207031|       81.0|\n",
      "|2011-04-18 16:33:55| 340.3899841308594|       81.0|\n",
      "+-------------------+------------------+-----------+\n",
      "only showing top 20 rows\n",
      "\n",
      "root\n",
      " |-- TIMESTAMP: timestamp (nullable = true)\n",
      " |-- AGGREGATED_POWER: double (nullable = true)\n",
      " |-- LIGHT_POWER: double (nullable = true)\n",
      "\n"
     ]
    },
    {
     "name": "stderr",
     "output_type": "stream",
     "text": [
      "23/08/15 03:45:09 WARN TaskSetManager: Stage 16 contains a task of very large size (1829 KiB). The maximum recommended task size is 1000 KiB.\n",
      "23/08/15 03:45:11 WARN TaskSetManager: Stage 20 contains a task of very large size (7657 KiB). The maximum recommended task size is 1000 KiB.\n"
     ]
    },
    {
     "name": "stdout",
     "output_type": "stream",
     "text": [
      "+-------------------+------------------+-------------+\n",
      "|          TIMESTAMP|  AGGREGATED_POWER|SOCKETS_POWER|\n",
      "+-------------------+------------------+-------------+\n",
      "|2011-04-18 16:22:26|   341.77001953125|         34.0|\n",
      "|2011-04-18 16:22:47| 342.3399963378906|         34.0|\n",
      "|2011-04-18 16:23:43|            345.75|         38.0|\n",
      "|2011-04-18 16:24:08|  346.010009765625|         35.0|\n",
      "|2011-04-18 16:24:23|344.54998779296875|         34.0|\n",
      "|2011-04-18 16:25:55|340.32000732421875|         32.0|\n",
      "|2011-04-18 16:26:55|  344.739990234375|         38.0|\n",
      "|2011-04-18 16:27:42|             344.0|         34.0|\n",
      "|2011-04-18 16:27:46| 345.8899841308594|         34.0|\n",
      "|2011-04-18 16:28:36| 337.8699951171875|         31.0|\n",
      "|2011-04-18 16:28:43|  338.239990234375|         33.0|\n",
      "|2011-04-18 16:28:46| 337.6300048828125|         32.0|\n",
      "|2011-04-18 16:28:53|   337.77001953125|         31.0|\n",
      "|2011-04-18 16:30:54| 337.1300048828125|         31.0|\n",
      "|2011-04-18 16:31:17|343.04998779296875|         35.0|\n",
      "|2011-04-18 16:31:44|335.91998291015625|         32.0|\n",
      "|2011-04-18 16:32:05|341.19000244140625|         34.0|\n",
      "|2011-04-18 16:32:38|  340.739990234375|         34.0|\n",
      "|2011-04-18 16:33:17| 340.4700012207031|         34.0|\n",
      "|2011-04-18 16:33:55| 340.3899841308594|         34.0|\n",
      "+-------------------+------------------+-------------+\n",
      "only showing top 20 rows\n",
      "\n",
      "root\n",
      " |-- TIMESTAMP: timestamp (nullable = true)\n",
      " |-- AGGREGATED_POWER: double (nullable = true)\n",
      " |-- SOCKETS_POWER: double (nullable = true)\n",
      "\n"
     ]
    },
    {
     "name": "stderr",
     "output_type": "stream",
     "text": [
      "23/08/15 03:45:13 WARN TaskSetManager: Stage 21 contains a task of very large size (1829 KiB). The maximum recommended task size is 1000 KiB.\n",
      "[Stage 21:>                                                         (0 + 8) / 8]\r"
     ]
    },
    {
     "name": "stdout",
     "output_type": "stream",
     "text": [
      "+-------------------+------------------+----------------+\n",
      "|          TIMESTAMP|  AGGREGATED_POWER|DISHWASHER_POWER|\n",
      "+-------------------+------------------+----------------+\n",
      "|2011-04-18 16:22:26|   341.77001953125|             0.0|\n",
      "|2011-04-18 16:22:47| 342.3399963378906|             0.0|\n",
      "|2011-04-18 16:23:43|            345.75|             0.0|\n",
      "|2011-04-18 16:24:08|  346.010009765625|             0.0|\n",
      "|2011-04-18 16:24:23|344.54998779296875|             0.0|\n",
      "|2011-04-18 16:25:55|340.32000732421875|             0.0|\n",
      "|2011-04-18 16:26:55|  344.739990234375|             0.0|\n",
      "|2011-04-18 16:27:42|             344.0|             1.0|\n",
      "|2011-04-18 16:27:46| 345.8899841308594|             0.0|\n",
      "|2011-04-18 16:28:36| 337.8699951171875|             0.0|\n",
      "|2011-04-18 16:28:43|  338.239990234375|             1.0|\n",
      "|2011-04-18 16:28:46| 337.6300048828125|             0.0|\n",
      "|2011-04-18 16:28:53|   337.77001953125|             0.0|\n",
      "|2011-04-18 16:30:54| 337.1300048828125|             1.0|\n",
      "|2011-04-18 16:31:17|343.04998779296875|             0.0|\n",
      "|2011-04-18 16:31:44|335.91998291015625|             0.0|\n",
      "|2011-04-18 16:32:05|341.19000244140625|             0.0|\n",
      "|2011-04-18 16:32:38|  340.739990234375|             0.0|\n",
      "|2011-04-18 16:33:17| 340.4700012207031|             0.0|\n",
      "|2011-04-18 16:33:55| 340.3899841308594|             0.0|\n",
      "+-------------------+------------------+----------------+\n",
      "only showing top 20 rows\n",
      "\n",
      "root\n",
      " |-- TIMESTAMP: timestamp (nullable = true)\n",
      " |-- AGGREGATED_POWER: double (nullable = true)\n",
      " |-- DISHWASHER_POWER: double (nullable = true)\n",
      "\n"
     ]
    },
    {
     "name": "stderr",
     "output_type": "stream",
     "text": [
      "                                                                                \r"
     ]
    }
   ],
   "source": [
    "from pyspark.sql.functions import *\n",
    "from pyspark.sql.types import DoubleType, TimestampType\n",
    "\n",
    "device_names = ['fridge', 'washer dryer', 'light', 'sockets', 'dish washer']\n",
    "\n",
    "device_data = {}\n",
    "join_data = {}\n",
    "\n",
    "for device_name in device_names:\n",
    "    device_meter = train_elec[device_name]\n",
    "    try:\n",
    "        device_df = next(device_meter.load())\n",
    "        device_df = device_df.reset_index()\n",
    "        \n",
    "        if device_name == 'washer dryer':\n",
    "            device_name = 'wash_dryer'\n",
    "            device_df.columns = ['TIMESTAMP', 'WASHER_DRYER_POWER']\n",
    "        elif device_name == 'dish washer':\n",
    "            device_name = 'dishwasher'\n",
    "            device_df.columns = ['TIMESTAMP', 'DISHWASHER_POWER']\n",
    "        else:\n",
    "            device_df.columns = ['TIMESTAMP', device_name.upper() + '_POWER']\n",
    "        \n",
    "        device_spark_df = spark.createDataFrame(device_df)\n",
    "        device_data[device_name] = device_spark_df\n",
    "        \n",
    "    except StopIteration:\n",
    "        print(f\"No data found for {device_name}. Skipping...\")\n",
    "\n",
    "    if device_name in device_data:\n",
    "        df = device_data[device_name]\n",
    "        df = df.withColumn('TIMESTAMP', col('TIMESTAMP').cast(TimestampType()))\n",
    "        \n",
    "        for column in df.columns:\n",
    "            if column != 'TIMESTAMP':\n",
    "                df = df.withColumn(column, col(column).cast(DoubleType()))\n",
    "        \n",
    "        join_data[device_name] = df\n",
    "\n",
    "for df_name, df in join_data.items():\n",
    "    df = mains_df.join(df, on='TIMESTAMP')\n",
    "    df = df.dropna()\n",
    "    \n",
    "    join_data[df_name] = df\n",
    "\n",
    "    df.show()\n",
    "    df.printSchema()"
   ]
  },
  {
   "cell_type": "code",
   "execution_count": 11,
   "id": "584d5bd2-92dc-44ac-b9a6-e2c12c6b102e",
   "metadata": {
    "execution": {
     "iopub.execute_input": "2023-08-15T00:45:32.942175Z",
     "iopub.status.busy": "2023-08-15T00:45:32.940917Z",
     "iopub.status.idle": "2023-08-15T00:45:32.950107Z",
     "shell.execute_reply": "2023-08-15T00:45:32.949669Z",
     "shell.execute_reply.started": "2023-08-15T00:45:32.942113Z"
    },
    "tags": []
   },
   "outputs": [],
   "source": [
    "fridge_df = join_data['fridge']\n",
    "washer_df = join_data['wash_dryer']\n",
    "light_df = join_data['light']\n",
    "sockets_df = join_data['sockets']\n",
    "dishwasher_df = join_data['dishwasher']"
   ]
  },
  {
   "cell_type": "code",
   "execution_count": 12,
   "id": "a1ecf589-5ae6-4afb-b449-73d1d2b83785",
   "metadata": {
    "execution": {
     "iopub.execute_input": "2023-08-15T00:45:38.697347Z",
     "iopub.status.busy": "2023-08-15T00:45:38.696377Z",
     "iopub.status.idle": "2023-08-15T00:45:38.747006Z",
     "shell.execute_reply": "2023-08-15T00:45:38.746464Z",
     "shell.execute_reply.started": "2023-08-15T00:45:38.697298Z"
    },
    "tags": []
   },
   "outputs": [],
   "source": [
    "\n",
    "train_start_date = \"2011-04-18\"\n",
    "train_end_date = \"2011-05-15\"\n",
    "test_start_date = \"2011-05-16\"\n",
    "test_end_date = \"2011-05-24\"\n",
    "\n",
    "mains_train = mains_df.filter((col(\"TIMESTAMP\") >= train_start_date) & (col(\"TIMESTAMP\") <= train_end_date)).dropna()\n",
    "mains_test = mains_df.filter((col(\"TIMESTAMP\") >= test_start_date) & (col(\"TIMESTAMP\") <= test_end_date)).dropna()\n",
    "# not needed since we joined/concatenated them only if we wanted to predict the total power... "
   ]
  },
  {
   "cell_type": "code",
   "execution_count": 13,
   "id": "6a60a1d4-3a33-4583-bf03-599ac31b8f8a",
   "metadata": {
    "execution": {
     "iopub.execute_input": "2023-08-15T00:45:45.936550Z",
     "iopub.status.busy": "2023-08-15T00:45:45.935850Z",
     "iopub.status.idle": "2023-08-15T00:45:46.055403Z",
     "shell.execute_reply": "2023-08-15T00:45:46.054988Z",
     "shell.execute_reply.started": "2023-08-15T00:45:45.936500Z"
    },
    "tags": []
   },
   "outputs": [],
   "source": [
    "fridge_train = fridge_df.filter((col(\"TIMESTAMP\") >= train_start_date) & (col(\"TIMESTAMP\") <= train_end_date)).dropna()\n",
    "fridge_test = fridge_df.filter((col(\"TIMESTAMP\") >= test_start_date) & (col(\"TIMESTAMP\") <= test_end_date)).dropna()\n",
    "\n",
    "dishwasher_train = dishwasher_df.filter((col(\"TIMESTAMP\") >= train_start_date) & (col(\"TIMESTAMP\") <= train_end_date)).dropna()\n",
    "dishwasher_test = dishwasher_df.filter((col(\"TIMESTAMP\") >= test_start_date) & (col(\"TIMESTAMP\") <= test_end_date)).dropna()\n",
    "\n",
    "washer_train = washer_df.filter((col(\"TIMESTAMP\") >= train_start_date) & (col(\"TIMESTAMP\") <= train_end_date)).dropna()\n",
    "washer_test = washer_df.filter((col(\"TIMESTAMP\") >= test_start_date) & (col(\"TIMESTAMP\") <= test_end_date)).dropna()\n",
    "\n",
    "light_train = light_df.filter((col(\"TIMESTAMP\") >= train_start_date) & (col(\"TIMESTAMP\") <= train_end_date)).dropna()\n",
    "light_test = light_df.filter((col(\"TIMESTAMP\") >= test_start_date) & (col(\"TIMESTAMP\") <= test_end_date)).dropna()\n",
    "\n",
    "sockets_train = sockets_df.filter((col(\"TIMESTAMP\") >= train_start_date) & (col(\"TIMESTAMP\") <= train_end_date)).dropna()\n",
    "sockets_test = sockets_df.filter((col(\"TIMESTAMP\") >= test_start_date) & (col(\"TIMESTAMP\") <= test_end_date)).dropna()\n",
    "\n"
   ]
  },
  {
   "cell_type": "code",
   "execution_count": 14,
   "id": "ea9ac88d-2602-4e88-b334-c72b9045df0e",
   "metadata": {
    "execution": {
     "iopub.execute_input": "2023-08-15T00:45:46.321088Z",
     "iopub.status.busy": "2023-08-15T00:45:46.320268Z",
     "iopub.status.idle": "2023-08-15T00:45:46.330089Z",
     "shell.execute_reply": "2023-08-15T00:45:46.329116Z",
     "shell.execute_reply.started": "2023-08-15T00:45:46.321035Z"
    },
    "tags": []
   },
   "outputs": [],
   "source": [
    "input_cols = {'fridge': ['AGGREGATED_POWER'],\n",
    "              'washer': ['AGGREGATED_POWER'],\n",
    "              'light': ['AGGREGATED_POWER'],\n",
    "              'sockets': ['AGGREGATED_POWER'],\n",
    "              'dishwasher': ['AGGREGATED_POWER']}\n",
    "              \n",
    "output_cols = {'fridge': 'FRIDGE_POWER',\n",
    "               'washer': 'WASHER_DRYER_POWER',\n",
    "               'light': 'LIGHT_POWER',\n",
    "               'sockets': 'SOCKETS_POWER',\n",
    "               'dishwasher': 'DISHWASHER_POWER'}\n",
    "\n",
    "# Initialize the evaluation results dictionary\n",
    "evaluation_results = {}\n"
   ]
  },
  {
   "cell_type": "code",
   "execution_count": 16,
   "id": "c117e844-8d90-4533-b761-b34b791a5e72",
   "metadata": {
    "execution": {
     "iopub.execute_input": "2023-08-15T00:46:36.400078Z",
     "iopub.status.busy": "2023-08-15T00:46:36.399226Z",
     "iopub.status.idle": "2023-08-15T00:47:19.450852Z",
     "shell.execute_reply": "2023-08-15T00:47:19.449875Z",
     "shell.execute_reply.started": "2023-08-15T00:46:36.399977Z"
    },
    "tags": []
   },
   "outputs": [
    {
     "name": "stderr",
     "output_type": "stream",
     "text": [
      "23/08/15 03:46:36 WARN TaskSetManager: Stage 25 contains a task of very large size (7657 KiB). The maximum recommended task size is 1000 KiB.\n",
      "23/08/15 03:46:37 WARN TaskSetManager: Stage 26 contains a task of very large size (1829 KiB). The maximum recommended task size is 1000 KiB.\n",
      "23/08/15 03:46:42 WARN TaskSetManager: Stage 34 contains a task of very large size (7657 KiB). The maximum recommended task size is 1000 KiB.\n",
      "23/08/15 03:46:44 WARN TaskSetManager: Stage 35 contains a task of very large size (1829 KiB). The maximum recommended task size is 1000 KiB.\n",
      "23/08/15 03:46:56 WARN TaskSetManager: Stage 36 contains a task of very large size (7657 KiB). The maximum recommended task size is 1000 KiB.\n",
      "23/08/15 03:46:57 WARN TaskSetManager: Stage 37 contains a task of very large size (1829 KiB). The maximum recommended task size is 1000 KiB.\n",
      "23/08/15 03:47:00 WARN InstanceBuilder: Failed to load implementation from:dev.ludovic.netlib.blas.JNIBLAS\n",
      "23/08/15 03:47:01 WARN InstanceBuilder: Failed to load implementation from:dev.ludovic.netlib.lapack.JNILAPACK\n",
      "23/08/15 03:47:01 WARN TaskSetManager: Stage 42 contains a task of very large size (7657 KiB). The maximum recommended task size is 1000 KiB.\n",
      "23/08/15 03:47:02 WARN TaskSetManager: Stage 43 contains a task of very large size (1829 KiB). The maximum recommended task size is 1000 KiB.\n",
      "23/08/15 03:47:06 WARN TaskSetManager: Stage 48 contains a task of very large size (7657 KiB). The maximum recommended task size is 1000 KiB.\n",
      "23/08/15 03:47:07 WARN TaskSetManager: Stage 49 contains a task of very large size (1829 KiB). The maximum recommended task size is 1000 KiB.\n",
      "23/08/15 03:47:09 WARN TaskSetManager: Stage 54 contains a task of very large size (7657 KiB). The maximum recommended task size is 1000 KiB.\n",
      "23/08/15 03:47:09 WARN TaskSetManager: Stage 55 contains a task of very large size (1829 KiB). The maximum recommended task size is 1000 KiB.\n",
      "23/08/15 03:47:11 WARN TaskSetManager: Stage 60 contains a task of very large size (7657 KiB). The maximum recommended task size is 1000 KiB.\n",
      "23/08/15 03:47:12 WARN TaskSetManager: Stage 61 contains a task of very large size (1829 KiB). The maximum recommended task size is 1000 KiB.\n",
      "23/08/15 03:47:14 WARN TaskSetManager: Stage 66 contains a task of very large size (7657 KiB). The maximum recommended task size is 1000 KiB.\n",
      "23/08/15 03:47:14 WARN TaskSetManager: Stage 67 contains a task of very large size (1829 KiB). The maximum recommended task size is 1000 KiB.\n",
      "23/08/15 03:47:16 WARN TaskSetManager: Stage 72 contains a task of very large size (7657 KiB). The maximum recommended task size is 1000 KiB.\n",
      "23/08/15 03:47:17 WARN TaskSetManager: Stage 73 contains a task of very large size (1829 KiB). The maximum recommended task size is 1000 KiB.\n",
      "[Stage 72:=============>    (6 + 2) / 8][Stage 73:=============>    (6 + 2) / 8]\r"
     ]
    },
    {
     "name": "stdout",
     "output_type": "stream",
     "text": [
      "Metrics for fridge:\n",
      "MSE: 9171.640780490057\n",
      "RMSE: 95.76868371492874\n",
      "MAE: 77.67734394130996\n",
      "R2: -0.03164740691911572\n",
      "RMAE: 1.1245495534810603\n"
     ]
    },
    {
     "name": "stderr",
     "output_type": "stream",
     "text": [
      "                                                                                \r"
     ]
    }
   ],
   "source": [
    "from pyspark.ml import Pipeline\n",
    "from pyspark.ml.regression import LinearRegression\n",
    "from pyspark.ml.feature import VectorAssembler, MinMaxScaler\n",
    "from pyspark.ml.evaluation import RegressionEvaluator\n",
    "\n",
    "\n",
    "# Create vector assembler for input columns\n",
    "assembler_fridge = VectorAssembler(inputCols=input_cols['fridge'], outputCol='features')\n",
    "\n",
    "# Create scaler\n",
    "scaler_fridge = MinMaxScaler(inputCol='features', outputCol='scaled_features')\n",
    "\n",
    "# Create random forest regressor\n",
    "lr_fridge = LinearRegression(featuresCol='scaled_features', labelCol=output_cols['fridge'], maxIter=50, regParam=0.2)\n",
    "\n",
    "# Create pipeline\n",
    "pipeline_fridge = Pipeline(stages=[assembler_fridge, scaler_fridge, lr_fridge])\n",
    "\n",
    "# Fit pipeline on train data\n",
    "pipeline_model_fridge = pipeline_fridge.fit(fridge_train)\n",
    "\n",
    "# Make predictions on test data\n",
    "predictions_fridge = pipeline_model_fridge.transform(fridge_test)\n",
    "\n",
    "# Evaluate the model on the predicted column\n",
    "evaluator_mse_fridge = RegressionEvaluator(labelCol=output_cols['fridge'], predictionCol='prediction', metricName='mse')\n",
    "mse_fridge = evaluator_mse_fridge.evaluate(predictions_fridge)\n",
    "\n",
    "evaluator_rmse_fridge = RegressionEvaluator(labelCol=output_cols['fridge'], predictionCol='prediction', metricName='rmse')\n",
    "rmse_fridge = evaluator_rmse_fridge.evaluate(predictions_fridge)\n",
    "\n",
    "evaluator_mae_fridge = RegressionEvaluator(labelCol=output_cols['fridge'], predictionCol='prediction', metricName='mae')\n",
    "mae_fridge = evaluator_mae_fridge.evaluate(predictions_fridge)\n",
    "\n",
    "evaluator_r2_fridge = RegressionEvaluator(labelCol=output_cols['fridge'], predictionCol='prediction', metricName='r2')\n",
    "r2_fridge = evaluator_r2_fridge.evaluate(predictions_fridge)\n",
    "\n",
    "mean_actual = predictions_fridge.selectExpr(f\"avg({output_cols['fridge']}) as mean_actual\").collect()[0][\"mean_actual\"]\n",
    "rmae_fridge = mae_fridge / mean_actual\n",
    "\n",
    "# Store the evaluation results\n",
    "evaluation_results['fridge'] = {'MSE': mse_fridge, 'RMSE': rmse_fridge, 'MAE': mae_fridge, 'R2': r2_fridge, 'RMAE': rmae_fridge}\n",
    "\n",
    "# Print the evaluation metrics\n",
    "print(\"Metrics for fridge:\")\n",
    "print(\"MSE:\", mse_fridge)\n",
    "print(\"RMSE:\", rmse_fridge)\n",
    "print(\"MAE:\", mae_fridge)\n",
    "print(\"R2:\", r2_fridge)\n",
    "print(\"RMAE:\", rmae_fridge)\n"
   ]
  },
  {
   "cell_type": "code",
   "execution_count": 19,
   "id": "9fab3914-aaff-4002-88e6-5409ae65a3e3",
   "metadata": {
    "execution": {
     "iopub.execute_input": "2023-08-15T00:51:10.118352Z",
     "iopub.status.busy": "2023-08-15T00:51:10.116842Z",
     "iopub.status.idle": "2023-08-15T00:51:18.179247Z",
     "shell.execute_reply": "2023-08-15T00:51:18.178950Z",
     "shell.execute_reply.started": "2023-08-15T00:51:10.118270Z"
    },
    "tags": []
   },
   "outputs": [
    {
     "name": "stderr",
     "output_type": "stream",
     "text": [
      "23/08/15 03:51:10 WARN TaskSetManager: Stage 111 contains a task of very large size (7657 KiB). The maximum recommended task size is 1000 KiB.\n",
      "23/08/15 03:51:11 WARN TaskSetManager: Stage 112 contains a task of very large size (1829 KiB). The maximum recommended task size is 1000 KiB.\n",
      "23/08/15 03:51:13 WARN TaskSetManager: Stage 116 contains a task of very large size (7657 KiB). The maximum recommended task size is 1000 KiB.\n",
      "23/08/15 03:51:13 WARN TaskSetManager: Stage 117 contains a task of very large size (1829 KiB). The maximum recommended task size is 1000 KiB.\n",
      "23/08/15 03:51:15 WARN TaskSetManager: Stage 121 contains a task of very large size (7657 KiB). The maximum recommended task size is 1000 KiB.\n",
      "23/08/15 03:51:16 WARN TaskSetManager: Stage 122 contains a task of very large size (1829 KiB). The maximum recommended task size is 1000 KiB.\n",
      "                                                                                \r"
     ]
    },
    {
     "data": {
      "image/png": "[encoded data removed]",
      "text/plain": [
       "<Figure size 1200x600 with 1 Axes>"
      ]
     },
     "metadata": {},
     "output_type": "display_data"
    }
   ],
   "source": [
    "import matplotlib.pyplot as plt\n",
    "\n",
    "# Extract the actual values and predicted values from the predictions DataFrame\n",
    "actual_values = predictions_fridge.select(output_cols['fridge']).collect()\n",
    "predicted_values = predictions_fridge.select('prediction').collect()\n",
    "\n",
    "\n",
    "timestamps = fridge_test.select('TIMESTAMP').collect()\n",
    "\n",
    "\n",
    "timestamps = [row['TIMESTAMP'] for row in timestamps]\n",
    "actual_values = [row[output_cols['fridge']] for row in actual_values]\n",
    "predicted_values = [row['prediction'] for row in predicted_values]\n",
    "\n",
    "\n",
    "background_color = 'midnightblue'\n",
    "actual_color = 'orange'\n",
    "predicted_color = 'magenta'\n",
    "\n",
    "\n",
    "plt.figure(figsize=(12, 6))\n",
    "plt.gca().set_facecolor(background_color)\n",
    "\n",
    "\n",
    "plt.plot(timestamps, actual_values, label='Actual', color=actual_color)\n",
    "plt.plot(timestamps, predicted_values, label='Predicted', color=predicted_color)\n",
    "\n",
    "\n",
    "plt.xlabel('Timestamp')\n",
    "plt.ylabel('Power')\n",
    "plt.title('Fridge Power: Actual vs Predicted')\n",
    "plt.legend()\n",
    "\n",
    "\n",
    "plt.show()\n"
   ]
  },
  {
   "cell_type": "code",
   "execution_count": 20,
   "id": "657d6bec-2224-40b8-b27c-c6647cc23e76",
   "metadata": {
    "execution": {
     "iopub.execute_input": "2023-08-15T00:53:23.829560Z",
     "iopub.status.busy": "2023-08-15T00:53:23.827761Z",
     "iopub.status.idle": "2023-08-15T00:54:06.923290Z",
     "shell.execute_reply": "2023-08-15T00:54:06.921731Z",
     "shell.execute_reply.started": "2023-08-15T00:53:23.829473Z"
    },
    "tags": []
   },
   "outputs": [
    {
     "name": "stderr",
     "output_type": "stream",
     "text": [
      "23/08/15 03:53:23 WARN TaskSetManager: Stage 126 contains a task of very large size (7657 KiB). The maximum recommended task size is 1000 KiB.\n",
      "23/08/15 03:53:24 WARN TaskSetManager: Stage 127 contains a task of very large size (1829 KiB). The maximum recommended task size is 1000 KiB.\n",
      "23/08/15 03:53:30 WARN TaskSetManager: Stage 135 contains a task of very large size (7657 KiB). The maximum recommended task size is 1000 KiB.\n",
      "23/08/15 03:53:31 WARN TaskSetManager: Stage 136 contains a task of very large size (1829 KiB). The maximum recommended task size is 1000 KiB.\n",
      "23/08/15 03:53:34 WARN TaskSetManager: Stage 137 contains a task of very large size (7657 KiB). The maximum recommended task size is 1000 KiB.\n",
      "23/08/15 03:53:35 WARN TaskSetManager: Stage 138 contains a task of very large size (1829 KiB). The maximum recommended task size is 1000 KiB.\n",
      "23/08/15 03:53:41 WARN TaskSetManager: Stage 143 contains a task of very large size (7657 KiB). The maximum recommended task size is 1000 KiB.\n",
      "23/08/15 03:53:43 WARN TaskSetManager: Stage 144 contains a task of very large size (1829 KiB). The maximum recommended task size is 1000 KiB.\n",
      "23/08/15 03:53:50 WARN TaskSetManager: Stage 149 contains a task of very large size (7657 KiB). The maximum recommended task size is 1000 KiB.\n",
      "23/08/15 03:53:51 WARN TaskSetManager: Stage 150 contains a task of very large size (1829 KiB). The maximum recommended task size is 1000 KiB.\n",
      "23/08/15 03:53:57 WARN TaskSetManager: Stage 155 contains a task of very large size (7657 KiB). The maximum recommended task size is 1000 KiB.\n",
      "23/08/15 03:53:57 WARN TaskSetManager: Stage 156 contains a task of very large size (1829 KiB). The maximum recommended task size is 1000 KiB.\n",
      "23/08/15 03:53:59 WARN TaskSetManager: Stage 161 contains a task of very large size (7657 KiB). The maximum recommended task size is 1000 KiB.\n",
      "23/08/15 03:54:00 WARN TaskSetManager: Stage 162 contains a task of very large size (1829 KiB). The maximum recommended task size is 1000 KiB.\n",
      "23/08/15 03:54:02 WARN TaskSetManager: Stage 167 contains a task of very large size (7657 KiB). The maximum recommended task size is 1000 KiB.\n",
      "23/08/15 03:54:02 WARN TaskSetManager: Stage 168 contains a task of very large size (1829 KiB). The maximum recommended task size is 1000 KiB.\n",
      "23/08/15 03:54:04 WARN TaskSetManager: Stage 173 contains a task of very large size (7657 KiB). The maximum recommended task size is 1000 KiB.\n",
      "23/08/15 03:54:05 WARN TaskSetManager: Stage 174 contains a task of very large size (1829 KiB). The maximum recommended task size is 1000 KiB.\n",
      "[Stage 173:============>    (6 + 2) / 8][Stage 174:============>    (6 + 2) / 8]\r"
     ]
    },
    {
     "name": "stdout",
     "output_type": "stream",
     "text": [
      "Metrics for light:\n",
      "MSE: 1618.886159904614\n",
      "RMSE: 40.23538442595788\n",
      "MAE: 27.446369327845442\n",
      "R2: -0.3310007304434306\n",
      "RMAE: 1.074725326915285\n"
     ]
    },
    {
     "name": "stderr",
     "output_type": "stream",
     "text": [
      "                                                                                \r"
     ]
    }
   ],
   "source": [
    "from pyspark.ml import Pipeline\n",
    "from pyspark.ml.regression import LinearRegression\n",
    "from pyspark.ml.feature import VectorAssembler, MinMaxScaler\n",
    "from pyspark.ml.evaluation import RegressionEvaluator\n",
    "\n",
    "\n",
    "# Create vector assembler for input columns\n",
    "assembler_light = VectorAssembler(inputCols=input_cols['light'], outputCol='features')\n",
    "\n",
    "# Create scaler\n",
    "scaler_light = MinMaxScaler(inputCol='features', outputCol='scaled_features')\n",
    "\n",
    "# Create random forest regressor\n",
    "lr_light = LinearRegression(featuresCol='scaled_features', labelCol=output_cols['light'], maxIter=50, regParam=0.2)\n",
    "\n",
    "# Create pipeline\n",
    "pipeline_light = Pipeline(stages=[assembler_light, scaler_light, lr_light])\n",
    "\n",
    "# Fit pipeline on train data\n",
    "pipeline_model_light = pipeline_light.fit(light_train)\n",
    "\n",
    "# Make predictions on test data\n",
    "predictions_light = pipeline_model_light.transform(light_test)\n",
    "\n",
    "# Evaluate the model on the predicted column\n",
    "evaluator_mse_light = RegressionEvaluator(labelCol=output_cols['light'], predictionCol='prediction', metricName='mse')\n",
    "mse_light = evaluator_mse_light.evaluate(predictions_light)\n",
    "\n",
    "evaluator_rmse_light = RegressionEvaluator(labelCol=output_cols['light'], predictionCol='prediction', metricName='rmse')\n",
    "rmse_light = evaluator_rmse_light.evaluate(predictions_light)\n",
    "\n",
    "evaluator_mae_light = RegressionEvaluator(labelCol=output_cols['light'], predictionCol='prediction', metricName='mae')\n",
    "mae_light = evaluator_mae_light.evaluate(predictions_light)\n",
    "\n",
    "evaluator_r2_light = RegressionEvaluator(labelCol=output_cols['light'], predictionCol='prediction', metricName='r2')\n",
    "r2_light = evaluator_r2_light.evaluate(predictions_light)\n",
    "\n",
    "mean_actual = predictions_light.selectExpr(f\"avg({output_cols['light']}) as mean_actual\").collect()[0][\"mean_actual\"]\n",
    "rmae_light = mae_light / mean_actual\n",
    "\n",
    "# Store the evaluation results\n",
    "evaluation_results['light'] = {'MSE': mse_light, 'RMSE': rmse_light, 'MAE': mae_light, 'R2': r2_light, 'RMAE': rmae_light}\n",
    "\n",
    "# Print the evaluation metrics\n",
    "print(\"Metrics for light:\")\n",
    "print(\"MSE:\", mse_light)\n",
    "print(\"RMSE:\", rmse_light)\n",
    "print(\"MAE:\", mae_light)\n",
    "print(\"R2:\", r2_light)\n",
    "print(\"RMAE:\", rmae_light)\n"
   ]
  },
  {
   "cell_type": "code",
   "execution_count": 21,
   "id": "8a677608-ec40-439f-a094-2de38d6ca0a2",
   "metadata": {
    "execution": {
     "iopub.execute_input": "2023-08-15T00:54:12.522103Z",
     "iopub.status.busy": "2023-08-15T00:54:12.521312Z",
     "iopub.status.idle": "2023-08-15T00:54:19.833552Z",
     "shell.execute_reply": "2023-08-15T00:54:19.833250Z",
     "shell.execute_reply.started": "2023-08-15T00:54:12.522059Z"
    },
    "tags": []
   },
   "outputs": [
    {
     "name": "stderr",
     "output_type": "stream",
     "text": [
      "23/08/15 03:54:12 WARN TaskSetManager: Stage 182 contains a task of very large size (7657 KiB). The maximum recommended task size is 1000 KiB.\n",
      "23/08/15 03:54:13 WARN TaskSetManager: Stage 183 contains a task of very large size (1829 KiB). The maximum recommended task size is 1000 KiB.\n",
      "23/08/15 03:54:14 WARN TaskSetManager: Stage 187 contains a task of very large size (7657 KiB). The maximum recommended task size is 1000 KiB.\n",
      "23/08/15 03:54:15 WARN TaskSetManager: Stage 188 contains a task of very large size (1829 KiB). The maximum recommended task size is 1000 KiB.\n",
      "23/08/15 03:54:17 WARN TaskSetManager: Stage 192 contains a task of very large size (7657 KiB). The maximum recommended task size is 1000 KiB.\n",
      "23/08/15 03:54:17 WARN TaskSetManager: Stage 193 contains a task of very large size (1829 KiB). The maximum recommended task size is 1000 KiB.\n",
      "                                                                                \r"
     ]
    },
    {
     "data": {
      "image/png": "[encoded data removed]",
      "text/plain": [
       "<Figure size 1200x600 with 1 Axes>"
      ]
     },
     "metadata": {},
     "output_type": "display_data"
    }
   ],
   "source": [
    "import matplotlib.pyplot as plt\n",
    "\n",
    "# Extract the actual values and predicted values from the predictions DataFrame\n",
    "actual_values = predictions_light.select(output_cols['light']).collect()\n",
    "predicted_values = predictions_light.select('prediction').collect()\n",
    "\n",
    "\n",
    "timestamps = light_test.select('TIMESTAMP').collect()\n",
    "\n",
    "\n",
    "timestamps = [row['TIMESTAMP'] for row in timestamps]\n",
    "actual_values = [row[output_cols['light']] for row in actual_values]\n",
    "predicted_values = [row['prediction'] for row in predicted_values]\n",
    "\n",
    "\n",
    "background_color = 'midnightblue'\n",
    "actual_color = 'orange'\n",
    "predicted_color = 'magenta'\n",
    "\n",
    "\n",
    "plt.figure(figsize=(12, 6))\n",
    "plt.gca().set_facecolor(background_color)\n",
    "\n",
    "\n",
    "plt.plot(timestamps, actual_values, label='Actual', color=actual_color)\n",
    "plt.plot(timestamps, predicted_values, label='Predicted', color=predicted_color)\n",
    "\n",
    "\n",
    "plt.xlabel('Timestamp')\n",
    "plt.ylabel('Power')\n",
    "plt.title('light Power: Actual vs Predicted')\n",
    "plt.legend()\n",
    "\n",
    "\n",
    "plt.show()\n"
   ]
  },
  {
   "cell_type": "code",
   "execution_count": null,
   "id": "d23ab437-b0e8-43a9-84c7-37a63110884e",
   "metadata": {},
   "outputs": [],
   "source": []
  },
  {
   "cell_type": "code",
   "execution_count": null,
   "id": "2db6de0b-8c94-46ba-b811-bb5d0569320a",
   "metadata": {},
   "outputs": [],
   "source": []
  },
  {
   "cell_type": "code",
   "execution_count": null,
   "id": "2dd14ba8-568b-4864-9389-51d941cd5832",
   "metadata": {},
   "outputs": [],
   "source": []
  },
  {
   "cell_type": "code",
   "execution_count": null,
   "id": "a5f98853-a12e-45ee-87a1-f7eb868fd7a8",
   "metadata": {},
   "outputs": [],
   "source": []
  },
  {
   "cell_type": "code",
   "execution_count": null,
   "id": "56e4d10b-030d-482f-a5cf-73b84f56ede5",
   "metadata": {},
   "outputs": [],
   "source": []
  },
  {
   "cell_type": "code",
   "execution_count": null,
   "id": "d1291d69-b887-42d7-883c-8d916d21f743",
   "metadata": {},
   "outputs": [],
   "source": []
  },
  {
   "cell_type": "code",
   "execution_count": null,
   "id": "7e6e8feb-5ab3-455c-860f-20d94eaff04d",
   "metadata": {},
   "outputs": [],
   "source": []
  },
  {
   "cell_type": "code",
   "execution_count": null,
   "id": "e1754427-9bca-4d03-90d0-f3ff4efaaf03",
   "metadata": {},
   "outputs": [],
   "source": []
  },
  {
   "cell_type": "code",
   "execution_count": null,
   "id": "e40a0695-e1f7-4746-8244-2d746764d4fd",
   "metadata": {},
   "outputs": [],
   "source": []
  },
  {
   "cell_type": "code",
   "execution_count": null,
   "id": "64513500-0e89-4491-aef2-52adbf60b875",
   "metadata": {},
   "outputs": [],
   "source": []
  },
  {
   "cell_type": "code",
   "execution_count": null,
   "id": "41a78d59-1b56-4b97-8a8e-b9223597b2cb",
   "metadata": {},
   "outputs": [],
   "source": []
  },
  {
   "cell_type": "code",
   "execution_count": null,
   "id": "367fbb72-5442-4e66-ac8c-046d0ff77de3",
   "metadata": {},
   "outputs": [],
   "source": []
  },
  {
   "cell_type": "code",
   "execution_count": null,
   "id": "0782f22b-06fd-42b4-8dbb-55644cb16354",
   "metadata": {},
   "outputs": [],
   "source": []
  },
  {
   "cell_type": "code",
   "execution_count": null,
   "id": "420f7609-1ba6-4173-b3da-c72ab0b5df5d",
   "metadata": {},
   "outputs": [],
   "source": []
  },
  {
   "cell_type": "code",
   "execution_count": null,
   "id": "98862dff-4f87-47c1-b908-4d31525402ad",
   "metadata": {},
   "outputs": [],
   "source": []
  },
  {
   "cell_type": "code",
   "execution_count": null,
   "id": "ff6320d8-2dda-4b71-9ab0-a57f771b3aa9",
   "metadata": {},
   "outputs": [],
   "source": []
  },
  {
   "cell_type": "code",
   "execution_count": null,
   "id": "edb99b6f-a6a9-49b6-8172-73b940799eb1",
   "metadata": {},
   "outputs": [],
   "source": []
  },
  {
   "cell_type": "code",
   "execution_count": null,
   "id": "ef12bf06-a545-442b-bce1-21a7bfc66fe5",
   "metadata": {},
   "outputs": [],
   "source": []
  },
  {
   "cell_type": "code",
   "execution_count": null,
   "id": "20d64d81-99f0-403f-a5fb-2c7dee451b8d",
   "metadata": {},
   "outputs": [],
   "source": []
  }
 ],
 "metadata": {
  "kernelspec": {
   "display_name": "Python 3 (ipykernel)",
   "language": "python",
   "name": "python3"
  },
  "language_info": {
   "codemirror_mode": {
    "name": "ipython",
    "version": 3
   },
   "file_extension": ".py",
   "mimetype": "text/x-python",
   "name": "python",
   "nbconvert_exporter": "python",
   "pygments_lexer": "ipython3",
   "version": "3.8.16"
  },
  "widgets": {
   "application/vnd.jupyter.widget-state+json": {
    "state": {},
    "version_major": 2,
    "version_minor": 0
   }
  }
 },
 "nbformat": 4,
 "nbformat_minor": 5
}
