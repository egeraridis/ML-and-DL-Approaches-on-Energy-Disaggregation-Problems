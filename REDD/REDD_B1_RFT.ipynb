{
 "cells": [
  {
   "cell_type": "code",
   "execution_count": 1,
   "id": "9a003499-43db-4d5a-9f18-d474d9a3be91",
   "metadata": {
    "execution": {
     "iopub.execute_input": "2023-08-14T23:25:47.855713Z",
     "iopub.status.busy": "2023-08-14T23:25:47.854647Z",
     "iopub.status.idle": "2023-08-14T23:25:49.472112Z",
     "shell.execute_reply": "2023-08-14T23:25:49.471650Z",
     "shell.execute_reply.started": "2023-08-14T23:25:47.855661Z"
    },
    "tags": []
   },
   "outputs": [
    {
     "name": "stdout",
     "output_type": "stream",
     "text": [
      "Start time: 2011-04-18 09:22:09, End time: 2011-05-24 15:57:02\n"
     ]
    }
   ],
   "source": [
    "from nilmtk import DataSet\n",
    "\n",
    "import pandas as pd\n",
    "import numpy as np\n",
    "from sklearn.metrics import mean_squared_error, mean_absolute_error, r2_score\n",
    "from __future__ import print_function, division\n",
    "import time\n",
    "from nilmtk import DataSet, TimeFrame, MeterGroup, HDFDataStore\n",
    "import nilmtk.utils\n",
    "redd = DataSet('/Users/evangelosgeraridis/Desktop/redd.h5')\n",
    "\n",
    "# Select a house from the dataset (e.g., House 1)\n",
    "first_building = redd.buildings[1]\n",
    "train = DataSet('/Users/evangelosgeraridis/Desktop/redd.h5')\n",
    "test = DataSet('/Users/evangelosgeraridis/Desktop/redd.h5')\n",
    "# Let us see now what dates are recorded in the building 1 subdataset from redd\n",
    "\n",
    "\n",
    "building_instance = 1  # Specify the building instance you want to work with\n",
    "\n",
    "# Access the elec object for the specified building instance\n",
    "elec = redd.buildings[building_instance].elec\n",
    "\n",
    "# Get the available timeframe\n",
    "timeframe = elec.get_timeframe()\n",
    "\n",
    "# Print the start and end timestamps to see the available dates for building 1 \n",
    "start_time = timeframe.start.strftime(\"%Y-%m-%d %H:%M:%S\")\n",
    "end_time = timeframe.end.strftime(\"%Y-%m-%d %H:%M:%S\")\n",
    "print(f\"Start time: {start_time}, End time: {end_time}\")"
   ]
  },
  {
   "cell_type": "code",
   "execution_count": 2,
   "id": "ee6bb2d3-9177-400d-bea5-e54384474405",
   "metadata": {
    "execution": {
     "iopub.execute_input": "2023-08-14T23:25:49.473100Z",
     "iopub.status.busy": "2023-08-14T23:25:49.472837Z",
     "iopub.status.idle": "2023-08-14T23:25:54.786509Z",
     "shell.execute_reply": "2023-08-14T23:25:54.786122Z",
     "shell.execute_reply.started": "2023-08-14T23:25:49.473088Z"
    },
    "tags": []
   },
   "outputs": [
    {
     "name": "stdout",
     "output_type": "stream",
     "text": [
      "2/16 ElecMeter(instance=6, building=1, dataset='REDD', appliances=[Appliance(type='dish washer', instance=1)])"
     ]
    },
    {
     "name": "stderr",
     "output_type": "stream",
     "text": [
      "/Users/evangelosgeraridis/nilmtk/results.py:77: FutureWarning: The frame.append method is deprecated and will be removed from pandas in a future version. Use pandas.concat instead.\n",
      "  self._data = self._data.append(row, verify_integrity=True, sort=False)\n",
      "/Users/evangelosgeraridis/nilmtk/results.py:108: FutureWarning: The frame.append method is deprecated and will be removed from pandas in a future version. Use pandas.concat instead.\n",
      "  self._data = self._data.append(new_result._data, sort=False)\n",
      "/Users/evangelosgeraridis/nilmtk/elecmeter.py:742: FutureWarning: Passing a set as an indexer is deprecated and will raise in a future version. Use a list instead.\n",
      "  return pd.Series(res[ac_types], index=ac_types)\n"
     ]
    },
    {
     "name": "stdout",
     "output_type": "stream",
     "text": [
      "3/16 ElecMeter(instance=7, building=1, dataset='REDD', appliances=[Appliance(type='sockets', instance=1)])"
     ]
    },
    {
     "name": "stderr",
     "output_type": "stream",
     "text": [
      "/Users/evangelosgeraridis/nilmtk/results.py:77: FutureWarning: The frame.append method is deprecated and will be removed from pandas in a future version. Use pandas.concat instead.\n",
      "  self._data = self._data.append(row, verify_integrity=True, sort=False)\n",
      "/Users/evangelosgeraridis/nilmtk/results.py:108: FutureWarning: The frame.append method is deprecated and will be removed from pandas in a future version. Use pandas.concat instead.\n",
      "  self._data = self._data.append(new_result._data, sort=False)\n",
      "/Users/evangelosgeraridis/nilmtk/elecmeter.py:742: FutureWarning: Passing a set as an indexer is deprecated and will raise in a future version. Use a list instead.\n",
      "  return pd.Series(res[ac_types], index=ac_types)\n"
     ]
    },
    {
     "name": "stdout",
     "output_type": "stream",
     "text": [
      "4/16 ElecMeter(instance=8, building=1, dataset='REDD', appliances=[Appliance(type='sockets', instance=2)])"
     ]
    },
    {
     "name": "stderr",
     "output_type": "stream",
     "text": [
      "/Users/evangelosgeraridis/nilmtk/results.py:77: FutureWarning: The frame.append method is deprecated and will be removed from pandas in a future version. Use pandas.concat instead.\n",
      "  self._data = self._data.append(row, verify_integrity=True, sort=False)\n",
      "/Users/evangelosgeraridis/nilmtk/results.py:108: FutureWarning: The frame.append method is deprecated and will be removed from pandas in a future version. Use pandas.concat instead.\n",
      "  self._data = self._data.append(new_result._data, sort=False)\n",
      "/Users/evangelosgeraridis/nilmtk/elecmeter.py:742: FutureWarning: Passing a set as an indexer is deprecated and will raise in a future version. Use a list instead.\n",
      "  return pd.Series(res[ac_types], index=ac_types)\n"
     ]
    },
    {
     "name": "stdout",
     "output_type": "stream",
     "text": [
      "5/16 ElecMeter(instance=9, building=1, dataset='REDD', appliances=[Appliance(type='light', instance=1)])"
     ]
    },
    {
     "name": "stderr",
     "output_type": "stream",
     "text": [
      "/Users/evangelosgeraridis/nilmtk/results.py:77: FutureWarning: The frame.append method is deprecated and will be removed from pandas in a future version. Use pandas.concat instead.\n",
      "  self._data = self._data.append(row, verify_integrity=True, sort=False)\n",
      "/Users/evangelosgeraridis/nilmtk/results.py:108: FutureWarning: The frame.append method is deprecated and will be removed from pandas in a future version. Use pandas.concat instead.\n",
      "  self._data = self._data.append(new_result._data, sort=False)\n",
      "/Users/evangelosgeraridis/nilmtk/elecmeter.py:742: FutureWarning: Passing a set as an indexer is deprecated and will raise in a future version. Use a list instead.\n",
      "  return pd.Series(res[ac_types], index=ac_types)\n"
     ]
    },
    {
     "name": "stdout",
     "output_type": "stream",
     "text": [
      "6/16 ElecMeter(instance=11, building=1, dataset='REDD', appliances=[Appliance(type='microwave', instance=1)])"
     ]
    },
    {
     "name": "stderr",
     "output_type": "stream",
     "text": [
      "/Users/evangelosgeraridis/nilmtk/results.py:77: FutureWarning: The frame.append method is deprecated and will be removed from pandas in a future version. Use pandas.concat instead.\n",
      "  self._data = self._data.append(row, verify_integrity=True, sort=False)\n",
      "/Users/evangelosgeraridis/nilmtk/results.py:108: FutureWarning: The frame.append method is deprecated and will be removed from pandas in a future version. Use pandas.concat instead.\n",
      "  self._data = self._data.append(new_result._data, sort=False)\n",
      "/Users/evangelosgeraridis/nilmtk/elecmeter.py:742: FutureWarning: Passing a set as an indexer is deprecated and will raise in a future version. Use a list instead.\n",
      "  return pd.Series(res[ac_types], index=ac_types)\n"
     ]
    },
    {
     "name": "stdout",
     "output_type": "stream",
     "text": [
      "7/16 ElecMeter(instance=12, building=1, dataset='REDD', appliances=[Appliance(type='unknown', instance=1)])"
     ]
    },
    {
     "name": "stderr",
     "output_type": "stream",
     "text": [
      "/Users/evangelosgeraridis/nilmtk/results.py:77: FutureWarning: The frame.append method is deprecated and will be removed from pandas in a future version. Use pandas.concat instead.\n",
      "  self._data = self._data.append(row, verify_integrity=True, sort=False)\n",
      "/Users/evangelosgeraridis/nilmtk/results.py:108: FutureWarning: The frame.append method is deprecated and will be removed from pandas in a future version. Use pandas.concat instead.\n",
      "  self._data = self._data.append(new_result._data, sort=False)\n",
      "/Users/evangelosgeraridis/nilmtk/elecmeter.py:742: FutureWarning: Passing a set as an indexer is deprecated and will raise in a future version. Use a list instead.\n",
      "  return pd.Series(res[ac_types], index=ac_types)\n"
     ]
    },
    {
     "name": "stdout",
     "output_type": "stream",
     "text": [
      "8/16 ElecMeter(instance=13, building=1, dataset='REDD', appliances=[Appliance(type='electric space heater', instance=1)])"
     ]
    },
    {
     "name": "stderr",
     "output_type": "stream",
     "text": [
      "/Users/evangelosgeraridis/nilmtk/results.py:77: FutureWarning: The frame.append method is deprecated and will be removed from pandas in a future version. Use pandas.concat instead.\n",
      "  self._data = self._data.append(row, verify_integrity=True, sort=False)\n",
      "/Users/evangelosgeraridis/nilmtk/results.py:108: FutureWarning: The frame.append method is deprecated and will be removed from pandas in a future version. Use pandas.concat instead.\n",
      "  self._data = self._data.append(new_result._data, sort=False)\n",
      "/Users/evangelosgeraridis/nilmtk/elecmeter.py:742: FutureWarning: Passing a set as an indexer is deprecated and will raise in a future version. Use a list instead.\n",
      "  return pd.Series(res[ac_types], index=ac_types)\n"
     ]
    },
    {
     "name": "stdout",
     "output_type": "stream",
     "text": [
      "9/16 ElecMeter(instance=14, building=1, dataset='REDD', appliances=[Appliance(type='electric stove', instance=1)])"
     ]
    },
    {
     "name": "stderr",
     "output_type": "stream",
     "text": [
      "/Users/evangelosgeraridis/nilmtk/results.py:77: FutureWarning: The frame.append method is deprecated and will be removed from pandas in a future version. Use pandas.concat instead.\n",
      "  self._data = self._data.append(row, verify_integrity=True, sort=False)\n",
      "/Users/evangelosgeraridis/nilmtk/results.py:108: FutureWarning: The frame.append method is deprecated and will be removed from pandas in a future version. Use pandas.concat instead.\n",
      "  self._data = self._data.append(new_result._data, sort=False)\n",
      "/Users/evangelosgeraridis/nilmtk/elecmeter.py:742: FutureWarning: Passing a set as an indexer is deprecated and will raise in a future version. Use a list instead.\n",
      "  return pd.Series(res[ac_types], index=ac_types)\n"
     ]
    },
    {
     "name": "stdout",
     "output_type": "stream",
     "text": [
      "10/16 ElecMeter(instance=15, building=1, dataset='REDD', appliances=[Appliance(type='sockets', instance=3)])"
     ]
    },
    {
     "name": "stderr",
     "output_type": "stream",
     "text": [
      "/Users/evangelosgeraridis/nilmtk/results.py:77: FutureWarning: The frame.append method is deprecated and will be removed from pandas in a future version. Use pandas.concat instead.\n",
      "  self._data = self._data.append(row, verify_integrity=True, sort=False)\n",
      "/Users/evangelosgeraridis/nilmtk/results.py:108: FutureWarning: The frame.append method is deprecated and will be removed from pandas in a future version. Use pandas.concat instead.\n",
      "  self._data = self._data.append(new_result._data, sort=False)\n",
      "/Users/evangelosgeraridis/nilmtk/elecmeter.py:742: FutureWarning: Passing a set as an indexer is deprecated and will raise in a future version. Use a list instead.\n",
      "  return pd.Series(res[ac_types], index=ac_types)\n"
     ]
    },
    {
     "name": "stdout",
     "output_type": "stream",
     "text": [
      "11/16 ElecMeter(instance=16, building=1, dataset='REDD', appliances=[Appliance(type='sockets', instance=4)])"
     ]
    },
    {
     "name": "stderr",
     "output_type": "stream",
     "text": [
      "/Users/evangelosgeraridis/nilmtk/results.py:77: FutureWarning: The frame.append method is deprecated and will be removed from pandas in a future version. Use pandas.concat instead.\n",
      "  self._data = self._data.append(row, verify_integrity=True, sort=False)\n",
      "/Users/evangelosgeraridis/nilmtk/results.py:108: FutureWarning: The frame.append method is deprecated and will be removed from pandas in a future version. Use pandas.concat instead.\n",
      "  self._data = self._data.append(new_result._data, sort=False)\n",
      "/Users/evangelosgeraridis/nilmtk/elecmeter.py:742: FutureWarning: Passing a set as an indexer is deprecated and will raise in a future version. Use a list instead.\n",
      "  return pd.Series(res[ac_types], index=ac_types)\n"
     ]
    },
    {
     "name": "stdout",
     "output_type": "stream",
     "text": [
      "12/16 ElecMeter(instance=17, building=1, dataset='REDD', appliances=[Appliance(type='light', instance=2)])"
     ]
    },
    {
     "name": "stderr",
     "output_type": "stream",
     "text": [
      "/Users/evangelosgeraridis/nilmtk/results.py:77: FutureWarning: The frame.append method is deprecated and will be removed from pandas in a future version. Use pandas.concat instead.\n",
      "  self._data = self._data.append(row, verify_integrity=True, sort=False)\n",
      "/Users/evangelosgeraridis/nilmtk/results.py:108: FutureWarning: The frame.append method is deprecated and will be removed from pandas in a future version. Use pandas.concat instead.\n",
      "  self._data = self._data.append(new_result._data, sort=False)\n",
      "/Users/evangelosgeraridis/nilmtk/elecmeter.py:742: FutureWarning: Passing a set as an indexer is deprecated and will raise in a future version. Use a list instead.\n",
      "  return pd.Series(res[ac_types], index=ac_types)\n"
     ]
    },
    {
     "name": "stdout",
     "output_type": "stream",
     "text": [
      "13/16 ElecMeter(instance=18, building=1, dataset='REDD', appliances=[Appliance(type='light', instance=3)])"
     ]
    },
    {
     "name": "stderr",
     "output_type": "stream",
     "text": [
      "/Users/evangelosgeraridis/nilmtk/results.py:77: FutureWarning: The frame.append method is deprecated and will be removed from pandas in a future version. Use pandas.concat instead.\n",
      "  self._data = self._data.append(row, verify_integrity=True, sort=False)\n",
      "/Users/evangelosgeraridis/nilmtk/results.py:108: FutureWarning: The frame.append method is deprecated and will be removed from pandas in a future version. Use pandas.concat instead.\n",
      "  self._data = self._data.append(new_result._data, sort=False)\n",
      "/Users/evangelosgeraridis/nilmtk/elecmeter.py:742: FutureWarning: Passing a set as an indexer is deprecated and will raise in a future version. Use a list instead.\n",
      "  return pd.Series(res[ac_types], index=ac_types)\n"
     ]
    },
    {
     "name": "stdout",
     "output_type": "stream",
     "text": [
      "14/16 ElecMeter(instance=19, building=1, dataset='REDD', appliances=[Appliance(type='unknown', instance=2)])"
     ]
    },
    {
     "name": "stderr",
     "output_type": "stream",
     "text": [
      "/Users/evangelosgeraridis/nilmtk/results.py:77: FutureWarning: The frame.append method is deprecated and will be removed from pandas in a future version. Use pandas.concat instead.\n",
      "  self._data = self._data.append(row, verify_integrity=True, sort=False)\n",
      "/Users/evangelosgeraridis/nilmtk/results.py:108: FutureWarning: The frame.append method is deprecated and will be removed from pandas in a future version. Use pandas.concat instead.\n",
      "  self._data = self._data.append(new_result._data, sort=False)\n",
      "/Users/evangelosgeraridis/nilmtk/elecmeter.py:742: FutureWarning: Passing a set as an indexer is deprecated and will raise in a future version. Use a list instead.\n",
      "  return pd.Series(res[ac_types], index=ac_types)\n"
     ]
    },
    {
     "name": "stdout",
     "output_type": "stream",
     "text": [
      "15/16 MeterGroup(meters=\n",
      "  ElecMeter(instance=3, building=1, dataset='REDD', appliances=[Appliance(type='electric oven', instance=1)])\n",
      "  ElecMeter(instance=4, building=1, dataset='REDD', appliances=[Appliance(type='electric oven', instance=1)])\n",
      "Calculating total_energy for ElecMeterID(instance=3, building=1, dataset='REDD') ...   "
     ]
    },
    {
     "name": "stderr",
     "output_type": "stream",
     "text": [
      "/Users/evangelosgeraridis/nilmtk/results.py:77: FutureWarning: The frame.append method is deprecated and will be removed from pandas in a future version. Use pandas.concat instead.\n",
      "  self._data = self._data.append(row, verify_integrity=True, sort=False)\n",
      "/Users/evangelosgeraridis/nilmtk/results.py:108: FutureWarning: The frame.append method is deprecated and will be removed from pandas in a future version. Use pandas.concat instead.\n",
      "  self._data = self._data.append(new_result._data, sort=False)\n",
      "/Users/evangelosgeraridis/nilmtk/elecmeter.py:742: FutureWarning: Passing a set as an indexer is deprecated and will raise in a future version. Use a list instead.\n",
      "  return pd.Series(res[ac_types], index=ac_types)\n"
     ]
    },
    {
     "name": "stdout",
     "output_type": "stream",
     "text": [
      "Calculating total_energy for ElecMeterID(instance=4, building=1, dataset='REDD') ...   "
     ]
    },
    {
     "name": "stderr",
     "output_type": "stream",
     "text": [
      "/Users/evangelosgeraridis/nilmtk/results.py:77: FutureWarning: The frame.append method is deprecated and will be removed from pandas in a future version. Use pandas.concat instead.\n",
      "  self._data = self._data.append(row, verify_integrity=True, sort=False)\n",
      "/Users/evangelosgeraridis/nilmtk/results.py:108: FutureWarning: The frame.append method is deprecated and will be removed from pandas in a future version. Use pandas.concat instead.\n",
      "  self._data = self._data.append(new_result._data, sort=False)\n",
      "/Users/evangelosgeraridis/nilmtk/elecmeter.py:742: FutureWarning: Passing a set as an indexer is deprecated and will raise in a future version. Use a list instead.\n",
      "  return pd.Series(res[ac_types], index=ac_types)\n"
     ]
    },
    {
     "name": "stdout",
     "output_type": "stream",
     "text": [
      "16/16 MeterGroup(meters=\n",
      "  ElecMeter(instance=10, building=1, dataset='REDD', appliances=[Appliance(type='washer dryer', instance=1)])\n",
      "  ElecMeter(instance=20, building=1, dataset='REDD', appliances=[Appliance(type='washer dryer', instance=1)])\n",
      "Calculating total_energy for ElecMeterID(instance=10, building=1, dataset='REDD') ...   "
     ]
    },
    {
     "name": "stderr",
     "output_type": "stream",
     "text": [
      "/Users/evangelosgeraridis/nilmtk/results.py:77: FutureWarning: The frame.append method is deprecated and will be removed from pandas in a future version. Use pandas.concat instead.\n",
      "  self._data = self._data.append(row, verify_integrity=True, sort=False)\n",
      "/Users/evangelosgeraridis/nilmtk/results.py:108: FutureWarning: The frame.append method is deprecated and will be removed from pandas in a future version. Use pandas.concat instead.\n",
      "  self._data = self._data.append(new_result._data, sort=False)\n",
      "/Users/evangelosgeraridis/nilmtk/elecmeter.py:742: FutureWarning: Passing a set as an indexer is deprecated and will raise in a future version. Use a list instead.\n",
      "  return pd.Series(res[ac_types], index=ac_types)\n"
     ]
    },
    {
     "name": "stdout",
     "output_type": "stream",
     "text": [
      "Calculating total_energy for ElecMeterID(instance=20, building=1, dataset='REDD') ...   "
     ]
    },
    {
     "name": "stderr",
     "output_type": "stream",
     "text": [
      "/Users/evangelosgeraridis/nilmtk/results.py:77: FutureWarning: The frame.append method is deprecated and will be removed from pandas in a future version. Use pandas.concat instead.\n",
      "  self._data = self._data.append(row, verify_integrity=True, sort=False)\n",
      "/Users/evangelosgeraridis/nilmtk/results.py:108: FutureWarning: The frame.append method is deprecated and will be removed from pandas in a future version. Use pandas.concat instead.\n",
      "  self._data = self._data.append(new_result._data, sort=False)\n",
      "/Users/evangelosgeraridis/nilmtk/elecmeter.py:742: FutureWarning: Passing a set as an indexer is deprecated and will raise in a future version. Use a list instead.\n",
      "  return pd.Series(res[ac_types], index=ac_types)\n",
      "/Users/evangelosgeraridis/nilmtk/results.py:77: FutureWarning: The frame.append method is deprecated and will be removed from pandas in a future version. Use pandas.concat instead.\n",
      "  self._data = self._data.append(row, verify_integrity=True, sort=False)\n",
      "/Users/evangelosgeraridis/nilmtk/results.py:108: FutureWarning: The frame.append method is deprecated and will be removed from pandas in a future version. Use pandas.concat instead.\n",
      "  self._data = self._data.append(new_result._data, sort=False)\n",
      "/Users/evangelosgeraridis/nilmtk/elecmeter.py:742: FutureWarning: Passing a set as an indexer is deprecated and will raise in a future version. Use a list instead.\n",
      "  return pd.Series(res[ac_types], index=ac_types)\n"
     ]
    }
   ],
   "source": [
    "train_elec = train.buildings[1].elec\n",
    "test_elec = test.buildings[1].elec\n",
    "\n",
    "# let us selct the top 5 most signifficatnt/ frequent devices \n",
    "\n",
    "top_5_train_elec = train_elec.submeters().select_top_k(k=5)"
   ]
  },
  {
   "cell_type": "code",
   "execution_count": 3,
   "id": "d4e0e277-5615-4acd-a257-8cd3eb9b9053",
   "metadata": {
    "execution": {
     "iopub.execute_input": "2023-08-14T23:25:54.787483Z",
     "iopub.status.busy": "2023-08-14T23:25:54.787276Z",
     "iopub.status.idle": "2023-08-14T23:25:54.792634Z",
     "shell.execute_reply": "2023-08-14T23:25:54.792240Z",
     "shell.execute_reply.started": "2023-08-14T23:25:54.787470Z"
    },
    "tags": []
   },
   "outputs": [
    {
     "name": "stdout",
     "output_type": "stream",
     "text": [
      "fridge\n",
      "washer dryer\n",
      "light\n",
      "sockets\n",
      "dish washer\n"
     ]
    }
   ],
   "source": [
    "# print these apliances ( 5 most signifficant or freqent)\n",
    "if top_5_train_elec.meters:\n",
    "    # Get the names of the top 5 submeters\n",
    "    top_5_names = [elec.appliances[0].metadata['type'] for elec in top_5_train_elec.meters]\n",
    "\n",
    "    # Print the names of the top 5 submeters\n",
    "    for name in top_5_names:\n",
    "        print(name)\n",
    "else:\n",
    "    print(\"No submeters found.\")\n"
   ]
  },
  {
   "cell_type": "code",
   "execution_count": 4,
   "id": "e95c9830-36fb-43fa-8d0f-15a65be793b5",
   "metadata": {
    "execution": {
     "iopub.execute_input": "2023-08-14T23:25:54.793830Z",
     "iopub.status.busy": "2023-08-14T23:25:54.793703Z",
     "iopub.status.idle": "2023-08-14T23:25:57.554492Z",
     "shell.execute_reply": "2023-08-14T23:25:57.554102Z",
     "shell.execute_reply.started": "2023-08-14T23:25:54.793818Z"
    },
    "tags": []
   },
   "outputs": [
    {
     "name": "stderr",
     "output_type": "stream",
     "text": [
      "23/08/15 02:25:56 WARN Utils: Your hostname, Evangeloss-MacBook-Air.local resolves to a loopback address: 127.0.0.1; using 192.168.2.2 instead (on interface en0)\n",
      "23/08/15 02:25:56 WARN Utils: Set SPARK_LOCAL_IP if you need to bind to another address\n",
      "Ivy Default Cache set to: /Users/evangelosgeraridis/.ivy2/cache\n",
      "The jars for the packages stored in: /Users/evangelosgeraridis/.ivy2/jars\n",
      "org.apache.spark#spark-mllib_2.12 added as a dependency\n",
      ":: resolving dependencies :: org.apache.spark#spark-submit-parent-a6618954-5f8d-41ad-8e25-0521365efe4c;1.0\n",
      "\tconfs: [default]\n",
      ":: resolution report :: resolve 23ms :: artifacts dl 0ms\n",
      "\t:: modules in use:\n",
      "\t---------------------------------------------------------------------\n",
      "\t|                  |            modules            ||   artifacts   |\n",
      "\t|       conf       | number| search|dwnlded|evicted|| number|dwnlded|\n",
      "\t---------------------------------------------------------------------\n",
      "\t|      default     |   0   |   0   |   0   |   0   ||   0   |   0   |\n",
      "\t---------------------------------------------------------------------\n",
      ":: retrieving :: org.apache.spark#spark-submit-parent-a6618954-5f8d-41ad-8e25-0521365efe4c\n",
      "\tconfs: [default]\n"
     ]
    },
    {
     "name": "stdout",
     "output_type": "stream",
     "text": [
      ":: loading settings :: url = jar:file:/opt/miniconda3/envs/nilmenv/lib/python3.8/site-packages/pyspark/jars/ivy-2.5.1.jar!/org/apache/ivy/core/settings/ivysettings.xml\n"
     ]
    },
    {
     "name": "stderr",
     "output_type": "stream",
     "text": [
      "\t0 artifacts copied, 0 already retrieved (0kB/3ms)\n",
      "Setting default log level to \"WARN\".\n",
      "To adjust logging level use sc.setLogLevel(newLevel). For SparkR, use setLogLevel(newLevel).\n",
      "23/08/15 02:25:56 WARN NativeCodeLoader: Unable to load native-hadoop library for your platform... using builtin-java classes where applicable\n"
     ]
    }
   ],
   "source": [
    "from pyspark.sql import SparkSession\n",
    "from pyspark.sql.functions import col\n",
    "\n",
    "import warnings\n",
    "warnings.filterwarnings(\"ignore\", category=DeprecationWarning)\n",
    "warnings.filterwarnings(\"ignore\", category=FutureWarning)\n",
    "# Create a SparkSession\n",
    "spark = SparkSession.builder \\\n",
    "    .master(\"local[*]\") \\\n",
    "    .appName(\"Spark_RandomForestRegression_REDD_Expiriment_b1.com\") \\\n",
    "    .config(\"spark.jars.packages\", \"org.apache.spark:spark-mllib_2.12:3.2.0\") \\\n",
    "    .config(\"spark.driver.memory\", \"6g\") \\\n",
    "    .config(\"spark.executor.memory\", \"6g\") \\\n",
    "    .config(\"spark.executor.cores\", \"7\") \\\n",
    "    .config(\"spark.driver.maxResultSize\", \"5g\") \\\n",
    "    .config(\"spark.sql.shuffle.partitions\", \"10000\") \\\n",
    "    .config(\"spark.sql.autoBroadcastJoinThreshold\", \"-1\") \\\n",
    "    .getOrCreate()\n",
    "\n",
    "    \n",
    "\n",
    " #  all available cores on the machine\n",
    "#spark app name\n",
    "# amount of memory allocated to the driver program.\n",
    " #  amount of memory allocated to each executor (worker) in Spark.\n",
    "# important as the below in this project Sets the number of cores used by each execut\n",
    "# IMPORTANT here: Sets the maximum size of the results returned to the driver program\n",
    " #Sets the number of partitions to use when shuffling data in Spark SQL"
   ]
  },
  {
   "cell_type": "code",
   "execution_count": 5,
   "id": "14d38188-9bc4-4395-b80b-28cea00e5420",
   "metadata": {
    "execution": {
     "iopub.execute_input": "2023-08-14T23:25:58.340441Z",
     "iopub.status.busy": "2023-08-14T23:25:58.340059Z",
     "iopub.status.idle": "2023-08-14T23:26:46.840098Z",
     "shell.execute_reply": "2023-08-14T23:26:46.838913Z",
     "shell.execute_reply.started": "2023-08-14T23:25:58.340413Z"
    },
    "tags": []
   },
   "outputs": [
    {
     "name": "stdout",
     "output_type": "stream",
     "text": [
      "Loading data for meter ElecMeterID(instance=2, building=1, dataset='REDD')     \n",
      "Done loading data all meters for this chunk.\n"
     ]
    }
   ],
   "source": [
    "mains = train_elec.mains()\n",
    "mains_df = next(mains.load())\n",
    "\n",
    "# Reset the index and rename the columns\n",
    "mains_df = mains_df.reset_index()\n",
    "mains_df.columns = ['TIMESTAMP', 'AGGREGATED_POWER']\n",
    "mains_df = spark.createDataFrame(mains_df)\n"
   ]
  },
  {
   "cell_type": "code",
   "execution_count": 6,
   "id": "395e7b04-f24b-4980-893c-1c9f35789995",
   "metadata": {
    "execution": {
     "iopub.execute_input": "2023-08-14T23:26:46.844574Z",
     "iopub.status.busy": "2023-08-14T23:26:46.843666Z",
     "iopub.status.idle": "2023-08-14T23:28:05.343107Z",
     "shell.execute_reply": "2023-08-14T23:28:05.342360Z",
     "shell.execute_reply.started": "2023-08-14T23:26:46.844510Z"
    },
    "tags": []
   },
   "outputs": [
    {
     "name": "stdout",
     "output_type": "stream",
     "text": [
      "Loading data for meter ElecMeterID(instance=20, building=1, dataset='REDD')     \n",
      "Done loading data all meters for this chunk.\n"
     ]
    },
    {
     "name": "stderr",
     "output_type": "stream",
     "text": [
      "23/08/15 02:27:47 WARN TaskSetManager: Stage 0 contains a task of very large size (7657 KiB). The maximum recommended task size is 1000 KiB.\n",
      "23/08/15 02:27:49 WARN TaskSetManager: Stage 1 contains a task of very large size (1829 KiB). The maximum recommended task size is 1000 KiB.\n",
      "23/08/15 02:27:50 WARN TaskSetManager: Stage 5 contains a task of very large size (7657 KiB). The maximum recommended task size is 1000 KiB.\n"
     ]
    },
    {
     "name": "stdout",
     "output_type": "stream",
     "text": [
      "+-------------------+------------------+------------+\n",
      "|          TIMESTAMP|  AGGREGATED_POWER|FRIDGE_POWER|\n",
      "+-------------------+------------------+------------+\n",
      "|2011-04-18 16:22:26|   341.77001953125|         6.0|\n",
      "|2011-04-18 16:22:47| 342.3399963378906|         6.0|\n",
      "|2011-04-18 16:23:43|            345.75|         6.0|\n",
      "|2011-04-18 16:24:08|  346.010009765625|         6.0|\n",
      "|2011-04-18 16:24:23|344.54998779296875|         6.0|\n",
      "|2011-04-18 16:25:55|340.32000732421875|         6.0|\n",
      "|2011-04-18 16:26:55|  344.739990234375|         6.0|\n",
      "|2011-04-18 16:27:42|             344.0|         6.0|\n",
      "|2011-04-18 16:27:46| 345.8899841308594|         6.0|\n",
      "|2011-04-18 16:28:36| 337.8699951171875|         6.0|\n",
      "|2011-04-18 16:28:43|  338.239990234375|         6.0|\n",
      "|2011-04-18 16:28:46| 337.6300048828125|         6.0|\n",
      "|2011-04-18 16:28:53|   337.77001953125|         6.0|\n",
      "|2011-04-18 16:30:54| 337.1300048828125|         6.0|\n",
      "|2011-04-18 16:31:17|343.04998779296875|         6.0|\n",
      "|2011-04-18 16:31:44|335.91998291015625|         6.0|\n",
      "|2011-04-18 16:32:05|341.19000244140625|         6.0|\n",
      "|2011-04-18 16:32:38|  340.739990234375|         6.0|\n",
      "|2011-04-18 16:33:17| 340.4700012207031|         6.0|\n",
      "|2011-04-18 16:33:55| 340.3899841308594|         6.0|\n",
      "+-------------------+------------------+------------+\n",
      "only showing top 20 rows\n",
      "\n",
      "root\n",
      " |-- TIMESTAMP: timestamp (nullable = true)\n",
      " |-- AGGREGATED_POWER: double (nullable = true)\n",
      " |-- FRIDGE_POWER: double (nullable = true)\n",
      "\n"
     ]
    },
    {
     "name": "stderr",
     "output_type": "stream",
     "text": [
      "23/08/15 02:27:51 WARN TaskSetManager: Stage 6 contains a task of very large size (2550 KiB). The maximum recommended task size is 1000 KiB.\n",
      "23/08/15 02:27:52 WARN TaskSetManager: Stage 10 contains a task of very large size (7657 KiB). The maximum recommended task size is 1000 KiB.\n"
     ]
    },
    {
     "name": "stdout",
     "output_type": "stream",
     "text": [
      "+-------------------+------------------+------------------+\n",
      "|          TIMESTAMP|  AGGREGATED_POWER|WASHER_DRYER_POWER|\n",
      "+-------------------+------------------+------------------+\n",
      "|2011-04-18 16:22:39|344.69000244140625|               0.0|\n",
      "|2011-04-18 16:23:12| 344.1099853515625|               0.0|\n",
      "|2011-04-18 16:23:24| 346.4700012207031|               0.0|\n",
      "|2011-04-18 16:23:48|345.46002197265625|               0.0|\n",
      "|2011-04-18 16:24:24| 344.6000061035156|               0.0|\n",
      "|2011-04-18 16:24:57| 343.2699890136719|               0.0|\n",
      "|2011-04-18 16:25:00|342.04998779296875|               0.0|\n",
      "|2011-04-18 16:25:21|344.91998291015625|               0.0|\n",
      "|2011-04-18 16:26:15|339.58001708984375|               0.0|\n",
      "|2011-04-18 16:26:18|   345.27001953125|               0.0|\n",
      "|2011-04-18 16:27:03|            346.25|               0.0|\n",
      "|2011-04-18 16:27:12|347.58001708984375|               0.0|\n",
      "|2011-04-18 16:27:15|342.16998291015625|               0.0|\n",
      "|2011-04-18 16:27:36|345.69000244140625|               0.0|\n",
      "|2011-04-18 16:27:42|             344.0|               0.0|\n",
      "|2011-04-18 16:28:00|341.82000732421875|               0.0|\n",
      "|2011-04-18 16:28:36| 337.8699951171875|               0.0|\n",
      "|2011-04-18 16:28:51| 336.8900146484375|               0.0|\n",
      "|2011-04-18 16:28:54| 337.8800048828125|               0.0|\n",
      "|2011-04-18 16:29:09| 336.6600036621094|               0.0|\n",
      "+-------------------+------------------+------------------+\n",
      "only showing top 20 rows\n",
      "\n",
      "root\n",
      " |-- TIMESTAMP: timestamp (nullable = true)\n",
      " |-- AGGREGATED_POWER: double (nullable = true)\n",
      " |-- WASHER_DRYER_POWER: double (nullable = true)\n",
      "\n"
     ]
    },
    {
     "name": "stderr",
     "output_type": "stream",
     "text": [
      "23/08/15 02:27:54 WARN TaskSetManager: Stage 11 contains a task of very large size (1829 KiB). The maximum recommended task size is 1000 KiB.\n",
      "23/08/15 02:27:55 WARN TaskSetManager: Stage 15 contains a task of very large size (7657 KiB). The maximum recommended task size is 1000 KiB.\n"
     ]
    },
    {
     "name": "stdout",
     "output_type": "stream",
     "text": [
      "+-------------------+------------------+-----------+\n",
      "|          TIMESTAMP|  AGGREGATED_POWER|LIGHT_POWER|\n",
      "+-------------------+------------------+-----------+\n",
      "|2011-04-18 16:22:26|   341.77001953125|       81.0|\n",
      "|2011-04-18 16:22:47| 342.3399963378906|       81.0|\n",
      "|2011-04-18 16:23:43|            345.75|       81.0|\n",
      "|2011-04-18 16:24:08|  346.010009765625|       81.0|\n",
      "|2011-04-18 16:24:23|344.54998779296875|       81.0|\n",
      "|2011-04-18 16:25:55|340.32000732421875|       81.0|\n",
      "|2011-04-18 16:26:55|  344.739990234375|       81.0|\n",
      "|2011-04-18 16:27:42|             344.0|       81.0|\n",
      "|2011-04-18 16:27:46| 345.8899841308594|       81.0|\n",
      "|2011-04-18 16:28:36| 337.8699951171875|       81.0|\n",
      "|2011-04-18 16:28:43|  338.239990234375|       81.0|\n",
      "|2011-04-18 16:28:46| 337.6300048828125|       81.0|\n",
      "|2011-04-18 16:28:53|   337.77001953125|       80.0|\n",
      "|2011-04-18 16:30:54| 337.1300048828125|       81.0|\n",
      "|2011-04-18 16:31:17|343.04998779296875|       81.0|\n",
      "|2011-04-18 16:31:44|335.91998291015625|       80.0|\n",
      "|2011-04-18 16:32:05|341.19000244140625|       81.0|\n",
      "|2011-04-18 16:32:38|  340.739990234375|       81.0|\n",
      "|2011-04-18 16:33:17| 340.4700012207031|       81.0|\n",
      "|2011-04-18 16:33:55| 340.3899841308594|       81.0|\n",
      "+-------------------+------------------+-----------+\n",
      "only showing top 20 rows\n",
      "\n",
      "root\n",
      " |-- TIMESTAMP: timestamp (nullable = true)\n",
      " |-- AGGREGATED_POWER: double (nullable = true)\n",
      " |-- LIGHT_POWER: double (nullable = true)\n",
      "\n"
     ]
    },
    {
     "name": "stderr",
     "output_type": "stream",
     "text": [
      "23/08/15 02:27:58 WARN TaskSetManager: Stage 16 contains a task of very large size (1829 KiB). The maximum recommended task size is 1000 KiB.\n",
      "23/08/15 02:28:00 WARN TaskSetManager: Stage 20 contains a task of very large size (7657 KiB). The maximum recommended task size is 1000 KiB.\n"
     ]
    },
    {
     "name": "stdout",
     "output_type": "stream",
     "text": [
      "+-------------------+------------------+-------------+\n",
      "|          TIMESTAMP|  AGGREGATED_POWER|SOCKETS_POWER|\n",
      "+-------------------+------------------+-------------+\n",
      "|2011-04-18 16:22:26|   341.77001953125|         34.0|\n",
      "|2011-04-18 16:22:47| 342.3399963378906|         34.0|\n",
      "|2011-04-18 16:23:43|            345.75|         38.0|\n",
      "|2011-04-18 16:24:08|  346.010009765625|         35.0|\n",
      "|2011-04-18 16:24:23|344.54998779296875|         34.0|\n",
      "|2011-04-18 16:25:55|340.32000732421875|         32.0|\n",
      "|2011-04-18 16:26:55|  344.739990234375|         38.0|\n",
      "|2011-04-18 16:27:42|             344.0|         34.0|\n",
      "|2011-04-18 16:27:46| 345.8899841308594|         34.0|\n",
      "|2011-04-18 16:28:36| 337.8699951171875|         31.0|\n",
      "|2011-04-18 16:28:43|  338.239990234375|         33.0|\n",
      "|2011-04-18 16:28:46| 337.6300048828125|         32.0|\n",
      "|2011-04-18 16:28:53|   337.77001953125|         31.0|\n",
      "|2011-04-18 16:30:54| 337.1300048828125|         31.0|\n",
      "|2011-04-18 16:31:17|343.04998779296875|         35.0|\n",
      "|2011-04-18 16:31:44|335.91998291015625|         32.0|\n",
      "|2011-04-18 16:32:05|341.19000244140625|         34.0|\n",
      "|2011-04-18 16:32:38|  340.739990234375|         34.0|\n",
      "|2011-04-18 16:33:17| 340.4700012207031|         34.0|\n",
      "|2011-04-18 16:33:55| 340.3899841308594|         34.0|\n",
      "+-------------------+------------------+-------------+\n",
      "only showing top 20 rows\n",
      "\n",
      "root\n",
      " |-- TIMESTAMP: timestamp (nullable = true)\n",
      " |-- AGGREGATED_POWER: double (nullable = true)\n",
      " |-- SOCKETS_POWER: double (nullable = true)\n",
      "\n"
     ]
    },
    {
     "name": "stderr",
     "output_type": "stream",
     "text": [
      "23/08/15 02:28:03 WARN TaskSetManager: Stage 21 contains a task of very large size (1829 KiB). The maximum recommended task size is 1000 KiB.\n",
      "[Stage 21:>                                                         (0 + 8) / 8]\r"
     ]
    },
    {
     "name": "stdout",
     "output_type": "stream",
     "text": [
      "+-------------------+------------------+----------------+\n",
      "|          TIMESTAMP|  AGGREGATED_POWER|DISHWASHER_POWER|\n",
      "+-------------------+------------------+----------------+\n",
      "|2011-04-18 16:22:26|   341.77001953125|             0.0|\n",
      "|2011-04-18 16:22:47| 342.3399963378906|             0.0|\n",
      "|2011-04-18 16:23:43|            345.75|             0.0|\n",
      "|2011-04-18 16:24:08|  346.010009765625|             0.0|\n",
      "|2011-04-18 16:24:23|344.54998779296875|             0.0|\n",
      "|2011-04-18 16:25:55|340.32000732421875|             0.0|\n",
      "|2011-04-18 16:26:55|  344.739990234375|             0.0|\n",
      "|2011-04-18 16:27:42|             344.0|             1.0|\n",
      "|2011-04-18 16:27:46| 345.8899841308594|             0.0|\n",
      "|2011-04-18 16:28:36| 337.8699951171875|             0.0|\n",
      "|2011-04-18 16:28:43|  338.239990234375|             1.0|\n",
      "|2011-04-18 16:28:46| 337.6300048828125|             0.0|\n",
      "|2011-04-18 16:28:53|   337.77001953125|             0.0|\n",
      "|2011-04-18 16:30:54| 337.1300048828125|             1.0|\n",
      "|2011-04-18 16:31:17|343.04998779296875|             0.0|\n",
      "|2011-04-18 16:31:44|335.91998291015625|             0.0|\n",
      "|2011-04-18 16:32:05|341.19000244140625|             0.0|\n",
      "|2011-04-18 16:32:38|  340.739990234375|             0.0|\n",
      "|2011-04-18 16:33:17| 340.4700012207031|             0.0|\n",
      "|2011-04-18 16:33:55| 340.3899841308594|             0.0|\n",
      "+-------------------+------------------+----------------+\n",
      "only showing top 20 rows\n",
      "\n",
      "root\n",
      " |-- TIMESTAMP: timestamp (nullable = true)\n",
      " |-- AGGREGATED_POWER: double (nullable = true)\n",
      " |-- DISHWASHER_POWER: double (nullable = true)\n",
      "\n"
     ]
    },
    {
     "name": "stderr",
     "output_type": "stream",
     "text": [
      "                                                                                \r"
     ]
    }
   ],
   "source": [
    "from pyspark.sql.functions import *\n",
    "from pyspark.sql.types import DoubleType, TimestampType\n",
    "\n",
    "device_names = ['fridge', 'washer dryer', 'light', 'sockets', 'dish washer']\n",
    "\n",
    "device_data = {}\n",
    "join_data = {}\n",
    "\n",
    "for device_name in device_names:\n",
    "    device_meter = train_elec[device_name]\n",
    "    try:\n",
    "        device_df = next(device_meter.load())\n",
    "        device_df = device_df.reset_index()\n",
    "        \n",
    "        if device_name == 'washer dryer':\n",
    "            device_name = 'wash_dryer'\n",
    "            device_df.columns = ['TIMESTAMP', 'WASHER_DRYER_POWER']\n",
    "        elif device_name == 'dish washer':\n",
    "            device_name = 'dishwasher'\n",
    "            device_df.columns = ['TIMESTAMP', 'DISHWASHER_POWER']\n",
    "        else:\n",
    "            device_df.columns = ['TIMESTAMP', device_name.upper() + '_POWER']\n",
    "        \n",
    "        device_spark_df = spark.createDataFrame(device_df)\n",
    "        device_data[device_name] = device_spark_df\n",
    "        \n",
    "    except StopIteration:\n",
    "        print(f\"No data found for {device_name}. Skipping...\")\n",
    "\n",
    "    if device_name in device_data:\n",
    "        df = device_data[device_name]\n",
    "        df = df.withColumn('TIMESTAMP', col('TIMESTAMP').cast(TimestampType()))\n",
    "        \n",
    "        for column in df.columns:\n",
    "            if column != 'TIMESTAMP':\n",
    "                df = df.withColumn(column, col(column).cast(DoubleType()))\n",
    "        \n",
    "        join_data[device_name] = df\n",
    "\n",
    "for df_name, df in join_data.items():\n",
    "    df = mains_df.join(df, on='TIMESTAMP')\n",
    "    df = df.dropna()\n",
    "    \n",
    "    join_data[df_name] = df\n",
    "\n",
    "    df.show()\n",
    "    df.printSchema()"
   ]
  },
  {
   "cell_type": "code",
   "execution_count": 7,
   "id": "5ca5fcc0-389e-43ad-9404-847901eda160",
   "metadata": {
    "execution": {
     "iopub.execute_input": "2023-08-14T23:28:05.346789Z",
     "iopub.status.busy": "2023-08-14T23:28:05.346342Z",
     "iopub.status.idle": "2023-08-14T23:28:09.452639Z",
     "shell.execute_reply": "2023-08-14T23:28:09.451716Z",
     "shell.execute_reply.started": "2023-08-14T23:28:05.346772Z"
    },
    "tags": []
   },
   "outputs": [
    {
     "name": "stderr",
     "output_type": "stream",
     "text": [
      "23/08/15 02:28:05 WARN TaskSetManager: Stage 25 contains a task of very large size (7657 KiB). The maximum recommended task size is 1000 KiB.\n",
      "[Stage 25:>                                                         (0 + 1) / 1]\r"
     ]
    },
    {
     "name": "stdout",
     "output_type": "stream",
     "text": [
      "+-------------------+------------------+\n",
      "|          TIMESTAMP|  AGGREGATED_POWER|\n",
      "+-------------------+------------------+\n",
      "|2011-04-18 16:22:09|342.82000732421875|\n",
      "|2011-04-18 16:22:10|344.55999755859375|\n",
      "|2011-04-18 16:22:11| 345.1400146484375|\n",
      "|2011-04-18 16:22:12|341.67999267578125|\n",
      "|2011-04-18 16:22:13| 341.0299987792969|\n",
      "|2011-04-18 16:22:14|340.79998779296875|\n",
      "|2011-04-18 16:22:15| 342.2099914550781|\n",
      "|2011-04-18 16:22:16| 342.3599853515625|\n",
      "|2011-04-18 16:22:17| 341.3500061035156|\n",
      "|2011-04-18 16:22:18|341.80999755859375|\n",
      "|2011-04-18 16:22:19| 340.7200012207031|\n",
      "|2011-04-18 16:22:20|   342.52001953125|\n",
      "|2011-04-18 16:22:21| 341.2799987792969|\n",
      "|2011-04-18 16:22:22| 342.0400085449219|\n",
      "|2011-04-18 16:22:23|342.07000732421875|\n",
      "|2011-04-18 16:22:24| 341.8599853515625|\n",
      "|2011-04-18 16:22:25| 340.3599853515625|\n",
      "|2011-04-18 16:22:26|   341.77001953125|\n",
      "|2011-04-18 16:22:27|341.53997802734375|\n",
      "|2011-04-18 16:22:28| 340.9700012207031|\n",
      "+-------------------+------------------+\n",
      "only showing top 20 rows\n",
      "\n"
     ]
    },
    {
     "name": "stderr",
     "output_type": "stream",
     "text": [
      "23/08/15 02:28:09 WARN PythonRunner: Detected deadlock while completing task 0.0 in stage 25 (TID 85): Attempting to kill Python Worker\n",
      "                                                                                \r"
     ]
    }
   ],
   "source": [
    "mains_df.show()"
   ]
  },
  {
   "cell_type": "code",
   "execution_count": 8,
   "id": "49a0b34d-bd4d-4c5e-9873-6b266c11e03e",
   "metadata": {
    "execution": {
     "iopub.execute_input": "2023-08-14T23:28:09.456294Z",
     "iopub.status.busy": "2023-08-14T23:28:09.456005Z",
     "iopub.status.idle": "2023-08-14T23:28:09.460260Z",
     "shell.execute_reply": "2023-08-14T23:28:09.459784Z",
     "shell.execute_reply.started": "2023-08-14T23:28:09.456269Z"
    },
    "tags": []
   },
   "outputs": [],
   "source": [
    "fridge_df = join_data['fridge']\n",
    "washer_df = join_data['wash_dryer']\n",
    "light_df = join_data['light']\n",
    "sockets_df = join_data['sockets']\n",
    "dishwasher_df = join_data['dishwasher']"
   ]
  },
  {
   "cell_type": "code",
   "execution_count": 9,
   "id": "8369a24a-763e-4525-a897-8b4b40228809",
   "metadata": {
    "execution": {
     "iopub.execute_input": "2023-08-14T23:28:09.461312Z",
     "iopub.status.busy": "2023-08-14T23:28:09.461150Z",
     "iopub.status.idle": "2023-08-14T23:28:09.489977Z",
     "shell.execute_reply": "2023-08-14T23:28:09.489511Z",
     "shell.execute_reply.started": "2023-08-14T23:28:09.461295Z"
    },
    "tags": []
   },
   "outputs": [],
   "source": [
    "\n",
    "train_start_date = \"2011-04-18\"\n",
    "train_end_date = \"2011-05-15\"\n",
    "test_start_date = \"2011-05-16\"\n",
    "test_end_date = \"2011-05-24\"\n",
    "\n",
    "mains_train = mains_df.filter((col(\"TIMESTAMP\") >= train_start_date) & (col(\"TIMESTAMP\") <= train_end_date)).dropna()\n",
    "mains_test = mains_df.filter((col(\"TIMESTAMP\") >= test_start_date) & (col(\"TIMESTAMP\") <= test_end_date)).dropna()\n",
    "# not needed since we joined/concatenated them only if we wanted to predict the total power... "
   ]
  },
  {
   "cell_type": "code",
   "execution_count": 10,
   "id": "8186277c-321f-40a1-964a-b1755015cbc7",
   "metadata": {
    "execution": {
     "iopub.execute_input": "2023-08-14T23:28:09.490706Z",
     "iopub.status.busy": "2023-08-14T23:28:09.490588Z",
     "iopub.status.idle": "2023-08-14T23:28:09.581478Z",
     "shell.execute_reply": "2023-08-14T23:28:09.581138Z",
     "shell.execute_reply.started": "2023-08-14T23:28:09.490694Z"
    },
    "tags": []
   },
   "outputs": [],
   "source": [
    "fridge_train = fridge_df.filter((col(\"TIMESTAMP\") >= train_start_date) & (col(\"TIMESTAMP\") <= train_end_date)).dropna()\n",
    "fridge_test = fridge_df.filter((col(\"TIMESTAMP\") >= test_start_date) & (col(\"TIMESTAMP\") <= test_end_date)).dropna()\n",
    "\n",
    "dishwasher_train = dishwasher_df.filter((col(\"TIMESTAMP\") >= train_start_date) & (col(\"TIMESTAMP\") <= train_end_date)).dropna()\n",
    "dishwasher_test = dishwasher_df.filter((col(\"TIMESTAMP\") >= test_start_date) & (col(\"TIMESTAMP\") <= test_end_date)).dropna()\n",
    "\n",
    "washer_train = washer_df.filter((col(\"TIMESTAMP\") >= train_start_date) & (col(\"TIMESTAMP\") <= train_end_date)).dropna()\n",
    "washer_test = washer_df.filter((col(\"TIMESTAMP\") >= test_start_date) & (col(\"TIMESTAMP\") <= test_end_date)).dropna()\n",
    "\n",
    "light_train = light_df.filter((col(\"TIMESTAMP\") >= train_start_date) & (col(\"TIMESTAMP\") <= train_end_date)).dropna()\n",
    "light_test = light_df.filter((col(\"TIMESTAMP\") >= test_start_date) & (col(\"TIMESTAMP\") <= test_end_date)).dropna()\n",
    "\n",
    "sockets_train = sockets_df.filter((col(\"TIMESTAMP\") >= train_start_date) & (col(\"TIMESTAMP\") <= train_end_date)).dropna()\n",
    "sockets_test = sockets_df.filter((col(\"TIMESTAMP\") >= test_start_date) & (col(\"TIMESTAMP\") <= test_end_date)).dropna()\n",
    "\n"
   ]
  },
  {
   "cell_type": "code",
   "execution_count": 11,
   "id": "bd6629d1-643d-499b-b412-8429368650f0",
   "metadata": {
    "execution": {
     "iopub.execute_input": "2023-08-14T23:28:09.581991Z",
     "iopub.status.busy": "2023-08-14T23:28:09.581901Z",
     "iopub.status.idle": "2023-08-14T23:28:11.906033Z",
     "shell.execute_reply": "2023-08-14T23:28:11.905352Z",
     "shell.execute_reply.started": "2023-08-14T23:28:09.581981Z"
    },
    "tags": []
   },
   "outputs": [
    {
     "name": "stderr",
     "output_type": "stream",
     "text": [
      "23/08/15 02:28:09 WARN TaskSetManager: Stage 26 contains a task of very large size (7657 KiB). The maximum recommended task size is 1000 KiB.\n",
      "23/08/15 02:28:10 WARN TaskSetManager: Stage 27 contains a task of very large size (1829 KiB). The maximum recommended task size is 1000 KiB.\n",
      "[Stage 26:=============>    (6 + 2) / 8][Stage 27:===========>      (5 + 3) / 8]\r"
     ]
    },
    {
     "name": "stdout",
     "output_type": "stream",
     "text": [
      "+-------------------+------------------+------------+\n",
      "|          TIMESTAMP|  AGGREGATED_POWER|FRIDGE_POWER|\n",
      "+-------------------+------------------+------------+\n",
      "|2011-05-22 23:05:04| 832.4299926757812|         7.0|\n",
      "|2011-05-22 23:06:01|1080.1099853515625|       264.0|\n",
      "|2011-05-22 23:07:23|361.44000244140625|       200.0|\n",
      "|2011-05-22 23:07:49|             362.0|       199.0|\n",
      "|2011-05-22 23:08:37| 354.6999816894531|       198.0|\n",
      "|2011-05-22 23:09:51| 364.2699890136719|       198.0|\n",
      "|2011-05-22 23:10:58|   6512.1298828125|       198.0|\n",
      "|2011-05-22 23:11:09|  6282.18994140625|       195.0|\n",
      "|2011-05-22 23:11:26|   6249.7998046875|       195.0|\n",
      "|2011-05-22 23:11:49|  6243.02001953125|       196.0|\n",
      "|2011-05-22 23:12:20|    6229.580078125|       196.0|\n",
      "|2011-05-22 23:13:07|   6213.9501953125|       194.0|\n",
      "|2011-05-22 23:13:34|   6199.7998046875|       191.0|\n",
      "|2011-05-22 23:13:38|    6196.330078125|       196.0|\n",
      "|2011-05-22 23:13:47|  6204.14013671875|       194.0|\n",
      "|2011-05-22 23:13:50|           6210.25|       194.0|\n",
      "|2011-05-22 23:14:00|  6192.97998046875|       191.0|\n",
      "|2011-05-22 23:14:07|   6213.8701171875|       192.0|\n",
      "|2011-05-22 23:14:51|   6213.8798828125|       190.0|\n",
      "|2011-05-22 23:15:04|      6177.4296875|       193.0|\n",
      "+-------------------+------------------+------------+\n",
      "only showing top 20 rows\n",
      "\n"
     ]
    },
    {
     "name": "stderr",
     "output_type": "stream",
     "text": [
      "                                                                                \r"
     ]
    }
   ],
   "source": [
    "fridge_test.show()"
   ]
  },
  {
   "cell_type": "code",
   "execution_count": 12,
   "id": "fef5e6e7-5a93-469f-b92a-e5ccff373a66",
   "metadata": {
    "execution": {
     "iopub.execute_input": "2023-08-14T23:28:11.907363Z",
     "iopub.status.busy": "2023-08-14T23:28:11.907236Z",
     "iopub.status.idle": "2023-08-14T23:28:11.912461Z",
     "shell.execute_reply": "2023-08-14T23:28:11.911868Z",
     "shell.execute_reply.started": "2023-08-14T23:28:11.907351Z"
    },
    "tags": []
   },
   "outputs": [],
   "source": [
    "input_cols = {'fridge': ['AGGREGATED_POWER'],\n",
    "              'washer': ['AGGREGATED_POWER'],\n",
    "              'light': ['AGGREGATED_POWER'],\n",
    "              'sockets': ['AGGREGATED_POWER'],\n",
    "              'dishwasher': ['AGGREGATED_POWER']}\n",
    "              \n",
    "output_cols = {'fridge': 'FRIDGE_POWER',\n",
    "               'washer': 'WASHER_DRYER_POWER',\n",
    "               'light': 'LIGHT_POWER',\n",
    "               'sockets': 'SOCKETS_POWER',\n",
    "               'dishwasher': 'DISHWASHER_POWER'}\n",
    "\n",
    "# Initialize the evaluation results dictionary\n",
    "evaluation_results = {}\n"
   ]
  },
  {
   "cell_type": "code",
   "execution_count": 13,
   "id": "fe764862-63f0-40f7-936f-aa2f0c726461",
   "metadata": {
    "execution": {
     "iopub.execute_input": "2023-08-14T23:13:21.746468Z",
     "iopub.status.busy": "2023-08-14T23:13:21.744931Z",
     "iopub.status.idle": "2023-08-14T23:14:19.385583Z",
     "shell.execute_reply": "2023-08-14T23:14:19.380711Z",
     "shell.execute_reply.started": "2023-08-14T23:13:21.746365Z"
    },
    "tags": []
   },
   "outputs": [
    {
     "name": "stderr",
     "output_type": "stream",
     "text": [
      "23/08/15 02:13:22 WARN TaskSetManager: Stage 31 contains a task of very large size (7657 KiB). The maximum recommended task size is 1000 KiB.\n",
      "23/08/15 02:13:23 WARN TaskSetManager: Stage 32 contains a task of very large size (1829 KiB). The maximum recommended task size is 1000 KiB.\n",
      "23/08/15 02:13:30 WARN TaskSetManager: Stage 40 contains a task of very large size (7657 KiB). The maximum recommended task size is 1000 KiB.\n",
      "23/08/15 02:13:31 WARN TaskSetManager: Stage 41 contains a task of very large size (1829 KiB). The maximum recommended task size is 1000 KiB.\n",
      "WARNING: An illegal reflective access operation has occurred                    \n",
      "WARNING: Illegal reflective access by org.apache.spark.util.SizeEstimator$ (file:/opt/miniconda3/envs/nilmenv/lib/python3.8/site-packages/pyspark/jars/spark-core_2.12-3.4.0.jar) to field java.nio.charset.Charset.name\n",
      "WARNING: Please consider reporting this to the maintainers of org.apache.spark.util.SizeEstimator$\n",
      "WARNING: Use --illegal-access=warn to enable warnings of further illegal reflective access operations\n",
      "WARNING: All illegal access operations will be denied in a future release\n",
      "23/08/15 02:13:47 WARN TaskSetManager: Stage 92 contains a task of very large size (7657 KiB). The maximum recommended task size is 1000 KiB.\n",
      "23/08/15 02:13:47 WARN TaskSetManager: Stage 93 contains a task of very large size (1829 KiB). The maximum recommended task size is 1000 KiB.\n",
      "23/08/15 02:13:49 WARN TaskSetManager: Stage 98 contains a task of very large size (7657 KiB). The maximum recommended task size is 1000 KiB.\n",
      "23/08/15 02:13:50 WARN TaskSetManager: Stage 99 contains a task of very large size (1829 KiB). The maximum recommended task size is 1000 KiB.\n",
      "23/08/15 02:14:11 WARN TaskSetManager: Stage 104 contains a task of very large size (7657 KiB). The maximum recommended task size is 1000 KiB.\n",
      "23/08/15 02:14:12 WARN TaskSetManager: Stage 105 contains a task of very large size (1829 KiB). The maximum recommended task size is 1000 KiB.\n",
      "23/08/15 02:14:14 WARN TaskSetManager: Stage 110 contains a task of very large size (7657 KiB). The maximum recommended task size is 1000 KiB.\n",
      "23/08/15 02:14:14 WARN TaskSetManager: Stage 111 contains a task of very large size (1829 KiB). The maximum recommended task size is 1000 KiB.\n",
      "23/08/15 02:14:16 WARN TaskSetManager: Stage 116 contains a task of very large size (7657 KiB). The maximum recommended task size is 1000 KiB.\n",
      "23/08/15 02:14:17 WARN TaskSetManager: Stage 117 contains a task of very large size (1829 KiB). The maximum recommended task size is 1000 KiB.\n",
      "[Stage 117:==========================================>              (6 + 2) / 8]\r"
     ]
    },
    {
     "name": "stdout",
     "output_type": "stream",
     "text": [
      "Metrics for fridge:\n",
      "MSE: 5661.588124242908\n",
      "RMSE: 75.24352546394213\n",
      "MAE: 47.20142020140021\n",
      "R2: 0.3631714491213235\n",
      "RMAE: 0.6833438595848744\n"
     ]
    },
    {
     "name": "stderr",
     "output_type": "stream",
     "text": [
      "                                                                                \r"
     ]
    }
   ],
   "source": [
    "from pyspark.ml import Pipeline\n",
    "from pyspark.ml.regression import RandomForestRegressor\n",
    "from pyspark.ml.feature import VectorAssembler, MinMaxScaler\n",
    "from pyspark.ml.evaluation import RegressionEvaluator\n",
    "\n",
    "\n",
    "# Create vector assembler for input columns\n",
    "assembler_fridge = VectorAssembler(inputCols=input_cols['fridge'], outputCol='features')\n",
    "\n",
    "# Create scaler\n",
    "scaler_fridge = MinMaxScaler(inputCol='features', outputCol='scaled_features')\n",
    "\n",
    "# Create random forest regressor\n",
    "rf_fridge = RandomForestRegressor(featuresCol='scaled_features', labelCol=output_cols['fridge'], numTrees=50, maxDepth=10)\n",
    "\n",
    "# Create pipeline\n",
    "pipeline_fridge = Pipeline(stages=[assembler_fridge, scaler_fridge, rf_fridge])\n",
    "\n",
    "# Fit pipeline on train data\n",
    "pipeline_model_fridge = pipeline_fridge.fit(fridge_train)\n",
    "\n",
    "# Make predictions on test data\n",
    "predictions_fridge = pipeline_model_fridge.transform(fridge_test)\n",
    "\n",
    "# Evaluate the model on the predicted column\n",
    "evaluator_mse_fridge = RegressionEvaluator(labelCol=output_cols['fridge'], predictionCol='prediction', metricName='mse')\n",
    "mse_fridge = evaluator_mse_fridge.evaluate(predictions_fridge)\n",
    "\n",
    "evaluator_rmse_fridge = RegressionEvaluator(labelCol=output_cols['fridge'], predictionCol='prediction', metricName='rmse')\n",
    "rmse_fridge = evaluator_rmse_fridge.evaluate(predictions_fridge)\n",
    "\n",
    "evaluator_mae_fridge = RegressionEvaluator(labelCol=output_cols['fridge'], predictionCol='prediction', metricName='mae')\n",
    "mae_fridge = evaluator_mae_fridge.evaluate(predictions_fridge)\n",
    "\n",
    "evaluator_r2_fridge = RegressionEvaluator(labelCol=output_cols['fridge'], predictionCol='prediction', metricName='r2')\n",
    "r2_fridge = evaluator_r2_fridge.evaluate(predictions_fridge)\n",
    "\n",
    "mean_actual = predictions_fridge.selectExpr(f\"avg({output_cols['fridge']}) as mean_actual\").collect()[0][\"mean_actual\"]\n",
    "rmae_fridge = mae_fridge / mean_actual\n",
    "\n",
    "# Store the evaluation results\n",
    "evaluation_results['fridge'] = {'MSE': mse_fridge, 'RMSE': rmse_fridge, 'MAE': mae_fridge, 'R2': r2_fridge, 'RMAE': rmae_fridge}\n",
    "\n",
    "# Print the evaluation metrics\n",
    "print(\"Metrics for fridge:\")\n",
    "print(\"MSE:\", mse_fridge)\n",
    "print(\"RMSE:\", rmse_fridge)\n",
    "print(\"MAE:\", mae_fridge)\n",
    "print(\"R2:\", r2_fridge)\n",
    "print(\"RMAE:\", rmae_fridge)\n"
   ]
  },
  {
   "cell_type": "code",
   "execution_count": 14,
   "id": "78ce09bb-6821-46a8-87cf-9d0a206cb28b",
   "metadata": {
    "execution": {
     "iopub.execute_input": "2023-08-14T23:15:05.804097Z",
     "iopub.status.busy": "2023-08-14T23:15:05.802356Z",
     "iopub.status.idle": "2023-08-14T23:15:14.067916Z",
     "shell.execute_reply": "2023-08-14T23:15:14.067629Z",
     "shell.execute_reply.started": "2023-08-14T23:15:05.803986Z"
    },
    "tags": []
   },
   "outputs": [
    {
     "name": "stderr",
     "output_type": "stream",
     "text": [
      "23/08/15 02:15:05 WARN TaskSetManager: Stage 125 contains a task of very large size (7657 KiB). The maximum recommended task size is 1000 KiB.\n",
      "23/08/15 02:15:06 WARN TaskSetManager: Stage 126 contains a task of very large size (1829 KiB). The maximum recommended task size is 1000 KiB.\n",
      "23/08/15 02:15:08 WARN TaskSetManager: Stage 130 contains a task of very large size (7657 KiB). The maximum recommended task size is 1000 KiB.\n",
      "23/08/15 02:15:09 WARN TaskSetManager: Stage 131 contains a task of very large size (1829 KiB). The maximum recommended task size is 1000 KiB.\n",
      "23/08/15 02:15:11 WARN TaskSetManager: Stage 135 contains a task of very large size (7657 KiB). The maximum recommended task size is 1000 KiB.\n",
      "23/08/15 02:15:11 WARN TaskSetManager: Stage 136 contains a task of very large size (1829 KiB). The maximum recommended task size is 1000 KiB.\n",
      "                                                                                \r"
     ]
    },
    {
     "data": {
      "image/png": "[encoded data removed]",
      "text/plain": [
       "<Figure size 1200x600 with 1 Axes>"
      ]
     },
     "metadata": {},
     "output_type": "display_data"
    }
   ],
   "source": [
    "import matplotlib.pyplot as plt\n",
    "\n",
    "# Extract the actual values and predicted values from the predictions DataFrame\n",
    "actual_values = predictions_fridge.select(output_cols['fridge']).collect()\n",
    "predicted_values = predictions_fridge.select('prediction').collect()\n",
    "\n",
    "\n",
    "timestamps = fridge_test.select('TIMESTAMP').collect()\n",
    "\n",
    "\n",
    "timestamps = [row['TIMESTAMP'] for row in timestamps]\n",
    "actual_values = [row[output_cols['fridge']] for row in actual_values]\n",
    "predicted_values = [row['prediction'] for row in predicted_values]\n",
    "\n",
    "\n",
    "background_color = 'indigo'\n",
    "actual_color = 'orange'\n",
    "predicted_color = 'green'\n",
    "\n",
    "\n",
    "plt.figure(figsize=(12, 6))\n",
    "plt.gca().set_facecolor(background_color)\n",
    "\n",
    "\n",
    "plt.plot(timestamps, actual_values, label='Actual', color=actual_color)\n",
    "plt.plot(timestamps, predicted_values, label='Predicted', color=predicted_color)\n",
    "\n",
    "\n",
    "plt.xlabel('Timestamp')\n",
    "plt.ylabel('Power')\n",
    "plt.title('Fridge Power: Actual vs Predicted')\n",
    "plt.legend()\n",
    "\n",
    "\n",
    "plt.show()\n"
   ]
  },
  {
   "cell_type": "code",
   "execution_count": 14,
   "id": "f20dfb73-3896-4a33-aed6-9468fd72f15b",
   "metadata": {
    "execution": {
     "iopub.execute_input": "2023-08-14T23:19:58.036944Z",
     "iopub.status.busy": "2023-08-14T23:19:58.036099Z",
     "iopub.status.idle": "2023-08-14T23:20:40.152675Z",
     "shell.execute_reply": "2023-08-14T23:20:40.152149Z",
     "shell.execute_reply.started": "2023-08-14T23:19:58.036893Z"
    },
    "tags": []
   },
   "outputs": [
    {
     "name": "stderr",
     "output_type": "stream",
     "text": [
      "23/08/15 02:19:58 WARN TaskSetManager: Stage 31 contains a task of very large size (7657 KiB). The maximum recommended task size is 1000 KiB.\n",
      "23/08/15 02:19:59 WARN TaskSetManager: Stage 32 contains a task of very large size (1829 KiB). The maximum recommended task size is 1000 KiB.\n",
      "23/08/15 02:20:03 WARN TaskSetManager: Stage 40 contains a task of very large size (7657 KiB). The maximum recommended task size is 1000 KiB.\n",
      "23/08/15 02:20:04 WARN TaskSetManager: Stage 41 contains a task of very large size (1829 KiB). The maximum recommended task size is 1000 KiB.\n",
      "WARNING: An illegal reflective access operation has occurred                    \n",
      "WARNING: Illegal reflective access by org.apache.spark.util.SizeEstimator$ (file:/opt/miniconda3/envs/nilmenv/lib/python3.8/site-packages/pyspark/jars/spark-core_2.12-3.4.0.jar) to field java.nio.charset.Charset.name\n",
      "WARNING: Please consider reporting this to the maintainers of org.apache.spark.util.SizeEstimator$\n",
      "WARNING: Use --illegal-access=warn to enable warnings of further illegal reflective access operations\n",
      "WARNING: All illegal access operations will be denied in a future release\n",
      "23/08/15 02:20:23 WARN TaskSetManager: Stage 92 contains a task of very large size (7657 KiB). The maximum recommended task size is 1000 KiB.\n",
      "23/08/15 02:20:24 WARN TaskSetManager: Stage 93 contains a task of very large size (1829 KiB). The maximum recommended task size is 1000 KiB.\n",
      "23/08/15 02:20:26 WARN TaskSetManager: Stage 98 contains a task of very large size (7657 KiB). The maximum recommended task size is 1000 KiB.\n",
      "23/08/15 02:20:27 WARN TaskSetManager: Stage 99 contains a task of very large size (1829 KiB). The maximum recommended task size is 1000 KiB.\n",
      "23/08/15 02:20:28 WARN TaskSetManager: Stage 104 contains a task of very large size (7657 KiB). The maximum recommended task size is 1000 KiB.\n",
      "23/08/15 02:20:29 WARN TaskSetManager: Stage 105 contains a task of very large size (1829 KiB). The maximum recommended task size is 1000 KiB.\n",
      "23/08/15 02:20:35 WARN TaskSetManager: Stage 110 contains a task of very large size (7657 KiB). The maximum recommended task size is 1000 KiB.\n",
      "23/08/15 02:20:36 WARN TaskSetManager: Stage 111 contains a task of very large size (1829 KiB). The maximum recommended task size is 1000 KiB.\n",
      "23/08/15 02:20:37 WARN TaskSetManager: Stage 116 contains a task of very large size (7657 KiB). The maximum recommended task size is 1000 KiB.\n",
      "23/08/15 02:20:38 WARN TaskSetManager: Stage 117 contains a task of very large size (1829 KiB). The maximum recommended task size is 1000 KiB.\n",
      "[Stage 116:============>    (6 + 2) / 8][Stage 117:============>    (6 + 2) / 8]\r"
     ]
    },
    {
     "name": "stdout",
     "output_type": "stream",
     "text": [
      "Metrics for dishwasher:\n",
      "MSE: 33037.45061353925\n",
      "RMSE: 181.76207143829333\n",
      "MAE: 68.46560706864622\n",
      "R2: 0.23713706304995152\n",
      "RMAE: 1.4342729095698066\n"
     ]
    },
    {
     "name": "stderr",
     "output_type": "stream",
     "text": [
      "                                                                                \r"
     ]
    }
   ],
   "source": [
    "from pyspark.ml import Pipeline\n",
    "from pyspark.ml.regression import RandomForestRegressor\n",
    "from pyspark.ml.feature import VectorAssembler, MinMaxScaler\n",
    "from pyspark.ml.evaluation import RegressionEvaluator\n",
    "\n",
    "\n",
    "# Create vector assembler for input columns\n",
    "assembler_dishwasher = VectorAssembler(inputCols=input_cols['dishwasher'], outputCol='features')\n",
    "\n",
    "# Create scaler\n",
    "scaler_dishwasher = MinMaxScaler(inputCol='features', outputCol='scaled_features')\n",
    "\n",
    "# Create random forest regressor\n",
    "rf_dishwasher = RandomForestRegressor(featuresCol='scaled_features', labelCol=output_cols['dishwasher'], numTrees=50, maxDepth=10)\n",
    "\n",
    "# Create pipeline\n",
    "pipeline_dishwasher = Pipeline(stages=[assembler_dishwasher, scaler_dishwasher, rf_dishwasher])\n",
    "\n",
    "# Fit pipeline on train data\n",
    "pipeline_model_dishwasher = pipeline_dishwasher.fit(dishwasher_train)\n",
    "\n",
    "# Make predictions on test data\n",
    "predictions_dishwasher = pipeline_model_dishwasher.transform(dishwasher_test)\n",
    "\n",
    "# Evaluate the model on the predicted column\n",
    "evaluator_mse_dishwasher = RegressionEvaluator(labelCol=output_cols['dishwasher'], predictionCol='prediction', metricName='mse')\n",
    "mse_dishwasher = evaluator_mse_dishwasher.evaluate(predictions_dishwasher)\n",
    "\n",
    "evaluator_rmse_dishwasher = RegressionEvaluator(labelCol=output_cols['dishwasher'], predictionCol='prediction', metricName='rmse')\n",
    "rmse_dishwasher = evaluator_rmse_dishwasher.evaluate(predictions_dishwasher)\n",
    "\n",
    "evaluator_mae_dishwasher = RegressionEvaluator(labelCol=output_cols['dishwasher'], predictionCol='prediction', metricName='mae')\n",
    "mae_dishwasher = evaluator_mae_dishwasher.evaluate(predictions_dishwasher)\n",
    "\n",
    "evaluator_r2_dishwasher = RegressionEvaluator(labelCol=output_cols['dishwasher'], predictionCol='prediction', metricName='r2')\n",
    "r2_dishwasher = evaluator_r2_dishwasher.evaluate(predictions_dishwasher)\n",
    "\n",
    "mean_actual = predictions_dishwasher.selectExpr(f\"avg({output_cols['dishwasher']}) as mean_actual\").collect()[0][\"mean_actual\"]\n",
    "rmae_dishwasher = mae_dishwasher / mean_actual\n",
    "\n",
    "# Store the evaluation results\n",
    "evaluation_results['dishwasher'] = {'MSE': mse_dishwasher, 'RMSE': rmse_dishwasher, 'MAE': mae_dishwasher, 'R2': r2_dishwasher, 'RMAE': rmae_dishwasher}\n",
    "\n",
    "# Print the evaluation metrics\n",
    "print(\"Metrics for dishwasher:\")\n",
    "print(\"MSE:\", mse_dishwasher)\n",
    "print(\"RMSE:\", rmse_dishwasher)\n",
    "print(\"MAE:\", mae_dishwasher)\n",
    "print(\"R2:\", r2_dishwasher)\n",
    "print(\"RMAE:\", rmae_dishwasher)\n"
   ]
  },
  {
   "cell_type": "code",
   "execution_count": 15,
   "id": "411e016f-540a-486a-8cd8-2b3089a021f5",
   "metadata": {
    "execution": {
     "iopub.execute_input": "2023-08-14T23:21:20.302039Z",
     "iopub.status.busy": "2023-08-14T23:21:20.301009Z",
     "iopub.status.idle": "2023-08-14T23:21:30.178702Z",
     "shell.execute_reply": "2023-08-14T23:21:30.178366Z",
     "shell.execute_reply.started": "2023-08-14T23:21:20.301977Z"
    },
    "tags": []
   },
   "outputs": [
    {
     "name": "stderr",
     "output_type": "stream",
     "text": [
      "23/08/15 02:21:20 WARN TaskSetManager: Stage 125 contains a task of very large size (7657 KiB). The maximum recommended task size is 1000 KiB.\n",
      "23/08/15 02:21:21 WARN TaskSetManager: Stage 126 contains a task of very large size (1829 KiB). The maximum recommended task size is 1000 KiB.\n",
      "23/08/15 02:21:24 WARN TaskSetManager: Stage 130 contains a task of very large size (7657 KiB). The maximum recommended task size is 1000 KiB.\n",
      "23/08/15 02:21:25 WARN TaskSetManager: Stage 131 contains a task of very large size (1829 KiB). The maximum recommended task size is 1000 KiB.\n",
      "23/08/15 02:21:27 WARN TaskSetManager: Stage 135 contains a task of very large size (7657 KiB). The maximum recommended task size is 1000 KiB.\n",
      "23/08/15 02:21:28 WARN TaskSetManager: Stage 136 contains a task of very large size (1829 KiB). The maximum recommended task size is 1000 KiB.\n",
      "                                                                                \r"
     ]
    },
    {
     "data": {
      "image/png": "[encoded data removed]",
      "text/plain": [
       "<Figure size 1200x600 with 1 Axes>"
      ]
     },
     "metadata": {},
     "output_type": "display_data"
    }
   ],
   "source": [
    "import matplotlib.pyplot as plt\n",
    "\n",
    "# Extract the actual values and predicted values from the predictions DataFrame\n",
    "actual_values = predictions_dishwasher.select(output_cols['dishwasher']).collect()\n",
    "predicted_values = predictions_dishwasher.select('prediction').collect()\n",
    "\n",
    "\n",
    "timestamps = dishwasher_test.select('TIMESTAMP').collect()\n",
    "\n",
    "\n",
    "timestamps = [row['TIMESTAMP'] for row in timestamps]\n",
    "actual_values = [row[output_cols['dishwasher']] for row in actual_values]\n",
    "predicted_values = [row['prediction'] for row in predicted_values]\n",
    "\n",
    "\n",
    "background_color = 'indigo'\n",
    "actual_color = 'orange'\n",
    "predicted_color = 'green'\n",
    "\n",
    "\n",
    "plt.figure(figsize=(12, 6))\n",
    "plt.gca().set_facecolor(background_color)\n",
    "\n",
    "\n",
    "plt.plot(timestamps, actual_values, label='Actual', color=actual_color)\n",
    "plt.plot(timestamps, predicted_values, label='Predicted', color=predicted_color)\n",
    "\n",
    "\n",
    "plt.xlabel('Timestamp')\n",
    "plt.ylabel('Power')\n",
    "plt.title('dishwasher Power: Actual vs Predicted')\n",
    "plt.legend()\n",
    "\n",
    "\n",
    "plt.show()\n"
   ]
  },
  {
   "cell_type": "code",
   "execution_count": 16,
   "id": "9f5b5d29-6cbe-4931-ac95-d7bcadd8db29",
   "metadata": {
    "execution": {
     "iopub.execute_input": "2023-08-14T23:22:20.768790Z",
     "iopub.status.busy": "2023-08-14T23:22:20.767066Z",
     "iopub.status.idle": "2023-08-14T23:22:55.701264Z",
     "shell.execute_reply": "2023-08-14T23:22:55.700697Z",
     "shell.execute_reply.started": "2023-08-14T23:22:20.768698Z"
    },
    "tags": []
   },
   "outputs": [
    {
     "name": "stderr",
     "output_type": "stream",
     "text": [
      "23/08/15 02:22:20 WARN TaskSetManager: Stage 140 contains a task of very large size (7657 KiB). The maximum recommended task size is 1000 KiB.\n",
      "23/08/15 02:22:21 WARN TaskSetManager: Stage 141 contains a task of very large size (2550 KiB). The maximum recommended task size is 1000 KiB.\n",
      "23/08/15 02:22:25 WARN TaskSetManager: Stage 149 contains a task of very large size (7657 KiB). The maximum recommended task size is 1000 KiB.\n",
      "23/08/15 02:22:26 WARN TaskSetManager: Stage 150 contains a task of very large size (2550 KiB). The maximum recommended task size is 1000 KiB.\n",
      "23/08/15 02:22:44 WARN TaskSetManager: Stage 201 contains a task of very large size (7657 KiB). The maximum recommended task size is 1000 KiB.\n",
      "23/08/15 02:22:45 WARN TaskSetManager: Stage 202 contains a task of very large size (2550 KiB). The maximum recommended task size is 1000 KiB.\n",
      "23/08/15 02:22:46 WARN TaskSetManager: Stage 207 contains a task of very large size (7657 KiB). The maximum recommended task size is 1000 KiB.\n",
      "23/08/15 02:22:47 WARN TaskSetManager: Stage 208 contains a task of very large size (2550 KiB). The maximum recommended task size is 1000 KiB.\n",
      "23/08/15 02:22:48 WARN TaskSetManager: Stage 213 contains a task of very large size (7657 KiB). The maximum recommended task size is 1000 KiB.\n",
      "23/08/15 02:22:49 WARN TaskSetManager: Stage 214 contains a task of very large size (2550 KiB). The maximum recommended task size is 1000 KiB.\n",
      "23/08/15 02:22:51 WARN TaskSetManager: Stage 219 contains a task of very large size (7657 KiB). The maximum recommended task size is 1000 KiB.\n",
      "23/08/15 02:22:51 WARN TaskSetManager: Stage 220 contains a task of very large size (2550 KiB). The maximum recommended task size is 1000 KiB.\n",
      "23/08/15 02:22:53 WARN TaskSetManager: Stage 225 contains a task of very large size (7657 KiB). The maximum recommended task size is 1000 KiB.\n",
      "23/08/15 02:22:53 WARN TaskSetManager: Stage 226 contains a task of very large size (2550 KiB). The maximum recommended task size is 1000 KiB.\n",
      "[Stage 225:==============>  (7 + 1) / 8][Stage 226:============>    (6 + 2) / 8]\r"
     ]
    },
    {
     "name": "stdout",
     "output_type": "stream",
     "text": [
      "Metrics for washer:\n",
      "MSE: 179199.90383325488\n",
      "RMSE: 423.3200961840282\n",
      "MAE: 116.91273052914661\n",
      "R2: 0.42442600400789243\n",
      "RMAE: 0.9969315626406159\n"
     ]
    },
    {
     "name": "stderr",
     "output_type": "stream",
     "text": [
      "                                                                                \r"
     ]
    }
   ],
   "source": [
    "from pyspark.ml import Pipeline\n",
    "from pyspark.ml.regression import RandomForestRegressor\n",
    "from pyspark.ml.feature import VectorAssembler, MinMaxScaler\n",
    "from pyspark.ml.evaluation import RegressionEvaluator\n",
    "\n",
    "\n",
    "# Create vector assembler for input columns\n",
    "assembler_washer = VectorAssembler(inputCols=input_cols['washer'], outputCol='features')\n",
    "\n",
    "# Create scaler\n",
    "scaler_washer = MinMaxScaler(inputCol='features', outputCol='scaled_features')\n",
    "\n",
    "# Create random forest regressor\n",
    "rf_washer = RandomForestRegressor(featuresCol='scaled_features', labelCol=output_cols['washer'], numTrees=50, maxDepth=10)\n",
    "\n",
    "# Create pipeline\n",
    "pipeline_washer = Pipeline(stages=[assembler_washer, scaler_washer, rf_washer])\n",
    "\n",
    "# Fit pipeline on train data\n",
    "pipeline_model_washer = pipeline_washer.fit(washer_train)\n",
    "\n",
    "# Make predictions on test data\n",
    "predictions_washer = pipeline_model_washer.transform(washer_test)\n",
    "\n",
    "# Evaluate the model on the predicted column\n",
    "evaluator_mse_washer = RegressionEvaluator(labelCol=output_cols['washer'], predictionCol='prediction', metricName='mse')\n",
    "mse_washer = evaluator_mse_washer.evaluate(predictions_washer)\n",
    "\n",
    "evaluator_rmse_washer = RegressionEvaluator(labelCol=output_cols['washer'], predictionCol='prediction', metricName='rmse')\n",
    "rmse_washer = evaluator_rmse_washer.evaluate(predictions_washer)\n",
    "\n",
    "evaluator_mae_washer = RegressionEvaluator(labelCol=output_cols['washer'], predictionCol='prediction', metricName='mae')\n",
    "mae_washer = evaluator_mae_washer.evaluate(predictions_washer)\n",
    "\n",
    "evaluator_r2_washer = RegressionEvaluator(labelCol=output_cols['washer'], predictionCol='prediction', metricName='r2')\n",
    "r2_washer = evaluator_r2_washer.evaluate(predictions_washer)\n",
    "\n",
    "mean_actual = predictions_washer.selectExpr(f\"avg({output_cols['washer']}) as mean_actual\").collect()[0][\"mean_actual\"]\n",
    "rmae_washer = mae_washer / mean_actual\n",
    "\n",
    "# Store the evaluation results\n",
    "evaluation_results['washer'] = {'MSE': mse_washer, 'RMSE': rmse_washer, 'MAE': mae_washer, 'R2': r2_washer, 'RMAE': rmae_washer}\n",
    "\n",
    "# Print the evaluation metrics\n",
    "print(\"Metrics for washer:\")\n",
    "print(\"MSE:\", mse_washer)\n",
    "print(\"RMSE:\", rmse_washer)\n",
    "print(\"MAE:\", mae_washer)\n",
    "print(\"R2:\", r2_washer)\n",
    "print(\"RMAE:\", rmae_washer)\n"
   ]
  },
  {
   "cell_type": "code",
   "execution_count": 17,
   "id": "fdf7eea5-a710-407e-8873-5c26aab30666",
   "metadata": {
    "execution": {
     "iopub.execute_input": "2023-08-14T23:23:33.672947Z",
     "iopub.status.busy": "2023-08-14T23:23:33.671163Z",
     "iopub.status.idle": "2023-08-14T23:23:39.571151Z",
     "shell.execute_reply": "2023-08-14T23:23:39.570685Z",
     "shell.execute_reply.started": "2023-08-14T23:23:33.672813Z"
    },
    "tags": []
   },
   "outputs": [
    {
     "name": "stderr",
     "output_type": "stream",
     "text": [
      "23/08/15 02:23:33 WARN TaskSetManager: Stage 234 contains a task of very large size (7657 KiB). The maximum recommended task size is 1000 KiB.\n",
      "23/08/15 02:23:34 WARN TaskSetManager: Stage 235 contains a task of very large size (2550 KiB). The maximum recommended task size is 1000 KiB.\n",
      "23/08/15 02:23:35 WARN TaskSetManager: Stage 239 contains a task of very large size (7657 KiB). The maximum recommended task size is 1000 KiB.\n",
      "23/08/15 02:23:36 WARN TaskSetManager: Stage 240 contains a task of very large size (2550 KiB). The maximum recommended task size is 1000 KiB.\n",
      "23/08/15 02:23:37 WARN TaskSetManager: Stage 244 contains a task of very large size (7657 KiB). The maximum recommended task size is 1000 KiB.\n",
      "23/08/15 02:23:38 WARN TaskSetManager: Stage 245 contains a task of very large size (2550 KiB). The maximum recommended task size is 1000 KiB.\n",
      "                                                                                \r"
     ]
    },
    {
     "data": {
      "image/png": "[encoded data removed]",
      "text/plain": [
       "<Figure size 1200x600 with 1 Axes>"
      ]
     },
     "metadata": {},
     "output_type": "display_data"
    }
   ],
   "source": [
    "import matplotlib.pyplot as plt\n",
    "\n",
    "# Extract the actual values and predicted values from the predictions DataFrame\n",
    "actual_values = predictions_washer.select(output_cols['washer']).collect()\n",
    "predicted_values = predictions_washer.select('prediction').collect()\n",
    "\n",
    "\n",
    "timestamps = washer_test.select('TIMESTAMP').collect()\n",
    "\n",
    "\n",
    "timestamps = [row['TIMESTAMP'] for row in timestamps]\n",
    "actual_values = [row[output_cols['washer']] for row in actual_values]\n",
    "predicted_values = [row['prediction'] for row in predicted_values]\n",
    "\n",
    "\n",
    "background_color = 'indigo'\n",
    "actual_color = 'orange'\n",
    "predicted_color = 'green'\n",
    "\n",
    "\n",
    "plt.figure(figsize=(12, 6))\n",
    "plt.gca().set_facecolor(background_color)\n",
    "\n",
    "\n",
    "plt.plot(timestamps, actual_values, label='Actual', color=actual_color)\n",
    "plt.plot(timestamps, predicted_values, label='Predicted', color=predicted_color)\n",
    "\n",
    "\n",
    "plt.xlabel('Timestamp')\n",
    "plt.ylabel('Power')\n",
    "plt.title('washer Power: Actual vs Predicted')\n",
    "plt.legend()\n",
    "\n",
    "\n",
    "plt.show()\n"
   ]
  },
  {
   "cell_type": "code",
   "execution_count": null,
   "id": "57692c85-33a2-4e7f-bfa7-6b3c000a5160",
   "metadata": {},
   "outputs": [],
   "source": []
  },
  {
   "cell_type": "code",
   "execution_count": 13,
   "id": "613553a0-d19c-4164-9387-33985eb5d727",
   "metadata": {
    "execution": {
     "iopub.execute_input": "2023-08-14T23:28:26.652856Z",
     "iopub.status.busy": "2023-08-14T23:28:26.652096Z",
     "iopub.status.idle": "2023-08-14T23:29:11.568175Z",
     "shell.execute_reply": "2023-08-14T23:29:11.567539Z",
     "shell.execute_reply.started": "2023-08-14T23:28:26.652806Z"
    },
    "tags": []
   },
   "outputs": [
    {
     "name": "stderr",
     "output_type": "stream",
     "text": [
      "23/08/15 02:28:27 WARN TaskSetManager: Stage 31 contains a task of very large size (7657 KiB). The maximum recommended task size is 1000 KiB.\n",
      "23/08/15 02:28:27 WARN TaskSetManager: Stage 32 contains a task of very large size (1829 KiB). The maximum recommended task size is 1000 KiB.\n",
      "23/08/15 02:28:32 WARN TaskSetManager: Stage 40 contains a task of very large size (7657 KiB). The maximum recommended task size is 1000 KiB.\n",
      "23/08/15 02:28:33 WARN TaskSetManager: Stage 41 contains a task of very large size (1829 KiB). The maximum recommended task size is 1000 KiB.\n",
      "WARNING: An illegal reflective access operation has occurred                    \n",
      "WARNING: Illegal reflective access by org.apache.spark.util.SizeEstimator$ (file:/opt/miniconda3/envs/nilmenv/lib/python3.8/site-packages/pyspark/jars/spark-core_2.12-3.4.0.jar) to field java.nio.charset.Charset.name\n",
      "WARNING: Please consider reporting this to the maintainers of org.apache.spark.util.SizeEstimator$\n",
      "WARNING: Use --illegal-access=warn to enable warnings of further illegal reflective access operations\n",
      "WARNING: All illegal access operations will be denied in a future release\n",
      "23/08/15 02:28:49 WARN TaskSetManager: Stage 92 contains a task of very large size (7657 KiB). The maximum recommended task size is 1000 KiB.\n",
      "23/08/15 02:28:50 WARN TaskSetManager: Stage 93 contains a task of very large size (1829 KiB). The maximum recommended task size is 1000 KiB.\n",
      "23/08/15 02:28:52 WARN TaskSetManager: Stage 98 contains a task of very large size (7657 KiB). The maximum recommended task size is 1000 KiB.\n",
      "23/08/15 02:28:53 WARN TaskSetManager: Stage 99 contains a task of very large size (1829 KiB). The maximum recommended task size is 1000 KiB.\n",
      "23/08/15 02:28:54 WARN TaskSetManager: Stage 104 contains a task of very large size (7657 KiB). The maximum recommended task size is 1000 KiB.\n",
      "23/08/15 02:28:55 WARN TaskSetManager: Stage 105 contains a task of very large size (1829 KiB). The maximum recommended task size is 1000 KiB.\n",
      "23/08/15 02:28:57 WARN TaskSetManager: Stage 110 contains a task of very large size (7657 KiB). The maximum recommended task size is 1000 KiB.\n",
      "23/08/15 02:28:57 WARN TaskSetManager: Stage 111 contains a task of very large size (1829 KiB). The maximum recommended task size is 1000 KiB.\n",
      "23/08/15 02:29:00 WARN TaskSetManager: Stage 116 contains a task of very large size (7657 KiB). The maximum recommended task size is 1000 KiB.\n",
      "23/08/15 02:29:01 WARN TaskSetManager: Stage 117 contains a task of very large size (1829 KiB). The maximum recommended task size is 1000 KiB.\n",
      "23/08/15 02:29:04 WARN TaskSetManager: Stage 125 contains a task of very large size (7657 KiB). The maximum recommended task size is 1000 KiB.\n"
     ]
    },
    {
     "name": "stdout",
     "output_type": "stream",
     "text": [
      "Metrics for sockets:\n",
      "MSE: 3.606754855339286\n",
      "RMSE: 1.899145822557943\n",
      "MAE: 1.439777625833215\n",
      "R2: 0.0569269068841437\n",
      "RMAE: 0.06737170660395259\n"
     ]
    },
    {
     "name": "stderr",
     "output_type": "stream",
     "text": [
      "23/08/15 02:29:05 WARN TaskSetManager: Stage 126 contains a task of very large size (1829 KiB). The maximum recommended task size is 1000 KiB.\n",
      "23/08/15 02:29:07 WARN TaskSetManager: Stage 130 contains a task of very large size (7657 KiB). The maximum recommended task size is 1000 KiB.\n",
      "23/08/15 02:29:08 WARN TaskSetManager: Stage 131 contains a task of very large size (1829 KiB). The maximum recommended task size is 1000 KiB.\n",
      "23/08/15 02:29:10 WARN TaskSetManager: Stage 135 contains a task of very large size (7657 KiB). The maximum recommended task size is 1000 KiB.\n",
      "23/08/15 02:29:10 ERROR Executor: Exception in task 1.0 in stage 135.0 (TID 500)\n",
      "java.net.SocketException: No buffer space available (Write failed)\n",
      "\tat java.base/java.net.SocketOutputStream.socketWrite0(Native Method)\n",
      "\tat java.base/java.net.SocketOutputStream.socketWrite(SocketOutputStream.java:110)\n",
      "\tat java.base/java.net.SocketOutputStream.write(SocketOutputStream.java:150)\n",
      "\tat java.base/java.io.BufferedOutputStream.flushBuffer(BufferedOutputStream.java:81)\n",
      "\tat java.base/java.io.BufferedOutputStream.write(BufferedOutputStream.java:127)\n",
      "\tat java.base/java.io.DataOutputStream.write(DataOutputStream.java:107)\n",
      "\tat java.base/java.io.FilterOutputStream.write(FilterOutputStream.java:108)\n",
      "\tat org.apache.spark.api.python.PythonRDD$.write$1(PythonRDD.scala:308)\n",
      "\tat org.apache.spark.api.python.PythonRDD$.$anonfun$writeIteratorToStream$1(PythonRDD.scala:320)\n",
      "\tat org.apache.spark.api.python.PythonRDD$.$anonfun$writeIteratorToStream$1$adapted(PythonRDD.scala:320)\n",
      "\tat scala.collection.Iterator.foreach(Iterator.scala:943)\n",
      "\tat scala.collection.Iterator.foreach$(Iterator.scala:943)\n",
      "\tat org.apache.spark.InterruptibleIterator.foreach(InterruptibleIterator.scala:28)\n",
      "\tat org.apache.spark.api.python.PythonRDD$.writeIteratorToStream(PythonRDD.scala:320)\n",
      "\tat org.apache.spark.api.python.PythonRunner$$anon$2.writeIteratorToStream(PythonRunner.scala:734)\n",
      "\tat org.apache.spark.api.python.BasePythonRunner$WriterThread.$anonfun$run$1(PythonRunner.scala:440)\n",
      "\tat org.apache.spark.util.Utils$.logUncaughtExceptions(Utils.scala:2088)\n",
      "\tat org.apache.spark.api.python.BasePythonRunner$WriterThread.run(PythonRunner.scala:274)\n",
      "23/08/15 02:29:10 ERROR Executor: Exception in task 2.0 in stage 135.0 (TID 501)\n",
      "java.net.SocketException: No buffer space available (Write failed)\n",
      "\tat java.base/java.net.SocketOutputStream.socketWrite0(Native Method)\n",
      "\tat java.base/java.net.SocketOutputStream.socketWrite(SocketOutputStream.java:110)\n",
      "\tat java.base/java.net.SocketOutputStream.write(SocketOutputStream.java:150)\n",
      "\tat java.base/java.io.BufferedOutputStream.flushBuffer(BufferedOutputStream.java:81)\n",
      "\tat java.base/java.io.BufferedOutputStream.write(BufferedOutputStream.java:127)\n",
      "\tat java.base/java.io.DataOutputStream.write(DataOutputStream.java:107)\n",
      "\tat java.base/java.io.FilterOutputStream.write(FilterOutputStream.java:108)\n",
      "\tat org.apache.spark.api.python.PythonRDD$.write$1(PythonRDD.scala:308)\n",
      "\tat org.apache.spark.api.python.PythonRDD$.$anonfun$writeIteratorToStream$1(PythonRDD.scala:320)\n",
      "\tat org.apache.spark.api.python.PythonRDD$.$anonfun$writeIteratorToStream$1$adapted(PythonRDD.scala:320)\n",
      "\tat scala.collection.Iterator.foreach(Iterator.scala:943)\n",
      "\tat scala.collection.Iterator.foreach$(Iterator.scala:943)\n",
      "\tat org.apache.spark.InterruptibleIterator.foreach(InterruptibleIterator.scala:28)\n",
      "\tat org.apache.spark.api.python.PythonRDD$.writeIteratorToStream(PythonRDD.scala:320)\n",
      "\tat org.apache.spark.api.python.PythonRunner$$anon$2.writeIteratorToStream(PythonRunner.scala:734)\n",
      "\tat org.apache.spark.api.python.BasePythonRunner$WriterThread.$anonfun$run$1(PythonRunner.scala:440)\n",
      "\tat org.apache.spark.util.Utils$.logUncaughtExceptions(Utils.scala:2088)\n",
      "\tat org.apache.spark.api.python.BasePythonRunner$WriterThread.run(PythonRunner.scala:274)\n",
      "23/08/15 02:29:10 ERROR Executor: Exception in task 0.0 in stage 135.0 (TID 499)\n",
      "java.net.SocketException: No buffer space available (Write failed)\n",
      "\tat java.base/java.net.SocketOutputStream.socketWrite0(Native Method)\n",
      "\tat java.base/java.net.SocketOutputStream.socketWrite(SocketOutputStream.java:110)\n",
      "\tat java.base/java.net.SocketOutputStream.write(SocketOutputStream.java:150)\n",
      "\tat java.base/java.io.BufferedOutputStream.flushBuffer(BufferedOutputStream.java:81)\n",
      "\tat java.base/java.io.BufferedOutputStream.write(BufferedOutputStream.java:127)\n",
      "\tat java.base/java.io.DataOutputStream.write(DataOutputStream.java:107)\n",
      "\tat java.base/java.io.FilterOutputStream.write(FilterOutputStream.java:108)\n",
      "\tat org.apache.spark.api.python.PythonRDD$.write$1(PythonRDD.scala:308)\n",
      "\tat org.apache.spark.api.python.PythonRDD$.$anonfun$writeIteratorToStream$1(PythonRDD.scala:320)\n",
      "\tat org.apache.spark.api.python.PythonRDD$.$anonfun$writeIteratorToStream$1$adapted(PythonRDD.scala:320)\n",
      "\tat scala.collection.Iterator.foreach(Iterator.scala:943)\n",
      "\tat scala.collection.Iterator.foreach$(Iterator.scala:943)\n",
      "\tat org.apache.spark.InterruptibleIterator.foreach(InterruptibleIterator.scala:28)\n",
      "\tat org.apache.spark.api.python.PythonRDD$.writeIteratorToStream(PythonRDD.scala:320)\n",
      "\tat org.apache.spark.api.python.PythonRunner$$anon$2.writeIteratorToStream(PythonRunner.scala:734)\n",
      "\tat org.apache.spark.api.python.BasePythonRunner$WriterThread.$anonfun$run$1(PythonRunner.scala:440)\n",
      "\tat org.apache.spark.util.Utils$.logUncaughtExceptions(Utils.scala:2088)\n",
      "\tat org.apache.spark.api.python.BasePythonRunner$WriterThread.run(PythonRunner.scala:274)\n",
      "23/08/15 02:29:10 WARN TaskSetManager: Stage 136 contains a task of very large size (1829 KiB). The maximum recommended task size is 1000 KiB.\n",
      "23/08/15 02:29:10 WARN TaskSetManager: Lost task 1.0 in stage 135.0 (TID 500) (192.168.2.2 executor driver): java.net.SocketException: No buffer space available (Write failed)\n",
      "\tat java.base/java.net.SocketOutputStream.socketWrite0(Native Method)\n",
      "\tat java.base/java.net.SocketOutputStream.socketWrite(SocketOutputStream.java:110)\n",
      "\tat java.base/java.net.SocketOutputStream.write(SocketOutputStream.java:150)\n",
      "\tat java.base/java.io.BufferedOutputStream.flushBuffer(BufferedOutputStream.java:81)\n",
      "\tat java.base/java.io.BufferedOutputStream.write(BufferedOutputStream.java:127)\n",
      "\tat java.base/java.io.DataOutputStream.write(DataOutputStream.java:107)\n",
      "\tat java.base/java.io.FilterOutputStream.write(FilterOutputStream.java:108)\n",
      "\tat org.apache.spark.api.python.PythonRDD$.write$1(PythonRDD.scala:308)\n",
      "\tat org.apache.spark.api.python.PythonRDD$.$anonfun$writeIteratorToStream$1(PythonRDD.scala:320)\n",
      "\tat org.apache.spark.api.python.PythonRDD$.$anonfun$writeIteratorToStream$1$adapted(PythonRDD.scala:320)\n",
      "\tat scala.collection.Iterator.foreach(Iterator.scala:943)\n",
      "\tat scala.collection.Iterator.foreach$(Iterator.scala:943)\n",
      "\tat org.apache.spark.InterruptibleIterator.foreach(InterruptibleIterator.scala:28)\n",
      "\tat org.apache.spark.api.python.PythonRDD$.writeIteratorToStream(PythonRDD.scala:320)\n",
      "\tat org.apache.spark.api.python.PythonRunner$$anon$2.writeIteratorToStream(PythonRunner.scala:734)\n",
      "\tat org.apache.spark.api.python.BasePythonRunner$WriterThread.$anonfun$run$1(PythonRunner.scala:440)\n",
      "\tat org.apache.spark.util.Utils$.logUncaughtExceptions(Utils.scala:2088)\n",
      "\tat org.apache.spark.api.python.BasePythonRunner$WriterThread.run(PythonRunner.scala:274)\n",
      "\n",
      "23/08/15 02:29:10 ERROR TaskSetManager: Task 1 in stage 135.0 failed 1 times; aborting job\n",
      "23/08/15 02:29:10 WARN TaskSetManager: Lost task 7.0 in stage 135.0 (TID 506) (192.168.2.2 executor driver): TaskKilled (Stage cancelled)\n",
      "23/08/15 02:29:10 WARN TaskSetManager: Lost task 4.0 in stage 135.0 (TID 503) (192.168.2.2 executor driver): TaskKilled (Stage cancelled)\n",
      "23/08/15 02:29:10 WARN TaskSetManager: Lost task 3.0 in stage 135.0 (TID 502) (192.168.2.2 executor driver): TaskKilled (Stage cancelled)\n",
      "23/08/15 02:29:10 WARN TaskSetManager: Lost task 0.0 in stage 136.0 (TID 507) (192.168.2.2 executor driver): TaskKilled (Stage cancelled)\n",
      "23/08/15 02:29:10 WARN TaskSetManager: Lost task 5.0 in stage 135.0 (TID 504) (192.168.2.2 executor driver): TaskKilled (Stage cancelled)\n",
      "23/08/15 02:29:10 WARN TaskSetManager: Lost task 6.0 in stage 135.0 (TID 505) (192.168.2.2 executor driver): TaskKilled (Stage cancelled)\n",
      "23/08/15 02:29:10 WARN TaskSetManager: Lost task 2.0 in stage 136.0 (TID 509) (192.168.2.2 executor driver): TaskKilled (Stage cancelled)\n",
      "23/08/15 02:29:10 WARN TaskSetManager: Lost task 1.0 in stage 136.0 (TID 508) (192.168.2.2 executor driver): TaskKilled (Stage cancelled)\n",
      "23/08/15 02:29:10 WARN TaskSetManager: Lost task 3.0 in stage 136.0 (TID 510) (192.168.2.2 executor driver): TaskKilled (Stage cancelled)\n"
     ]
    },
    {
     "ename": "Py4JJavaError",
     "evalue": "An error occurred while calling o755.collectToPython.\n: org.apache.spark.SparkException: Job aborted due to stage failure: Task 1 in stage 135.0 failed 1 times, most recent failure: Lost task 1.0 in stage 135.0 (TID 500) (192.168.2.2 executor driver): java.net.SocketException: No buffer space available (Write failed)\n\tat java.base/java.net.SocketOutputStream.socketWrite0(Native Method)\n\tat java.base/java.net.SocketOutputStream.socketWrite(SocketOutputStream.java:110)\n\tat java.base/java.net.SocketOutputStream.write(SocketOutputStream.java:150)\n\tat java.base/java.io.BufferedOutputStream.flushBuffer(BufferedOutputStream.java:81)\n\tat java.base/java.io.BufferedOutputStream.write(BufferedOutputStream.java:127)\n\tat java.base/java.io.DataOutputStream.write(DataOutputStream.java:107)\n\tat java.base/java.io.FilterOutputStream.write(FilterOutputStream.java:108)\n\tat org.apache.spark.api.python.PythonRDD$.write$1(PythonRDD.scala:308)\n\tat org.apache.spark.api.python.PythonRDD$.$anonfun$writeIteratorToStream$1(PythonRDD.scala:320)\n\tat org.apache.spark.api.python.PythonRDD$.$anonfun$writeIteratorToStream$1$adapted(PythonRDD.scala:320)\n\tat scala.collection.Iterator.foreach(Iterator.scala:943)\n\tat scala.collection.Iterator.foreach$(Iterator.scala:943)\n\tat org.apache.spark.InterruptibleIterator.foreach(InterruptibleIterator.scala:28)\n\tat org.apache.spark.api.python.PythonRDD$.writeIteratorToStream(PythonRDD.scala:320)\n\tat org.apache.spark.api.python.PythonRunner$$anon$2.writeIteratorToStream(PythonRunner.scala:734)\n\tat org.apache.spark.api.python.BasePythonRunner$WriterThread.$anonfun$run$1(PythonRunner.scala:440)\n\tat org.apache.spark.util.Utils$.logUncaughtExceptions(Utils.scala:2088)\n\tat org.apache.spark.api.python.BasePythonRunner$WriterThread.run(PythonRunner.scala:274)\n\nDriver stacktrace:\n\tat org.apache.spark.scheduler.DAGScheduler.failJobAndIndependentStages(DAGScheduler.scala:2785)\n\tat org.apache.spark.scheduler.DAGScheduler.$anonfun$abortStage$2(DAGScheduler.scala:2721)\n\tat org.apache.spark.scheduler.DAGScheduler.$anonfun$abortStage$2$adapted(DAGScheduler.scala:2720)\n\tat scala.collection.mutable.ResizableArray.foreach(ResizableArray.scala:62)\n\tat scala.collection.mutable.ResizableArray.foreach$(ResizableArray.scala:55)\n\tat scala.collection.mutable.ArrayBuffer.foreach(ArrayBuffer.scala:49)\n\tat org.apache.spark.scheduler.DAGScheduler.abortStage(DAGScheduler.scala:2720)\n\tat org.apache.spark.scheduler.DAGScheduler.$anonfun$handleTaskSetFailed$1(DAGScheduler.scala:1206)\n\tat org.apache.spark.scheduler.DAGScheduler.$anonfun$handleTaskSetFailed$1$adapted(DAGScheduler.scala:1206)\n\tat scala.Option.foreach(Option.scala:407)\n\tat org.apache.spark.scheduler.DAGScheduler.handleTaskSetFailed(DAGScheduler.scala:1206)\n\tat org.apache.spark.scheduler.DAGSchedulerEventProcessLoop.doOnReceive(DAGScheduler.scala:2984)\n\tat org.apache.spark.scheduler.DAGSchedulerEventProcessLoop.onReceive(DAGScheduler.scala:2923)\n\tat org.apache.spark.scheduler.DAGSchedulerEventProcessLoop.onReceive(DAGScheduler.scala:2912)\n\tat org.apache.spark.util.EventLoop$$anon$1.run(EventLoop.scala:49)\nCaused by: java.net.SocketException: No buffer space available (Write failed)\n\tat java.base/java.net.SocketOutputStream.socketWrite0(Native Method)\n\tat java.base/java.net.SocketOutputStream.socketWrite(SocketOutputStream.java:110)\n\tat java.base/java.net.SocketOutputStream.write(SocketOutputStream.java:150)\n\tat java.base/java.io.BufferedOutputStream.flushBuffer(BufferedOutputStream.java:81)\n\tat java.base/java.io.BufferedOutputStream.write(BufferedOutputStream.java:127)\n\tat java.base/java.io.DataOutputStream.write(DataOutputStream.java:107)\n\tat java.base/java.io.FilterOutputStream.write(FilterOutputStream.java:108)\n\tat org.apache.spark.api.python.PythonRDD$.write$1(PythonRDD.scala:308)\n\tat org.apache.spark.api.python.PythonRDD$.$anonfun$writeIteratorToStream$1(PythonRDD.scala:320)\n\tat org.apache.spark.api.python.PythonRDD$.$anonfun$writeIteratorToStream$1$adapted(PythonRDD.scala:320)\n\tat scala.collection.Iterator.foreach(Iterator.scala:943)\n\tat scala.collection.Iterator.foreach$(Iterator.scala:943)\n\tat org.apache.spark.InterruptibleIterator.foreach(InterruptibleIterator.scala:28)\n\tat org.apache.spark.api.python.PythonRDD$.writeIteratorToStream(PythonRDD.scala:320)\n\tat org.apache.spark.api.python.PythonRunner$$anon$2.writeIteratorToStream(PythonRunner.scala:734)\n\tat org.apache.spark.api.python.BasePythonRunner$WriterThread.$anonfun$run$1(PythonRunner.scala:440)\n\tat org.apache.spark.util.Utils$.logUncaughtExceptions(Utils.scala:2088)\n\tat org.apache.spark.api.python.BasePythonRunner$WriterThread.run(PythonRunner.scala:274)\n",
     "output_type": "error",
     "traceback": [
      "\u001b[0;31m---------------------------------------------------------------------------\u001b[0m",
      "\u001b[0;31mPy4JJavaError\u001b[0m                             Traceback (most recent call last)",
      "Cell \u001b[0;32mIn[13], line 60\u001b[0m\n\u001b[1;32m     56\u001b[0m actual_values \u001b[38;5;241m=\u001b[39m predictions_sockets\u001b[38;5;241m.\u001b[39mselect(output_cols[\u001b[38;5;124m'\u001b[39m\u001b[38;5;124msockets\u001b[39m\u001b[38;5;124m'\u001b[39m])\u001b[38;5;241m.\u001b[39mcollect()\n\u001b[1;32m     57\u001b[0m predicted_values \u001b[38;5;241m=\u001b[39m predictions_sockets\u001b[38;5;241m.\u001b[39mselect(\u001b[38;5;124m'\u001b[39m\u001b[38;5;124mprediction\u001b[39m\u001b[38;5;124m'\u001b[39m)\u001b[38;5;241m.\u001b[39mcollect()\n\u001b[0;32m---> 60\u001b[0m timestamps \u001b[38;5;241m=\u001b[39m \u001b[43msockets_test\u001b[49m\u001b[38;5;241;43m.\u001b[39;49m\u001b[43mselect\u001b[49m\u001b[43m(\u001b[49m\u001b[38;5;124;43m'\u001b[39;49m\u001b[38;5;124;43mTIMESTAMP\u001b[39;49m\u001b[38;5;124;43m'\u001b[39;49m\u001b[43m)\u001b[49m\u001b[38;5;241;43m.\u001b[39;49m\u001b[43mcollect\u001b[49m\u001b[43m(\u001b[49m\u001b[43m)\u001b[49m\n\u001b[1;32m     63\u001b[0m timestamps \u001b[38;5;241m=\u001b[39m [row[\u001b[38;5;124m'\u001b[39m\u001b[38;5;124mTIMESTAMP\u001b[39m\u001b[38;5;124m'\u001b[39m] \u001b[38;5;28;01mfor\u001b[39;00m row \u001b[38;5;129;01min\u001b[39;00m timestamps]\n\u001b[1;32m     64\u001b[0m actual_values \u001b[38;5;241m=\u001b[39m [row[output_cols[\u001b[38;5;124m'\u001b[39m\u001b[38;5;124msockets\u001b[39m\u001b[38;5;124m'\u001b[39m]] \u001b[38;5;28;01mfor\u001b[39;00m row \u001b[38;5;129;01min\u001b[39;00m actual_values]\n",
      "File \u001b[0;32m/opt/miniconda3/envs/nilmenv/lib/python3.8/site-packages/pyspark/sql/dataframe.py:1216\u001b[0m, in \u001b[0;36mDataFrame.collect\u001b[0;34m(self)\u001b[0m\n\u001b[1;32m   1196\u001b[0m \u001b[38;5;250m\u001b[39m\u001b[38;5;124;03m\"\"\"Returns all the records as a list of :class:`Row`.\u001b[39;00m\n\u001b[1;32m   1197\u001b[0m \n\u001b[1;32m   1198\u001b[0m \u001b[38;5;124;03m.. versionadded:: 1.3.0\u001b[39;00m\n\u001b[0;32m   (...)\u001b[0m\n\u001b[1;32m   1213\u001b[0m \u001b[38;5;124;03m[Row(age=14, name='Tom'), Row(age=23, name='Alice'), Row(age=16, name='Bob')]\u001b[39;00m\n\u001b[1;32m   1214\u001b[0m \u001b[38;5;124;03m\"\"\"\u001b[39;00m\n\u001b[1;32m   1215\u001b[0m \u001b[38;5;28;01mwith\u001b[39;00m SCCallSiteSync(\u001b[38;5;28mself\u001b[39m\u001b[38;5;241m.\u001b[39m_sc):\n\u001b[0;32m-> 1216\u001b[0m     sock_info \u001b[38;5;241m=\u001b[39m \u001b[38;5;28;43mself\u001b[39;49m\u001b[38;5;241;43m.\u001b[39;49m\u001b[43m_jdf\u001b[49m\u001b[38;5;241;43m.\u001b[39;49m\u001b[43mcollectToPython\u001b[49m\u001b[43m(\u001b[49m\u001b[43m)\u001b[49m\n\u001b[1;32m   1217\u001b[0m \u001b[38;5;28;01mreturn\u001b[39;00m \u001b[38;5;28mlist\u001b[39m(_load_from_socket(sock_info, BatchedSerializer(CPickleSerializer())))\n",
      "File \u001b[0;32m/opt/miniconda3/envs/nilmenv/lib/python3.8/site-packages/py4j/java_gateway.py:1322\u001b[0m, in \u001b[0;36mJavaMember.__call__\u001b[0;34m(self, *args)\u001b[0m\n\u001b[1;32m   1316\u001b[0m command \u001b[38;5;241m=\u001b[39m proto\u001b[38;5;241m.\u001b[39mCALL_COMMAND_NAME \u001b[38;5;241m+\u001b[39m\\\n\u001b[1;32m   1317\u001b[0m     \u001b[38;5;28mself\u001b[39m\u001b[38;5;241m.\u001b[39mcommand_header \u001b[38;5;241m+\u001b[39m\\\n\u001b[1;32m   1318\u001b[0m     args_command \u001b[38;5;241m+\u001b[39m\\\n\u001b[1;32m   1319\u001b[0m     proto\u001b[38;5;241m.\u001b[39mEND_COMMAND_PART\n\u001b[1;32m   1321\u001b[0m answer \u001b[38;5;241m=\u001b[39m \u001b[38;5;28mself\u001b[39m\u001b[38;5;241m.\u001b[39mgateway_client\u001b[38;5;241m.\u001b[39msend_command(command)\n\u001b[0;32m-> 1322\u001b[0m return_value \u001b[38;5;241m=\u001b[39m \u001b[43mget_return_value\u001b[49m\u001b[43m(\u001b[49m\n\u001b[1;32m   1323\u001b[0m \u001b[43m    \u001b[49m\u001b[43manswer\u001b[49m\u001b[43m,\u001b[49m\u001b[43m \u001b[49m\u001b[38;5;28;43mself\u001b[39;49m\u001b[38;5;241;43m.\u001b[39;49m\u001b[43mgateway_client\u001b[49m\u001b[43m,\u001b[49m\u001b[43m \u001b[49m\u001b[38;5;28;43mself\u001b[39;49m\u001b[38;5;241;43m.\u001b[39;49m\u001b[43mtarget_id\u001b[49m\u001b[43m,\u001b[49m\u001b[43m \u001b[49m\u001b[38;5;28;43mself\u001b[39;49m\u001b[38;5;241;43m.\u001b[39;49m\u001b[43mname\u001b[49m\u001b[43m)\u001b[49m\n\u001b[1;32m   1325\u001b[0m \u001b[38;5;28;01mfor\u001b[39;00m temp_arg \u001b[38;5;129;01min\u001b[39;00m temp_args:\n\u001b[1;32m   1326\u001b[0m     \u001b[38;5;28;01mif\u001b[39;00m \u001b[38;5;28mhasattr\u001b[39m(temp_arg, \u001b[38;5;124m\"\u001b[39m\u001b[38;5;124m_detach\u001b[39m\u001b[38;5;124m\"\u001b[39m):\n",
      "File \u001b[0;32m/opt/miniconda3/envs/nilmenv/lib/python3.8/site-packages/pyspark/errors/exceptions/captured.py:169\u001b[0m, in \u001b[0;36mcapture_sql_exception.<locals>.deco\u001b[0;34m(*a, **kw)\u001b[0m\n\u001b[1;32m    167\u001b[0m \u001b[38;5;28;01mdef\u001b[39;00m \u001b[38;5;21mdeco\u001b[39m(\u001b[38;5;241m*\u001b[39ma: Any, \u001b[38;5;241m*\u001b[39m\u001b[38;5;241m*\u001b[39mkw: Any) \u001b[38;5;241m-\u001b[39m\u001b[38;5;241m>\u001b[39m Any:\n\u001b[1;32m    168\u001b[0m     \u001b[38;5;28;01mtry\u001b[39;00m:\n\u001b[0;32m--> 169\u001b[0m         \u001b[38;5;28;01mreturn\u001b[39;00m \u001b[43mf\u001b[49m\u001b[43m(\u001b[49m\u001b[38;5;241;43m*\u001b[39;49m\u001b[43ma\u001b[49m\u001b[43m,\u001b[49m\u001b[43m \u001b[49m\u001b[38;5;241;43m*\u001b[39;49m\u001b[38;5;241;43m*\u001b[39;49m\u001b[43mkw\u001b[49m\u001b[43m)\u001b[49m\n\u001b[1;32m    170\u001b[0m     \u001b[38;5;28;01mexcept\u001b[39;00m Py4JJavaError \u001b[38;5;28;01mas\u001b[39;00m e:\n\u001b[1;32m    171\u001b[0m         converted \u001b[38;5;241m=\u001b[39m convert_exception(e\u001b[38;5;241m.\u001b[39mjava_exception)\n",
      "File \u001b[0;32m/opt/miniconda3/envs/nilmenv/lib/python3.8/site-packages/py4j/protocol.py:326\u001b[0m, in \u001b[0;36mget_return_value\u001b[0;34m(answer, gateway_client, target_id, name)\u001b[0m\n\u001b[1;32m    324\u001b[0m value \u001b[38;5;241m=\u001b[39m OUTPUT_CONVERTER[\u001b[38;5;28mtype\u001b[39m](answer[\u001b[38;5;241m2\u001b[39m:], gateway_client)\n\u001b[1;32m    325\u001b[0m \u001b[38;5;28;01mif\u001b[39;00m answer[\u001b[38;5;241m1\u001b[39m] \u001b[38;5;241m==\u001b[39m REFERENCE_TYPE:\n\u001b[0;32m--> 326\u001b[0m     \u001b[38;5;28;01mraise\u001b[39;00m Py4JJavaError(\n\u001b[1;32m    327\u001b[0m         \u001b[38;5;124m\"\u001b[39m\u001b[38;5;124mAn error occurred while calling \u001b[39m\u001b[38;5;132;01m{0}\u001b[39;00m\u001b[38;5;132;01m{1}\u001b[39;00m\u001b[38;5;132;01m{2}\u001b[39;00m\u001b[38;5;124m.\u001b[39m\u001b[38;5;130;01m\\n\u001b[39;00m\u001b[38;5;124m\"\u001b[39m\u001b[38;5;241m.\u001b[39m\n\u001b[1;32m    328\u001b[0m         \u001b[38;5;28mformat\u001b[39m(target_id, \u001b[38;5;124m\"\u001b[39m\u001b[38;5;124m.\u001b[39m\u001b[38;5;124m\"\u001b[39m, name), value)\n\u001b[1;32m    329\u001b[0m \u001b[38;5;28;01melse\u001b[39;00m:\n\u001b[1;32m    330\u001b[0m     \u001b[38;5;28;01mraise\u001b[39;00m Py4JError(\n\u001b[1;32m    331\u001b[0m         \u001b[38;5;124m\"\u001b[39m\u001b[38;5;124mAn error occurred while calling \u001b[39m\u001b[38;5;132;01m{0}\u001b[39;00m\u001b[38;5;132;01m{1}\u001b[39;00m\u001b[38;5;132;01m{2}\u001b[39;00m\u001b[38;5;124m. Trace:\u001b[39m\u001b[38;5;130;01m\\n\u001b[39;00m\u001b[38;5;132;01m{3}\u001b[39;00m\u001b[38;5;130;01m\\n\u001b[39;00m\u001b[38;5;124m\"\u001b[39m\u001b[38;5;241m.\u001b[39m\n\u001b[1;32m    332\u001b[0m         \u001b[38;5;28mformat\u001b[39m(target_id, \u001b[38;5;124m\"\u001b[39m\u001b[38;5;124m.\u001b[39m\u001b[38;5;124m\"\u001b[39m, name, value))\n",
      "\u001b[0;31mPy4JJavaError\u001b[0m: An error occurred while calling o755.collectToPython.\n: org.apache.spark.SparkException: Job aborted due to stage failure: Task 1 in stage 135.0 failed 1 times, most recent failure: Lost task 1.0 in stage 135.0 (TID 500) (192.168.2.2 executor driver): java.net.SocketException: No buffer space available (Write failed)\n\tat java.base/java.net.SocketOutputStream.socketWrite0(Native Method)\n\tat java.base/java.net.SocketOutputStream.socketWrite(SocketOutputStream.java:110)\n\tat java.base/java.net.SocketOutputStream.write(SocketOutputStream.java:150)\n\tat java.base/java.io.BufferedOutputStream.flushBuffer(BufferedOutputStream.java:81)\n\tat java.base/java.io.BufferedOutputStream.write(BufferedOutputStream.java:127)\n\tat java.base/java.io.DataOutputStream.write(DataOutputStream.java:107)\n\tat java.base/java.io.FilterOutputStream.write(FilterOutputStream.java:108)\n\tat org.apache.spark.api.python.PythonRDD$.write$1(PythonRDD.scala:308)\n\tat org.apache.spark.api.python.PythonRDD$.$anonfun$writeIteratorToStream$1(PythonRDD.scala:320)\n\tat org.apache.spark.api.python.PythonRDD$.$anonfun$writeIteratorToStream$1$adapted(PythonRDD.scala:320)\n\tat scala.collection.Iterator.foreach(Iterator.scala:943)\n\tat scala.collection.Iterator.foreach$(Iterator.scala:943)\n\tat org.apache.spark.InterruptibleIterator.foreach(InterruptibleIterator.scala:28)\n\tat org.apache.spark.api.python.PythonRDD$.writeIteratorToStream(PythonRDD.scala:320)\n\tat org.apache.spark.api.python.PythonRunner$$anon$2.writeIteratorToStream(PythonRunner.scala:734)\n\tat org.apache.spark.api.python.BasePythonRunner$WriterThread.$anonfun$run$1(PythonRunner.scala:440)\n\tat org.apache.spark.util.Utils$.logUncaughtExceptions(Utils.scala:2088)\n\tat org.apache.spark.api.python.BasePythonRunner$WriterThread.run(PythonRunner.scala:274)\n\nDriver stacktrace:\n\tat org.apache.spark.scheduler.DAGScheduler.failJobAndIndependentStages(DAGScheduler.scala:2785)\n\tat org.apache.spark.scheduler.DAGScheduler.$anonfun$abortStage$2(DAGScheduler.scala:2721)\n\tat org.apache.spark.scheduler.DAGScheduler.$anonfun$abortStage$2$adapted(DAGScheduler.scala:2720)\n\tat scala.collection.mutable.ResizableArray.foreach(ResizableArray.scala:62)\n\tat scala.collection.mutable.ResizableArray.foreach$(ResizableArray.scala:55)\n\tat scala.collection.mutable.ArrayBuffer.foreach(ArrayBuffer.scala:49)\n\tat org.apache.spark.scheduler.DAGScheduler.abortStage(DAGScheduler.scala:2720)\n\tat org.apache.spark.scheduler.DAGScheduler.$anonfun$handleTaskSetFailed$1(DAGScheduler.scala:1206)\n\tat org.apache.spark.scheduler.DAGScheduler.$anonfun$handleTaskSetFailed$1$adapted(DAGScheduler.scala:1206)\n\tat scala.Option.foreach(Option.scala:407)\n\tat org.apache.spark.scheduler.DAGScheduler.handleTaskSetFailed(DAGScheduler.scala:1206)\n\tat org.apache.spark.scheduler.DAGSchedulerEventProcessLoop.doOnReceive(DAGScheduler.scala:2984)\n\tat org.apache.spark.scheduler.DAGSchedulerEventProcessLoop.onReceive(DAGScheduler.scala:2923)\n\tat org.apache.spark.scheduler.DAGSchedulerEventProcessLoop.onReceive(DAGScheduler.scala:2912)\n\tat org.apache.spark.util.EventLoop$$anon$1.run(EventLoop.scala:49)\nCaused by: java.net.SocketException: No buffer space available (Write failed)\n\tat java.base/java.net.SocketOutputStream.socketWrite0(Native Method)\n\tat java.base/java.net.SocketOutputStream.socketWrite(SocketOutputStream.java:110)\n\tat java.base/java.net.SocketOutputStream.write(SocketOutputStream.java:150)\n\tat java.base/java.io.BufferedOutputStream.flushBuffer(BufferedOutputStream.java:81)\n\tat java.base/java.io.BufferedOutputStream.write(BufferedOutputStream.java:127)\n\tat java.base/java.io.DataOutputStream.write(DataOutputStream.java:107)\n\tat java.base/java.io.FilterOutputStream.write(FilterOutputStream.java:108)\n\tat org.apache.spark.api.python.PythonRDD$.write$1(PythonRDD.scala:308)\n\tat org.apache.spark.api.python.PythonRDD$.$anonfun$writeIteratorToStream$1(PythonRDD.scala:320)\n\tat org.apache.spark.api.python.PythonRDD$.$anonfun$writeIteratorToStream$1$adapted(PythonRDD.scala:320)\n\tat scala.collection.Iterator.foreach(Iterator.scala:943)\n\tat scala.collection.Iterator.foreach$(Iterator.scala:943)\n\tat org.apache.spark.InterruptibleIterator.foreach(InterruptibleIterator.scala:28)\n\tat org.apache.spark.api.python.PythonRDD$.writeIteratorToStream(PythonRDD.scala:320)\n\tat org.apache.spark.api.python.PythonRunner$$anon$2.writeIteratorToStream(PythonRunner.scala:734)\n\tat org.apache.spark.api.python.BasePythonRunner$WriterThread.$anonfun$run$1(PythonRunner.scala:440)\n\tat org.apache.spark.util.Utils$.logUncaughtExceptions(Utils.scala:2088)\n\tat org.apache.spark.api.python.BasePythonRunner$WriterThread.run(PythonRunner.scala:274)\n"
     ]
    }
   ],
   "source": [
    "from pyspark.ml import Pipeline\n",
    "from pyspark.ml.regression import RandomForestRegressor\n",
    "from pyspark.ml.feature import VectorAssembler, MinMaxScaler\n",
    "from pyspark.ml.evaluation import RegressionEvaluator\n",
    "\n",
    "\n",
    "# Create vector assembler for input columns\n",
    "assembler_sockets = VectorAssembler(inputCols=input_cols['sockets'], outputCol='features')\n",
    "\n",
    "# Create scaler\n",
    "scaler_sockets = MinMaxScaler(inputCol='features', outputCol='scaled_features')\n",
    "\n",
    "# Create random forest regressor\n",
    "rf_sockets = RandomForestRegressor(featuresCol='scaled_features', labelCol=output_cols['sockets'], numTrees=50, maxDepth=10)\n",
    "\n",
    "# Create pipeline\n",
    "pipeline_sockets = Pipeline(stages=[assembler_sockets, scaler_sockets, rf_sockets])\n",
    "\n",
    "# Fit pipeline on train data\n",
    "pipeline_model_sockets = pipeline_sockets.fit(sockets_train)\n",
    "\n",
    "# Make predictions on test data\n",
    "predictions_sockets = pipeline_model_sockets.transform(sockets_test)\n",
    "\n",
    "# Evaluate the model on the predicted column\n",
    "evaluator_mse_sockets = RegressionEvaluator(labelCol=output_cols['sockets'], predictionCol='prediction', metricName='mse')\n",
    "mse_sockets = evaluator_mse_sockets.evaluate(predictions_sockets)\n",
    "\n",
    "evaluator_rmse_sockets = RegressionEvaluator(labelCol=output_cols['sockets'], predictionCol='prediction', metricName='rmse')\n",
    "rmse_sockets = evaluator_rmse_sockets.evaluate(predictions_sockets)\n",
    "\n",
    "evaluator_mae_sockets = RegressionEvaluator(labelCol=output_cols['sockets'], predictionCol='prediction', metricName='mae')\n",
    "mae_sockets = evaluator_mae_sockets.evaluate(predictions_sockets)\n",
    "\n",
    "evaluator_r2_sockets = RegressionEvaluator(labelCol=output_cols['sockets'], predictionCol='prediction', metricName='r2')\n",
    "r2_sockets = evaluator_r2_sockets.evaluate(predictions_sockets)\n",
    "\n",
    "mean_actual = predictions_sockets.selectExpr(f\"avg({output_cols['sockets']}) as mean_actual\").collect()[0][\"mean_actual\"]\n",
    "rmae_sockets = mae_sockets / mean_actual\n",
    "\n",
    "# Store the evaluation results\n",
    "evaluation_results['sockets'] = {'MSE': mse_sockets, 'RMSE': rmse_sockets, 'MAE': mae_sockets, 'R2': r2_sockets, 'RMAE': rmae_sockets}\n",
    "\n",
    "# Print the evaluation metrics\n",
    "print(\"Metrics for sockets:\")\n",
    "print(\"MSE:\", mse_sockets)\n",
    "print(\"RMSE:\", rmse_sockets)\n",
    "print(\"MAE:\", mae_sockets)\n",
    "print(\"R2:\", r2_sockets)\n",
    "print(\"RMAE:\", rmae_sockets)\n",
    "\n",
    "\n",
    "import matplotlib.pyplot as plt\n",
    "\n",
    "# Extract the actual values and predicted values from the predictions DataFrame\n",
    "actual_values = predictions_sockets.select(output_cols['sockets']).collect()\n",
    "predicted_values = predictions_sockets.select('prediction').collect()\n",
    "\n",
    "\n",
    "timestamps = sockets_test.select('TIMESTAMP').collect()\n",
    "\n",
    "\n",
    "timestamps = [row['TIMESTAMP'] for row in timestamps]\n",
    "actual_values = [row[output_cols['sockets']] for row in actual_values]\n",
    "predicted_values = [row['prediction'] for row in predicted_values]\n",
    "\n",
    "\n",
    "background_color = 'indigo'\n",
    "actual_color = 'orange'\n",
    "predicted_color = 'green'\n",
    "\n",
    "\n",
    "plt.figure(figsize=(12, 6))\n",
    "plt.gca().set_facecolor(background_color)\n",
    "\n",
    "\n",
    "plt.plot(timestamps, actual_values, label='Actual', color=actual_color)\n",
    "plt.plot(timestamps, predicted_values, label='Predicted', color=predicted_color)\n",
    "\n",
    "\n",
    "plt.xlabel('Timestamp')\n",
    "plt.ylabel('Power')\n",
    "plt.title('sockets Power: Actual vs Predicted')\n",
    "plt.legend()\n",
    "\n",
    "\n",
    "plt.show()\n"
   ]
  },
  {
   "cell_type": "code",
   "execution_count": 14,
   "id": "8dbc7287-8318-4dab-b62b-912d14ef76d2",
   "metadata": {
    "execution": {
     "iopub.execute_input": "2023-08-14T23:29:52.509346Z",
     "iopub.status.busy": "2023-08-14T23:29:52.507690Z",
     "iopub.status.idle": "2023-08-14T23:30:03.190279Z",
     "shell.execute_reply": "2023-08-14T23:30:03.189901Z",
     "shell.execute_reply.started": "2023-08-14T23:29:52.509248Z"
    },
    "tags": []
   },
   "outputs": [
    {
     "name": "stderr",
     "output_type": "stream",
     "text": [
      "23/08/15 02:29:52 WARN TaskSetManager: Stage 137 contains a task of very large size (7657 KiB). The maximum recommended task size is 1000 KiB.\n",
      "23/08/15 02:29:53 WARN TaskSetManager: Stage 138 contains a task of very large size (1829 KiB). The maximum recommended task size is 1000 KiB.\n",
      "23/08/15 02:29:58 WARN TaskSetManager: Stage 142 contains a task of very large size (7657 KiB). The maximum recommended task size is 1000 KiB.\n",
      "23/08/15 02:29:58 WARN TaskSetManager: Stage 143 contains a task of very large size (1829 KiB). The maximum recommended task size is 1000 KiB.\n",
      "23/08/15 02:30:00 WARN TaskSetManager: Stage 147 contains a task of very large size (7657 KiB). The maximum recommended task size is 1000 KiB.\n",
      "23/08/15 02:30:01 WARN TaskSetManager: Stage 148 contains a task of very large size (1829 KiB). The maximum recommended task size is 1000 KiB.\n",
      "                                                                                \r"
     ]
    },
    {
     "data": {
      "image/png": "[encoded data removed]",
      "text/plain": [
       "<Figure size 1200x600 with 1 Axes>"
      ]
     },
     "metadata": {},
     "output_type": "display_data"
    }
   ],
   "source": [
    "import matplotlib.pyplot as plt\n",
    "\n",
    "# Extract the actual values and predicted values from the predictions DataFrame\n",
    "actual_values = predictions_sockets.select(output_cols['sockets']).collect()\n",
    "predicted_values = predictions_sockets.select('prediction').collect()\n",
    "\n",
    "\n",
    "timestamps = sockets_test.select('TIMESTAMP').collect()\n",
    "\n",
    "\n",
    "timestamps = [row['TIMESTAMP'] for row in timestamps]\n",
    "actual_values = [row[output_cols['sockets']] for row in actual_values]\n",
    "predicted_values = [row['prediction'] for row in predicted_values]\n",
    "\n",
    "\n",
    "background_color = 'indigo'\n",
    "actual_color = 'orange'\n",
    "predicted_color = 'green'\n",
    "\n",
    "\n",
    "plt.figure(figsize=(12, 6))\n",
    "plt.gca().set_facecolor(background_color)\n",
    "\n",
    "\n",
    "plt.plot(timestamps, actual_values, label='Actual', color=actual_color)\n",
    "plt.plot(timestamps, predicted_values, label='Predicted', color=predicted_color)\n",
    "\n",
    "\n",
    "plt.xlabel('Timestamp')\n",
    "plt.ylabel('Power')\n",
    "plt.title('sockets Power: Actual vs Predicted')\n",
    "plt.legend()\n",
    "\n",
    "\n",
    "plt.show()\n"
   ]
  },
  {
   "cell_type": "code",
   "execution_count": 15,
   "id": "111da5a0-d20d-4878-8b49-b6414a0b80d2",
   "metadata": {
    "execution": {
     "iopub.execute_input": "2023-08-14T23:30:30.283430Z",
     "iopub.status.busy": "2023-08-14T23:30:30.282640Z",
     "iopub.status.idle": "2023-08-14T23:31:01.249381Z",
     "shell.execute_reply": "2023-08-14T23:31:01.248873Z",
     "shell.execute_reply.started": "2023-08-14T23:30:30.283375Z"
    },
    "tags": []
   },
   "outputs": [
    {
     "name": "stderr",
     "output_type": "stream",
     "text": [
      "23/08/15 02:30:30 WARN TaskSetManager: Stage 152 contains a task of very large size (7657 KiB). The maximum recommended task size is 1000 KiB.\n",
      "23/08/15 02:30:31 WARN TaskSetManager: Stage 153 contains a task of very large size (1829 KiB). The maximum recommended task size is 1000 KiB.\n",
      "23/08/15 02:30:34 WARN TaskSetManager: Stage 161 contains a task of very large size (7657 KiB). The maximum recommended task size is 1000 KiB.\n",
      "23/08/15 02:30:35 WARN TaskSetManager: Stage 162 contains a task of very large size (1829 KiB). The maximum recommended task size is 1000 KiB.\n",
      "23/08/15 02:30:47 WARN TaskSetManager: Stage 213 contains a task of very large size (7657 KiB). The maximum recommended task size is 1000 KiB.\n",
      "23/08/15 02:30:48 WARN TaskSetManager: Stage 214 contains a task of very large size (1829 KiB). The maximum recommended task size is 1000 KiB.\n",
      "23/08/15 02:30:49 WARN TaskSetManager: Stage 219 contains a task of very large size (7657 KiB). The maximum recommended task size is 1000 KiB.\n",
      "23/08/15 02:30:49 WARN TaskSetManager: Stage 220 contains a task of very large size (1829 KiB). The maximum recommended task size is 1000 KiB.\n",
      "23/08/15 02:30:51 WARN TaskSetManager: Stage 225 contains a task of very large size (7657 KiB). The maximum recommended task size is 1000 KiB.\n",
      "23/08/15 02:30:51 WARN TaskSetManager: Stage 226 contains a task of very large size (1829 KiB). The maximum recommended task size is 1000 KiB.\n",
      "23/08/15 02:30:56 WARN TaskSetManager: Stage 231 contains a task of very large size (7657 KiB). The maximum recommended task size is 1000 KiB.\n",
      "23/08/15 02:30:57 WARN TaskSetManager: Stage 232 contains a task of very large size (1829 KiB). The maximum recommended task size is 1000 KiB.\n",
      "23/08/15 02:30:59 WARN TaskSetManager: Stage 237 contains a task of very large size (7657 KiB). The maximum recommended task size is 1000 KiB.\n",
      "23/08/15 02:30:59 WARN TaskSetManager: Stage 238 contains a task of very large size (1829 KiB). The maximum recommended task size is 1000 KiB.\n",
      "[Stage 237:============>    (6 + 2) / 8][Stage 238:==========>      (5 + 3) / 8]\r"
     ]
    },
    {
     "name": "stdout",
     "output_type": "stream",
     "text": [
      "Metrics for light:\n",
      "MSE: 1423.2587004554491\n",
      "RMSE: 37.72610105027353\n",
      "MAE: 24.5191180678784\n",
      "R2: -0.17016156962376372\n",
      "RMAE: 0.9601021128299332\n"
     ]
    },
    {
     "name": "stderr",
     "output_type": "stream",
     "text": [
      "                                                                                \r"
     ]
    }
   ],
   "source": [
    "from pyspark.ml import Pipeline\n",
    "from pyspark.ml.regression import RandomForestRegressor\n",
    "from pyspark.ml.feature import VectorAssembler, MinMaxScaler\n",
    "from pyspark.ml.evaluation import RegressionEvaluator\n",
    "\n",
    "\n",
    "# Create vector assembler for input columns\n",
    "assembler_light = VectorAssembler(inputCols=input_cols['light'], outputCol='features')\n",
    "\n",
    "# Create scaler\n",
    "scaler_light = MinMaxScaler(inputCol='features', outputCol='scaled_features')\n",
    "\n",
    "# Create random forest regressor\n",
    "rf_light = RandomForestRegressor(featuresCol='scaled_features', labelCol=output_cols['light'], numTrees=50, maxDepth=10)\n",
    "\n",
    "# Create pipeline\n",
    "pipeline_light = Pipeline(stages=[assembler_light, scaler_light, rf_light])\n",
    "\n",
    "# Fit pipeline on train data\n",
    "pipeline_model_light = pipeline_light.fit(light_train)\n",
    "\n",
    "# Make predictions on test data\n",
    "predictions_light = pipeline_model_light.transform(light_test)\n",
    "\n",
    "# Evaluate the model on the predicted column\n",
    "evaluator_mse_light = RegressionEvaluator(labelCol=output_cols['light'], predictionCol='prediction', metricName='mse')\n",
    "mse_light = evaluator_mse_light.evaluate(predictions_light)\n",
    "\n",
    "evaluator_rmse_light = RegressionEvaluator(labelCol=output_cols['light'], predictionCol='prediction', metricName='rmse')\n",
    "rmse_light = evaluator_rmse_light.evaluate(predictions_light)\n",
    "\n",
    "evaluator_mae_light = RegressionEvaluator(labelCol=output_cols['light'], predictionCol='prediction', metricName='mae')\n",
    "mae_light = evaluator_mae_light.evaluate(predictions_light)\n",
    "\n",
    "evaluator_r2_light = RegressionEvaluator(labelCol=output_cols['light'], predictionCol='prediction', metricName='r2')\n",
    "r2_light = evaluator_r2_light.evaluate(predictions_light)\n",
    "\n",
    "mean_actual = predictions_light.selectExpr(f\"avg({output_cols['light']}) as mean_actual\").collect()[0][\"mean_actual\"]\n",
    "rmae_light = mae_light / mean_actual\n",
    "\n",
    "# Store the evaluation results\n",
    "evaluation_results['light'] = {'MSE': mse_light, 'RMSE': rmse_light, 'MAE': mae_light, 'R2': r2_light, 'RMAE': rmae_light}\n",
    "\n",
    "# Print the evaluation metrics\n",
    "print(\"Metrics for light:\")\n",
    "print(\"MSE:\", mse_light)\n",
    "print(\"RMSE:\", rmse_light)\n",
    "print(\"MAE:\", mae_light)\n",
    "print(\"R2:\", r2_light)\n",
    "print(\"RMAE:\", rmae_light)\n",
    "\n"
   ]
  },
  {
   "cell_type": "code",
   "execution_count": 16,
   "id": "043678f5-fce2-4e3c-b7cc-448ef8695a3d",
   "metadata": {
    "execution": {
     "iopub.execute_input": "2023-08-14T23:31:15.528225Z",
     "iopub.status.busy": "2023-08-14T23:31:15.527480Z",
     "iopub.status.idle": "2023-08-14T23:31:29.788763Z",
     "shell.execute_reply": "2023-08-14T23:31:29.788475Z",
     "shell.execute_reply.started": "2023-08-14T23:31:15.528193Z"
    },
    "tags": []
   },
   "outputs": [
    {
     "name": "stderr",
     "output_type": "stream",
     "text": [
      "23/08/15 02:31:15 WARN TaskSetManager: Stage 246 contains a task of very large size (7657 KiB). The maximum recommended task size is 1000 KiB.\n",
      "23/08/15 02:31:16 WARN TaskSetManager: Stage 247 contains a task of very large size (1829 KiB). The maximum recommended task size is 1000 KiB.\n",
      "23/08/15 02:31:17 WARN TaskSetManager: Stage 251 contains a task of very large size (7657 KiB). The maximum recommended task size is 1000 KiB.\n",
      "23/08/15 02:31:18 WARN TaskSetManager: Stage 252 contains a task of very large size (1829 KiB). The maximum recommended task size is 1000 KiB.\n",
      "23/08/15 02:31:23 WARN TaskSetManager: Stage 256 contains a task of very large size (7657 KiB). The maximum recommended task size is 1000 KiB.\n",
      "23/08/15 02:31:24 WARN TaskSetManager: Stage 257 contains a task of very large size (1829 KiB). The maximum recommended task size is 1000 KiB.\n",
      "                                                                                \r"
     ]
    },
    {
     "data": {
      "image/png": "[encoded data removed]",
      "text/plain": [
       "<Figure size 1200x600 with 1 Axes>"
      ]
     },
     "metadata": {},
     "output_type": "display_data"
    }
   ],
   "source": [
    "\n",
    "import matplotlib.pyplot as plt\n",
    "\n",
    "# Extract the actual values and predicted values from the predictions DataFrame\n",
    "actual_values = predictions_light.select(output_cols['light']).collect()\n",
    "predicted_values = predictions_light.select('prediction').collect()\n",
    "\n",
    "\n",
    "timestamps = light_test.select('TIMESTAMP').collect()\n",
    "\n",
    "\n",
    "timestamps = [row['TIMESTAMP'] for row in timestamps]\n",
    "actual_values = [row[output_cols['light']] for row in actual_values]\n",
    "predicted_values = [row['prediction'] for row in predicted_values]\n",
    "\n",
    "\n",
    "background_color = 'indigo'\n",
    "actual_color = 'orange'\n",
    "predicted_color = 'green'\n",
    "\n",
    "\n",
    "plt.figure(figsize=(12, 6))\n",
    "plt.gca().set_facecolor(background_color)\n",
    "\n",
    "\n",
    "plt.plot(timestamps, actual_values, label='Actual', color=actual_color)\n",
    "plt.plot(timestamps, predicted_values, label='Predicted', color=predicted_color)\n",
    "\n",
    "\n",
    "plt.xlabel('Timestamp')\n",
    "plt.ylabel('Power')\n",
    "plt.title('light Power: Actual vs Predicted')\n",
    "plt.legend()\n",
    "\n",
    "\n",
    "plt.show()\n"
   ]
  },
  {
   "cell_type": "code",
   "execution_count": null,
   "id": "49ce8462-95b2-4a13-bae8-c0fd75042f3a",
   "metadata": {},
   "outputs": [],
   "source": []
  },
  {
   "cell_type": "code",
   "execution_count": null,
   "id": "5a773f40-5cee-4417-b1c3-90387d14e37f",
   "metadata": {},
   "outputs": [],
   "source": []
  },
  {
   "cell_type": "code",
   "execution_count": null,
   "id": "ef6a817b-67e3-4654-afca-c1462d285561",
   "metadata": {},
   "outputs": [],
   "source": []
  },
  {
   "cell_type": "code",
   "execution_count": null,
   "id": "97ab6e48-15c8-4b93-925f-2ced6d2847ba",
   "metadata": {},
   "outputs": [],
   "source": []
  },
  {
   "cell_type": "code",
   "execution_count": null,
   "id": "73263920-1758-4847-942b-eb6366fbb710",
   "metadata": {},
   "outputs": [],
   "source": []
  },
  {
   "cell_type": "code",
   "execution_count": null,
   "id": "b3f099a2-b188-422e-8f14-bcaa65b6fcee",
   "metadata": {},
   "outputs": [],
   "source": []
  },
  {
   "cell_type": "code",
   "execution_count": null,
   "id": "5feedd9a-9de5-42f6-940e-eb96ae1684a8",
   "metadata": {},
   "outputs": [],
   "source": []
  },
  {
   "cell_type": "code",
   "execution_count": null,
   "id": "80c15029-ef14-4383-80b0-e624774feb8c",
   "metadata": {},
   "outputs": [],
   "source": []
  },
  {
   "cell_type": "code",
   "execution_count": null,
   "id": "3cdb933e-be95-40b3-84e9-e852c6bb22e9",
   "metadata": {},
   "outputs": [],
   "source": []
  },
  {
   "cell_type": "code",
   "execution_count": null,
   "id": "9c174e96-0363-4138-8aa4-b0af170357dd",
   "metadata": {},
   "outputs": [],
   "source": []
  },
  {
   "cell_type": "code",
   "execution_count": null,
   "id": "5c0e4d9a-2cf0-492d-b5fb-8786d8ed41c1",
   "metadata": {},
   "outputs": [],
   "source": []
  },
  {
   "cell_type": "code",
   "execution_count": null,
   "id": "341565ec-f4e1-4652-adaf-fc82507e7b3a",
   "metadata": {},
   "outputs": [],
   "source": []
  }
 ],
 "metadata": {
  "kernelspec": {
   "display_name": "Python 3 (ipykernel)",
   "language": "python",
   "name": "python3"
  },
  "language_info": {
   "codemirror_mode": {
    "name": "ipython",
    "version": 3
   },
   "file_extension": ".py",
   "mimetype": "text/x-python",
   "name": "python",
   "nbconvert_exporter": "python",
   "pygments_lexer": "ipython3",
   "version": "3.8.16"
  },
  "widgets": {
   "application/vnd.jupyter.widget-state+json": {
    "state": {},
    "version_major": 2,
    "version_minor": 0
   }
  }
 },
 "nbformat": 4,
 "nbformat_minor": 5
}
